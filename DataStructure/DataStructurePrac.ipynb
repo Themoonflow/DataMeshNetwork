{
 "cells": [
  {
   "cell_type": "markdown",
   "id": "619beb6f",
   "metadata": {},
   "source": [
    "# 1. List"
   ]
  },
  {
   "cell_type": "markdown",
   "id": "07c16d87",
   "metadata": {},
   "source": [
    "- List is an ordered collection of items\n",
    "- Different Data Types\n",
    "- Item in the list an be changed or replaced\n",
    "- Mutable"
   ]
  },
  {
   "cell_type": "markdown",
   "id": "881c3999",
   "metadata": {},
   "source": [
    "![List](https://astikanand.github.io/techblogs/python/assets/python_lists.png)"
   ]
  },
  {
   "cell_type": "markdown",
   "id": "fd26d636",
   "metadata": {},
   "source": [
    "### 1.1 Initialization"
   ]
  },
  {
   "cell_type": "markdown",
   "id": "850fcb74",
   "metadata": {},
   "source": [
    "list1=[ ]\n",
    "\n",
    "List2 = list()\n",
    "\n",
    "list3 = [2, \"astik\", 5, 9]"
   ]
  },
  {
   "cell_type": "code",
   "execution_count": 99,
   "id": "6c3d1511",
   "metadata": {},
   "outputs": [],
   "source": [
    "list1 = [0,2,100, 5.6, 'apple', 'pear', ['Athena', 'Apollo', 'Zeus']]"
   ]
  },
  {
   "cell_type": "code",
   "execution_count": 100,
   "id": "488e9ae5",
   "metadata": {},
   "outputs": [
    {
     "name": "stdout",
     "output_type": "stream",
     "text": [
      "list is [0, 2, 100, 5.6, 'apple', 'pear', ['Athena', 'Apollo', 'Zeus']]\n"
     ]
    }
   ],
   "source": [
    "print(\"list is {}\".format(list1))"
   ]
  },
  {
   "cell_type": "code",
   "execution_count": 101,
   "id": "7292999b",
   "metadata": {},
   "outputs": [],
   "source": [
    "list2 = ['Cat', 'Turtle', 'Dog', 'Rabbit', 'Duck']"
   ]
  },
  {
   "cell_type": "code",
   "execution_count": 102,
   "id": "922b7ae3",
   "metadata": {},
   "outputs": [
    {
     "data": {
      "text/plain": [
       "['Cat', 'Turtle', 'Dog', 'Rabbit', 'Duck']"
      ]
     },
     "execution_count": 102,
     "metadata": {},
     "output_type": "execute_result"
    }
   ],
   "source": [
    "list2"
   ]
  },
  {
   "cell_type": "markdown",
   "id": "3ea735d3",
   "metadata": {},
   "source": [
    "### 1.2 List Sort"
   ]
  },
  {
   "cell_type": "code",
   "execution_count": 103,
   "id": "5c07b886",
   "metadata": {},
   "outputs": [],
   "source": [
    "# Sort order Aplphabet A-Z\n",
    "list2.sort()"
   ]
  },
  {
   "cell_type": "code",
   "execution_count": 104,
   "id": "d8fdafcd",
   "metadata": {},
   "outputs": [
    {
     "data": {
      "text/plain": [
       "['Cat', 'Dog', 'Duck', 'Rabbit', 'Turtle']"
      ]
     },
     "execution_count": 104,
     "metadata": {},
     "output_type": "execute_result"
    }
   ],
   "source": [
    "list2"
   ]
  },
  {
   "cell_type": "code",
   "execution_count": 105,
   "id": "a1971013",
   "metadata": {},
   "outputs": [],
   "source": [
    "list3 = list1+list2"
   ]
  },
  {
   "cell_type": "code",
   "execution_count": 106,
   "id": "35a9ecb6",
   "metadata": {},
   "outputs": [
    {
     "data": {
      "text/plain": [
       "[0,\n",
       " 2,\n",
       " 100,\n",
       " 5.6,\n",
       " 'apple',\n",
       " 'pear',\n",
       " ['Athena', 'Apollo', 'Zeus'],\n",
       " 'Cat',\n",
       " 'Dog',\n",
       " 'Duck',\n",
       " 'Rabbit',\n",
       " 'Turtle']"
      ]
     },
     "execution_count": 106,
     "metadata": {},
     "output_type": "execute_result"
    }
   ],
   "source": [
    "list3"
   ]
  },
  {
   "cell_type": "code",
   "execution_count": 107,
   "id": "f6f89ee7",
   "metadata": {},
   "outputs": [
    {
     "data": {
      "text/plain": [
       "['Athena', 'Apollo', 'Zeus']"
      ]
     },
     "execution_count": 107,
     "metadata": {},
     "output_type": "execute_result"
    }
   ],
   "source": [
    "list3[6]"
   ]
  },
  {
   "cell_type": "code",
   "execution_count": 108,
   "id": "f23e02b4",
   "metadata": {},
   "outputs": [],
   "source": [
    "list4 = list2+list1"
   ]
  },
  {
   "cell_type": "code",
   "execution_count": 109,
   "id": "0ef4637f",
   "metadata": {},
   "outputs": [
    {
     "data": {
      "text/plain": [
       "['Cat',\n",
       " 'Dog',\n",
       " 'Duck',\n",
       " 'Rabbit',\n",
       " 'Turtle',\n",
       " 0,\n",
       " 2,\n",
       " 100,\n",
       " 5.6,\n",
       " 'apple',\n",
       " 'pear',\n",
       " ['Athena', 'Apollo', 'Zeus']]"
      ]
     },
     "execution_count": 109,
     "metadata": {},
     "output_type": "execute_result"
    }
   ],
   "source": [
    "list4"
   ]
  },
  {
   "cell_type": "code",
   "execution_count": 110,
   "id": "e2444ef7",
   "metadata": {},
   "outputs": [],
   "source": [
    "list1.append(2)"
   ]
  },
  {
   "cell_type": "code",
   "execution_count": 111,
   "id": "8d1e6486",
   "metadata": {},
   "outputs": [
    {
     "data": {
      "text/plain": [
       "[0, 2, 100, 5.6, 'apple', 'pear', ['Athena', 'Apollo', 'Zeus'], 2]"
      ]
     },
     "execution_count": 111,
     "metadata": {},
     "output_type": "execute_result"
    }
   ],
   "source": [
    "list1"
   ]
  },
  {
   "cell_type": "code",
   "execution_count": 112,
   "id": "1fcc7826",
   "metadata": {},
   "outputs": [],
   "source": [
    "list1.append(list2)"
   ]
  },
  {
   "cell_type": "code",
   "execution_count": 113,
   "id": "52b47c56",
   "metadata": {},
   "outputs": [
    {
     "data": {
      "text/plain": [
       "[0,\n",
       " 2,\n",
       " 100,\n",
       " 5.6,\n",
       " 'apple',\n",
       " 'pear',\n",
       " ['Athena', 'Apollo', 'Zeus'],\n",
       " 2,\n",
       " ['Cat', 'Dog', 'Duck', 'Rabbit', 'Turtle']]"
      ]
     },
     "execution_count": 113,
     "metadata": {},
     "output_type": "execute_result"
    }
   ],
   "source": [
    "list1"
   ]
  },
  {
   "cell_type": "code",
   "execution_count": 114,
   "id": "31e42289",
   "metadata": {},
   "outputs": [
    {
     "data": {
      "text/plain": [
       "['Cat',\n",
       " 'Dog',\n",
       " 'Duck',\n",
       " 'Rabbit',\n",
       " 'Turtle',\n",
       " 0,\n",
       " 2,\n",
       " 100,\n",
       " 5.6,\n",
       " 'apple',\n",
       " 'pear',\n",
       " ['Athena', 'Apollo', 'Zeus']]"
      ]
     },
     "execution_count": 114,
     "metadata": {},
     "output_type": "execute_result"
    }
   ],
   "source": [
    "list4"
   ]
  },
  {
   "cell_type": "markdown",
   "id": "d3ad17ac",
   "metadata": {},
   "source": [
    "### 1.3 List Length, Insert\n"
   ]
  },
  {
   "cell_type": "code",
   "execution_count": 115,
   "id": "baaa9617",
   "metadata": {},
   "outputs": [],
   "source": [
    "len1=len(list1)"
   ]
  },
  {
   "cell_type": "code",
   "execution_count": 116,
   "id": "f35461d7",
   "metadata": {},
   "outputs": [
    {
     "data": {
      "text/plain": [
       "9"
      ]
     },
     "execution_count": 116,
     "metadata": {},
     "output_type": "execute_result"
    }
   ],
   "source": [
    "len1"
   ]
  },
  {
   "cell_type": "code",
   "execution_count": 117,
   "id": "f6bacffe",
   "metadata": {},
   "outputs": [],
   "source": [
    "list1.append([\"grape\", \"Orange\"])"
   ]
  },
  {
   "cell_type": "code",
   "execution_count": 118,
   "id": "4c8edbc4",
   "metadata": {},
   "outputs": [
    {
     "data": {
      "text/plain": [
       "[0,\n",
       " 2,\n",
       " 100,\n",
       " 5.6,\n",
       " 'apple',\n",
       " 'pear',\n",
       " ['Athena', 'Apollo', 'Zeus'],\n",
       " 2,\n",
       " ['Cat', 'Dog', 'Duck', 'Rabbit', 'Turtle'],\n",
       " ['grape', 'Orange']]"
      ]
     },
     "execution_count": 118,
     "metadata": {},
     "output_type": "execute_result"
    }
   ],
   "source": [
    "list1"
   ]
  },
  {
   "cell_type": "code",
   "execution_count": 122,
   "id": "64295b13",
   "metadata": {},
   "outputs": [],
   "source": [
    "# Insert Data element with specific index\n",
    "list1.insert(3, \"bear\")"
   ]
  },
  {
   "cell_type": "code",
   "execution_count": 123,
   "id": "ae3d7394",
   "metadata": {},
   "outputs": [
    {
     "data": {
      "text/plain": [
       "[0,\n",
       " 2,\n",
       " 100,\n",
       " 'bear',\n",
       " 'bear',\n",
       " 5.6,\n",
       " 'apple',\n",
       " 'pear',\n",
       " ['Athena', 'Apollo', 'Zeus'],\n",
       " 2,\n",
       " ['Cat', 'Dog', 'Duck', 'Rabbit', 'Turtle'],\n",
       " ['grape', 'Orange']]"
      ]
     },
     "execution_count": 123,
     "metadata": {},
     "output_type": "execute_result"
    }
   ],
   "source": [
    "list1"
   ]
  },
  {
   "cell_type": "code",
   "execution_count": 124,
   "id": "87f0e175",
   "metadata": {},
   "outputs": [],
   "source": [
    "list1[3]=\"Tiger\""
   ]
  },
  {
   "cell_type": "code",
   "execution_count": 125,
   "id": "00316f69",
   "metadata": {},
   "outputs": [
    {
     "data": {
      "text/plain": [
       "[0,\n",
       " 2,\n",
       " 100,\n",
       " 'Tiger',\n",
       " 'bear',\n",
       " 5.6,\n",
       " 'apple',\n",
       " 'pear',\n",
       " ['Athena', 'Apollo', 'Zeus'],\n",
       " 2,\n",
       " ['Cat', 'Dog', 'Duck', 'Rabbit', 'Turtle'],\n",
       " ['grape', 'Orange']]"
      ]
     },
     "execution_count": 125,
     "metadata": {},
     "output_type": "execute_result"
    }
   ],
   "source": [
    "list1"
   ]
  },
  {
   "cell_type": "markdown",
   "id": "8cbf8a3e",
   "metadata": {},
   "source": [
    "### 1.4 Remove"
   ]
  },
  {
   "cell_type": "markdown",
   "id": "1460e75e",
   "metadata": {},
   "source": [
    "list.pop()\n",
    "\n",
    "list.pop(index)\n",
    "\n",
    "list.remove(element)\n",
    "\n",
    "del list[index]"
   ]
  },
  {
   "cell_type": "code",
   "execution_count": 128,
   "id": "efa763d4",
   "metadata": {},
   "outputs": [
    {
     "data": {
      "text/plain": [
       "['grape', 'Orange']"
      ]
     },
     "execution_count": 128,
     "metadata": {},
     "output_type": "execute_result"
    }
   ],
   "source": [
    "# Remove last element\n",
    "list1.pop()"
   ]
  },
  {
   "cell_type": "code",
   "execution_count": 129,
   "id": "f5d212ab",
   "metadata": {},
   "outputs": [
    {
     "data": {
      "text/plain": [
       "[0,\n",
       " 2,\n",
       " 100,\n",
       " 'Tiger',\n",
       " 'bear',\n",
       " 'apple',\n",
       " 'pear',\n",
       " ['Athena', 'Apollo', 'Zeus'],\n",
       " 2,\n",
       " ['Cat', 'Dog', 'Duck', 'Rabbit', 'Turtle']]"
      ]
     },
     "execution_count": 129,
     "metadata": {},
     "output_type": "execute_result"
    }
   ],
   "source": [
    "list1"
   ]
  },
  {
   "cell_type": "code",
   "execution_count": 131,
   "id": "bc2a29c4",
   "metadata": {},
   "outputs": [],
   "source": [
    "# Remove the element at given index"
   ]
  },
  {
   "cell_type": "code",
   "execution_count": 132,
   "id": "b1505f0d",
   "metadata": {},
   "outputs": [
    {
     "data": {
      "text/plain": [
       "'bear'"
      ]
     },
     "execution_count": 132,
     "metadata": {},
     "output_type": "execute_result"
    }
   ],
   "source": [
    "list1.pop(4)"
   ]
  },
  {
   "cell_type": "code",
   "execution_count": 133,
   "id": "70d8c0db",
   "metadata": {},
   "outputs": [
    {
     "data": {
      "text/plain": [
       "[0,\n",
       " 2,\n",
       " 100,\n",
       " 'Tiger',\n",
       " 'pear',\n",
       " ['Athena', 'Apollo', 'Zeus'],\n",
       " 2,\n",
       " ['Cat', 'Dog', 'Duck', 'Rabbit', 'Turtle']]"
      ]
     },
     "execution_count": 133,
     "metadata": {},
     "output_type": "execute_result"
    }
   ],
   "source": [
    "list1"
   ]
  },
  {
   "cell_type": "code",
   "execution_count": 138,
   "id": "4cdc0e75",
   "metadata": {},
   "outputs": [],
   "source": [
    "# Remove the first occurrence of the elment from the list\n",
    "list1.remove(\"pear\")"
   ]
  },
  {
   "cell_type": "code",
   "execution_count": 139,
   "id": "07623b79",
   "metadata": {},
   "outputs": [
    {
     "data": {
      "text/plain": [
       "[0,\n",
       " 2,\n",
       " 100,\n",
       " ['Athena', 'Apollo', 'Zeus'],\n",
       " 2,\n",
       " ['Cat', 'Dog', 'Duck', 'Rabbit', 'Turtle']]"
      ]
     },
     "execution_count": 139,
     "metadata": {},
     "output_type": "execute_result"
    }
   ],
   "source": [
    "list1"
   ]
  },
  {
   "cell_type": "code",
   "execution_count": 130,
   "id": "11c1df1e",
   "metadata": {},
   "outputs": [],
   "source": [
    "# Delete index == 5 element\n",
    "del list1[5]"
   ]
  },
  {
   "cell_type": "code",
   "execution_count": 142,
   "id": "e8337648",
   "metadata": {},
   "outputs": [
    {
     "data": {
      "text/plain": [
       "[0,\n",
       " 2,\n",
       " 100,\n",
       " ['Athena', 'Apollo', 'Zeus'],\n",
       " 2,\n",
       " ['Cat', 'Dog', 'Duck', 'Rabbit', 'Turtle']]"
      ]
     },
     "execution_count": 142,
     "metadata": {},
     "output_type": "execute_result"
    }
   ],
   "source": [
    "list1"
   ]
  },
  {
   "cell_type": "code",
   "execution_count": 121,
   "id": "745028ad",
   "metadata": {},
   "outputs": [
    {
     "data": {
      "text/plain": [
       "[0,\n",
       " 2,\n",
       " 100,\n",
       " 'bear',\n",
       " 5.6,\n",
       " 'apple',\n",
       " 'pear',\n",
       " ['Athena', 'Apollo', 'Zeus'],\n",
       " 2,\n",
       " ['Cat', 'Dog', 'Duck', 'Rabbit', 'Turtle'],\n",
       " ['grape', 'Orange']]"
      ]
     },
     "execution_count": 121,
     "metadata": {},
     "output_type": "execute_result"
    }
   ],
   "source": [
    "list1.index()"
   ]
  },
  {
   "cell_type": "markdown",
   "id": "d2779fe1",
   "metadata": {},
   "source": [
    "### 1.5 Get list Info"
   ]
  },
  {
   "cell_type": "code",
   "execution_count": 143,
   "id": "6adafaae",
   "metadata": {},
   "outputs": [
    {
     "data": {
      "text/plain": [
       "1"
      ]
     },
     "execution_count": 143,
     "metadata": {},
     "output_type": "execute_result"
    }
   ],
   "source": [
    "# Get Index\n",
    "list1.index(2)"
   ]
  },
  {
   "cell_type": "code",
   "execution_count": 147,
   "id": "d94ca509",
   "metadata": {},
   "outputs": [
    {
     "data": {
      "text/plain": [
       "True"
      ]
     },
     "execution_count": 147,
     "metadata": {},
     "output_type": "execute_result"
    }
   ],
   "source": [
    "# Check Membership: In the list == True; Not in the list == False.\n",
    "['Athena', 'Apollo', 'Zeus'] in list1"
   ]
  },
  {
   "cell_type": "markdown",
   "id": "a0882437",
   "metadata": {},
   "source": [
    "### 1.6 Slicing"
   ]
  },
  {
   "cell_type": "code",
   "execution_count": 152,
   "id": "427865da",
   "metadata": {},
   "outputs": [],
   "source": [
    "list2.append(\"Eagle\")"
   ]
  },
  {
   "cell_type": "code",
   "execution_count": 158,
   "id": "90d88f9e",
   "metadata": {},
   "outputs": [
    {
     "data": {
      "text/plain": [
       "['Cat',\n",
       " 'Dog',\n",
       " 'Duck',\n",
       " 'Rabbit',\n",
       " 'Turtle',\n",
       " 'Eagle',\n",
       " 'Panda',\n",
       " 'Coyote',\n",
       " 'Panda',\n",
       " 'Coyote',\n",
       " 'Panda',\n",
       " 'Coyote',\n",
       " 'Butterfly',\n",
       " 'Panda',\n",
       " 'Coyote',\n",
       " 'Butterfly']"
      ]
     },
     "execution_count": 158,
     "metadata": {},
     "output_type": "execute_result"
    }
   ],
   "source": [
    "list2=list2+[\"Panda\", \"Coyote\"]+[\"Butterfly\"]\n",
    "list2"
   ]
  },
  {
   "cell_type": "code",
   "execution_count": 156,
   "id": "b3616886",
   "metadata": {},
   "outputs": [
    {
     "data": {
      "text/plain": [
       "['Duck', 'Rabbit', 'Turtle']"
      ]
     },
     "execution_count": 156,
     "metadata": {},
     "output_type": "execute_result"
    }
   ],
   "source": [
    "# slice out the elements from index 2 to 4. [2 ~ n) 2~n-1\n",
    "list2[2:5]"
   ]
  },
  {
   "cell_type": "code",
   "execution_count": 161,
   "id": "ab96f117",
   "metadata": {},
   "outputs": [
    {
     "data": {
      "text/plain": [
       "4"
      ]
     },
     "execution_count": 161,
     "metadata": {},
     "output_type": "execute_result"
    }
   ],
   "source": [
    "# Count the number of occurrences of element in list\n",
    "list2.count(\"Coyote\")"
   ]
  },
  {
   "cell_type": "code",
   "execution_count": 163,
   "id": "a19f12ff",
   "metadata": {},
   "outputs": [
    {
     "data": {
      "text/plain": [
       "1"
      ]
     },
     "execution_count": 163,
     "metadata": {},
     "output_type": "execute_result"
    }
   ],
   "source": [
    "list2.count(\"Eagle\")"
   ]
  },
  {
   "cell_type": "code",
   "execution_count": 168,
   "id": "8f0250d3",
   "metadata": {},
   "outputs": [],
   "source": [
    "# Sort the list\n",
    "list2.sort()"
   ]
  },
  {
   "cell_type": "code",
   "execution_count": 169,
   "id": "67aa6fa2",
   "metadata": {},
   "outputs": [
    {
     "data": {
      "text/plain": [
       "['Butterfly',\n",
       " 'Butterfly',\n",
       " 'Cat',\n",
       " 'Coyote',\n",
       " 'Coyote',\n",
       " 'Coyote',\n",
       " 'Coyote',\n",
       " 'Dog',\n",
       " 'Duck',\n",
       " 'Eagle',\n",
       " 'Panda',\n",
       " 'Panda',\n",
       " 'Panda',\n",
       " 'Panda',\n",
       " 'Rabbit',\n",
       " 'Turtle']"
      ]
     },
     "execution_count": 169,
     "metadata": {},
     "output_type": "execute_result"
    }
   ],
   "source": [
    "list2"
   ]
  },
  {
   "cell_type": "code",
   "execution_count": 174,
   "id": "6536bc63",
   "metadata": {},
   "outputs": [],
   "source": [
    "# Reverse the list\n",
    "list2.reverse()"
   ]
  },
  {
   "cell_type": "code",
   "execution_count": 173,
   "id": "3c76f191",
   "metadata": {},
   "outputs": [
    {
     "data": {
      "text/plain": [
       "['Turtle',\n",
       " 'Rabbit',\n",
       " 'Panda',\n",
       " 'Panda',\n",
       " 'Panda',\n",
       " 'Panda',\n",
       " 'Eagle',\n",
       " 'Duck',\n",
       " 'Dog',\n",
       " 'Coyote',\n",
       " 'Coyote',\n",
       " 'Coyote',\n",
       " 'Coyote',\n",
       " 'Cat',\n",
       " 'Butterfly',\n",
       " 'Butterfly']"
      ]
     },
     "execution_count": 173,
     "metadata": {},
     "output_type": "execute_result"
    }
   ],
   "source": [
    "list2"
   ]
  },
  {
   "cell_type": "markdown",
   "id": "b507c31f",
   "metadata": {},
   "source": [
    "# 2. Dictionary"
   ]
  },
  {
   "cell_type": "markdown",
   "id": "f92a3669",
   "metadata": {},
   "source": [
    "- Anunordered collection of data values, used to store data values like a map.\n",
    "- key:value pair.\n",
    "- Each key-value pair in a Dictionary is separated by a colon :, whereas each key is separated by a ‘comma’.\n",
    "- Keys of a Dictionary must be unique and of immutable data type such as Strings, Integers and tuples, but the key-values can be repeated and be of any type."
   ]
  },
  {
   "cell_type": "markdown",
   "id": "cd5b3315",
   "metadata": {},
   "source": [
    "![Dictionary](https://astikanand.github.io/techblogs/python/assets/python_dictionary.png)"
   ]
  },
  {
   "cell_type": "markdown",
   "id": "e15f7a1e",
   "metadata": {},
   "source": [
    "### 2.1 Initialize Dictionary"
   ]
  },
  {
   "cell_type": "code",
   "execution_count": 177,
   "id": "b5150a9d",
   "metadata": {},
   "outputs": [
    {
     "name": "stdout",
     "output_type": "stream",
     "text": [
      "Initial Dict = {1: 'abcd', 'apples': 3, 'fruits': ['apples', 'mangoes'], 'Names': ['Charlie', 'Sunny', 'Sky']}\n"
     ]
    }
   ],
   "source": [
    "# initialize\n",
    "dict1 = {1: \"abcd\", \"apples\": 3, \"fruits\": [\"apples\", \"mangoes\"], \"Names\":['Charlie', 'Sunny', 'Sky'] }\n",
    "print(\"Initial Dict = {}\".format(dict1))"
   ]
  },
  {
   "cell_type": "code",
   "execution_count": 178,
   "id": "93e58cdd",
   "metadata": {},
   "outputs": [
    {
     "data": {
      "text/plain": [
       "{1: 'abcd',\n",
       " 'apples': 3,\n",
       " 'fruits': ['apples', 'mangoes'],\n",
       " 'Names': ['Charlie', 'Sunny', 'Sky']}"
      ]
     },
     "execution_count": 178,
     "metadata": {},
     "output_type": "execute_result"
    }
   ],
   "source": [
    "dict1"
   ]
  },
  {
   "cell_type": "code",
   "execution_count": 179,
   "id": "0e5fdd4b",
   "metadata": {},
   "outputs": [],
   "source": [
    "#Insert Key:Value Pair\n",
    "dict1[2]=5"
   ]
  },
  {
   "cell_type": "code",
   "execution_count": 180,
   "id": "1872c8ca",
   "metadata": {},
   "outputs": [
    {
     "data": {
      "text/plain": [
       "{1: 'abcd',\n",
       " 'apples': 3,\n",
       " 'fruits': ['apples', 'mangoes'],\n",
       " 'Names': ['Charlie', 'Sunny', 'Sky'],\n",
       " 2: 5}"
      ]
     },
     "execution_count": 180,
     "metadata": {},
     "output_type": "execute_result"
    }
   ],
   "source": [
    "dict1"
   ]
  },
  {
   "cell_type": "code",
   "execution_count": 182,
   "id": "1bed6e9c",
   "metadata": {},
   "outputs": [
    {
     "data": {
      "text/plain": [
       "5"
      ]
     },
     "execution_count": 182,
     "metadata": {},
     "output_type": "execute_result"
    }
   ],
   "source": [
    "len(dict1)"
   ]
  },
  {
   "cell_type": "code",
   "execution_count": 185,
   "id": "37e1e6b1",
   "metadata": {},
   "outputs": [
    {
     "name": "stdout",
     "output_type": "stream",
     "text": [
      "Key = apples and Val = 3\n",
      "Key = fruits and Val = ['apples', 'mangoes']\n",
      "Key = mangoes and Val = False\n",
      "Key = mangoes and Val = True\n",
      "Key = Names and Val = ['Charlie', 'Sunny', 'Sky']\n",
      "\n"
     ]
    }
   ],
   "source": [
    "print(\"Key = {} and Val = {}\".format(\"apples\", dict1[\"apples\"]))\n",
    "print(\"Key = {} and Val = {}\".format(\"fruits\", dict1.get(\"fruits\", False)))\n",
    "print(\"Key = {} and Val = {}\".format(\"mangoes\", dict1.get(\"mangoes\", False)))\n",
    "print(\"Key = {} and Val = {}\".format(\"mangoes\", dict1.get(\"mangoes\", True)))\n",
    "print(\"Key = {} and Val = {}\\n\".format(\"Names\", dict1.get(\"Names\", True)))"
   ]
  },
  {
   "cell_type": "code",
   "execution_count": 190,
   "id": "caadb8da",
   "metadata": {},
   "outputs": [],
   "source": [
    "a = dict1.get(\"Names\"， False)"
   ]
  },
  {
   "cell_type": "code",
   "execution_count": 193,
   "id": "2362fc1f",
   "metadata": {},
   "outputs": [],
   "source": [
    "b = dict1.get(\"Names\", True)"
   ]
  },
  {
   "cell_type": "code",
   "execution_count": 194,
   "id": "89ad923a",
   "metadata": {},
   "outputs": [
    {
     "data": {
      "text/plain": [
       "['Charlie', 'Sunny', 'Sky']"
      ]
     },
     "execution_count": 194,
     "metadata": {},
     "output_type": "execute_result"
    }
   ],
   "source": [
    "a"
   ]
  },
  {
   "cell_type": "code",
   "execution_count": 195,
   "id": "c57d1f29",
   "metadata": {},
   "outputs": [
    {
     "data": {
      "text/plain": [
       "['Charlie', 'Sunny', 'Sky']"
      ]
     },
     "execution_count": 195,
     "metadata": {},
     "output_type": "execute_result"
    }
   ],
   "source": [
    "b"
   ]
  },
  {
   "cell_type": "code",
   "execution_count": 199,
   "id": "a266a429",
   "metadata": {},
   "outputs": [
    {
     "name": "stdout",
     "output_type": "stream",
     "text": [
      "<built-in method keys of dict object at 0x7fd2a122c140>\n"
     ]
    }
   ],
   "source": [
    "print(dict1.keys)"
   ]
  },
  {
   "cell_type": "code",
   "execution_count": 200,
   "id": "d2951111",
   "metadata": {},
   "outputs": [
    {
     "name": "stdout",
     "output_type": "stream",
     "text": [
      "dict1's keys is <built-in method keys of dict object at 0x7fd2a122c140>\n"
     ]
    }
   ],
   "source": [
    "print(\"dict1's keys is {}\".format(dict1.keys))"
   ]
  },
  {
   "cell_type": "markdown",
   "id": "842d4b1d",
   "metadata": {},
   "source": [
    "### 2.2 Membership Check"
   ]
  },
  {
   "cell_type": "code",
   "execution_count": 204,
   "id": "7de91698",
   "metadata": {},
   "outputs": [
    {
     "data": {
      "text/plain": [
       "True"
      ]
     },
     "execution_count": 204,
     "metadata": {},
     "output_type": "execute_result"
    }
   ],
   "source": [
    "# Check whether the key in the dictionary\n",
    "\"Names\" in dict1"
   ]
  },
  {
   "cell_type": "code",
   "execution_count": 205,
   "id": "7eef89ae",
   "metadata": {},
   "outputs": [
    {
     "data": {
      "text/plain": [
       "False"
      ]
     },
     "execution_count": 205,
     "metadata": {},
     "output_type": "execute_result"
    }
   ],
   "source": [
    "# Not check data elements. only check the Keys. \n",
    "\"Sunny\" in dict1"
   ]
  },
  {
   "cell_type": "code",
   "execution_count": 203,
   "id": "0923bbee",
   "metadata": {},
   "outputs": [
    {
     "data": {
      "text/plain": [
       "True"
      ]
     },
     "execution_count": 203,
     "metadata": {},
     "output_type": "execute_result"
    }
   ],
   "source": [
    "'fruits' in dict1"
   ]
  },
  {
   "cell_type": "code",
   "execution_count": 206,
   "id": "ddcb6a9e",
   "metadata": {},
   "outputs": [
    {
     "name": "stdout",
     "output_type": "stream",
     "text": [
      "Is fruits in dict1? True\n"
     ]
    }
   ],
   "source": [
    "print(\"Is fruits in dict1? {}\".format(\"fruits\" in dict1))"
   ]
  },
  {
   "cell_type": "code",
   "execution_count": 209,
   "id": "a2a19a01",
   "metadata": {},
   "outputs": [
    {
     "data": {
      "text/plain": [
       "dict_items([(1, 'abcd'), ('apples', 3), ('fruits', ['apples', 'mangoes']), ('Names', ['Charlie', 'Sunny', 'Sky']), (2, 5)])"
      ]
     },
     "execution_count": 209,
     "metadata": {},
     "output_type": "execute_result"
    }
   ],
   "source": [
    "# Get set of (key, value)\n",
    "dict1.items()"
   ]
  },
  {
   "cell_type": "markdown",
   "id": "39980347",
   "metadata": {},
   "source": [
    "# 3. Tuple"
   ]
  },
  {
   "cell_type": "markdown",
   "id": "2516f9cc",
   "metadata": {},
   "source": [
    "A Tuple is a collection of Python objects separated by commas."
   ]
  },
  {
   "cell_type": "markdown",
   "id": "cb5397a0",
   "metadata": {},
   "source": [
    "Tuple is similar to a List in terms of indexing, nested objects and repetition. but Tuple is immutable; List is mutable;"
   ]
  },
  {
   "cell_type": "markdown",
   "id": "8ec8e5b9",
   "metadata": {},
   "source": [
    "### 3.1 creation of tuple"
   ]
  },
  {
   "cell_type": "code",
   "execution_count": 72,
   "id": "35d98782",
   "metadata": {},
   "outputs": [],
   "source": [
    "tup1 = ('physics', 'chemistry', 1997, 2000, 5, 7)"
   ]
  },
  {
   "cell_type": "code",
   "execution_count": 73,
   "id": "5de1c16d",
   "metadata": {},
   "outputs": [
    {
     "data": {
      "text/plain": [
       "('physics', 'chemistry', 1997, 2000, 5, 7)"
      ]
     },
     "execution_count": 73,
     "metadata": {},
     "output_type": "execute_result"
    }
   ],
   "source": [
    "tup1"
   ]
  },
  {
   "cell_type": "markdown",
   "id": "d1a192b1",
   "metadata": {},
   "source": [
    "### 3.2 Convert an array to a tuple"
   ]
  },
  {
   "cell_type": "code",
   "execution_count": 74,
   "id": "57c8f26d",
   "metadata": {},
   "outputs": [],
   "source": [
    "# Convert a array to tuple\n",
    "tup2 = tuple([2,3,4,1,5,7,9,13])"
   ]
  },
  {
   "cell_type": "code",
   "execution_count": 75,
   "id": "f472ac86",
   "metadata": {},
   "outputs": [
    {
     "data": {
      "text/plain": [
       "(2, 3, 4, 1, 5, 7, 9, 13)"
      ]
     },
     "execution_count": 75,
     "metadata": {},
     "output_type": "execute_result"
    }
   ],
   "source": [
    "tup2"
   ]
  },
  {
   "cell_type": "code",
   "execution_count": 52,
   "id": "9dbc3dc4",
   "metadata": {},
   "outputs": [
    {
     "name": "stdout",
     "output_type": "stream",
     "text": [
      "Tuple tup1 : ('physics', 'chemistry', 1997, 2000, 5, 7)\n",
      "Tuple tup2 : (2, 3, 4, 1, 5, 7, 9, 13)\n"
     ]
    }
   ],
   "source": [
    "print(\"Tuple tup1 : {}\".format(tup1))\n",
    "print(\"Tuple tup2 : {}\".format(tup2))"
   ]
  },
  {
   "cell_type": "code",
   "execution_count": 53,
   "id": "370a14eb",
   "metadata": {},
   "outputs": [
    {
     "name": "stdout",
     "output_type": "stream",
     "text": [
      "Tuple tup1's 3rd element is 1997\n",
      "Tuple tup2's 4th element is 1\n"
     ]
    }
   ],
   "source": [
    "print(\"Tuple tup1's 3rd element is {}\".format(tup1[2]))\n",
    "print(\"Tuple tup2's 4th element is {}\".format(tup2[3]))"
   ]
  },
  {
   "cell_type": "markdown",
   "id": "3f9ea6be",
   "metadata": {},
   "source": [
    "### 3.3 Get Tuple Length"
   ]
  },
  {
   "cell_type": "code",
   "execution_count": 54,
   "id": "6e32e66d",
   "metadata": {},
   "outputs": [
    {
     "data": {
      "text/plain": [
       "6"
      ]
     },
     "execution_count": 54,
     "metadata": {},
     "output_type": "execute_result"
    }
   ],
   "source": [
    "# Get the size of a Tuple\n",
    "len(tup1)"
   ]
  },
  {
   "cell_type": "code",
   "execution_count": 55,
   "id": "c0cb662c",
   "metadata": {},
   "outputs": [
    {
     "data": {
      "text/plain": [
       "8"
      ]
     },
     "execution_count": 55,
     "metadata": {},
     "output_type": "execute_result"
    }
   ],
   "source": [
    "len(tup2)"
   ]
  },
  {
   "cell_type": "markdown",
   "id": "cfe23614",
   "metadata": {},
   "source": [
    "### 3.4 Concatenation"
   ]
  },
  {
   "cell_type": "code",
   "execution_count": 56,
   "id": "e0cb2c99",
   "metadata": {},
   "outputs": [],
   "source": [
    "# Concatenation \n",
    "tup3 = tup1+tup2\n",
    "tup4 = tup2+tup1"
   ]
  },
  {
   "cell_type": "code",
   "execution_count": 57,
   "id": "198f091a",
   "metadata": {},
   "outputs": [
    {
     "data": {
      "text/plain": [
       "('physics', 'chemistry', 1997, 2000, 5, 7, 2, 3, 4, 1, 5, 7, 9, 13)"
      ]
     },
     "execution_count": 57,
     "metadata": {},
     "output_type": "execute_result"
    }
   ],
   "source": [
    "tup3"
   ]
  },
  {
   "cell_type": "code",
   "execution_count": 58,
   "id": "ab8b257f",
   "metadata": {},
   "outputs": [
    {
     "data": {
      "text/plain": [
       "(2, 3, 4, 1, 5, 7, 9, 13, 'physics', 'chemistry', 1997, 2000, 5, 7)"
      ]
     },
     "execution_count": 58,
     "metadata": {},
     "output_type": "execute_result"
    }
   ],
   "source": [
    "tup4"
   ]
  },
  {
   "cell_type": "markdown",
   "id": "93c1512b",
   "metadata": {},
   "source": [
    "### 3.5 Tuple Comparisom "
   ]
  },
  {
   "cell_type": "code",
   "execution_count": 64,
   "id": "f0f2a6c8",
   "metadata": {},
   "outputs": [],
   "source": [
    "# Find common part (intersection) between two Tuples"
   ]
  },
  {
   "cell_type": "code",
   "execution_count": 65,
   "id": "0a56c064",
   "metadata": {},
   "outputs": [],
   "source": [
    "tup1_as_set = set(tup1)\n",
    "tup2_as_set = set(tup2)"
   ]
  },
  {
   "cell_type": "code",
   "execution_count": 66,
   "id": "c5ee047c",
   "metadata": {},
   "outputs": [],
   "source": [
    "intersection=tup1_as_set.intersection(tup2_as_set)"
   ]
  },
  {
   "cell_type": "code",
   "execution_count": 67,
   "id": "f579fe43",
   "metadata": {},
   "outputs": [
    {
     "data": {
      "text/plain": [
       "{5, 7}"
      ]
     },
     "execution_count": 67,
     "metadata": {},
     "output_type": "execute_result"
    }
   ],
   "source": [
    "intersection"
   ]
  },
  {
   "cell_type": "code",
   "execution_count": 69,
   "id": "e0312fdc",
   "metadata": {},
   "outputs": [
    {
     "name": "stdout",
     "output_type": "stream",
     "text": [
      "[5, 7]\n"
     ]
    }
   ],
   "source": [
    "intersection_as_list = list(intersection)\n",
    "print(intersection_as_list)"
   ]
  },
  {
   "cell_type": "markdown",
   "id": "c4b0c2d9",
   "metadata": {},
   "source": [
    "### 3.6 Tuple Subtraction"
   ]
  },
  {
   "cell_type": "markdown",
   "id": "de90e184",
   "metadata": {},
   "source": [
    "Only numerical elements can perform subtraction operation"
   ]
  },
  {
   "cell_type": "code",
   "execution_count": 81,
   "id": "d5305fda",
   "metadata": {},
   "outputs": [
    {
     "name": "stdout",
     "output_type": "stream",
     "text": [
      "The first tuple is : \n",
      "(7, 8, 11, 0, 3)\n",
      "The second tuple is : \n",
      "(3, 2, 22, 45, 12, 9)\n",
      "The tuple after subtraction is : \n",
      "(4, 6, -11, -45, -9)\n"
     ]
    }
   ],
   "source": [
    "my_tuple_1 = tuple([7, 8, 11, 0 ,3])\n",
    "my_tuple_2 = tuple([3, 2, 22, 45, 12, 9])\n",
    "\n",
    "print (\"The first tuple is : \" )\n",
    "print(my_tuple_1)\n",
    "print (\"The second tuple is : \" )\n",
    "print(my_tuple_2)\n",
    "\n",
    "my_result = tuple(map(lambda i, j: i - j, my_tuple_1, my_tuple_2))\n",
    "\n",
    "print(\"The tuple after subtraction is : \" )\n",
    "print(my_result)"
   ]
  },
  {
   "cell_type": "code",
   "execution_count": 29,
   "id": "0e251bc2",
   "metadata": {},
   "outputs": [
    {
     "name": "stdout",
     "output_type": "stream",
     "text": [
      "chemistry present in tup1 ? : True\n",
      "chemistry present in tup2 ? : False\n",
      "\n"
     ]
    }
   ],
   "source": [
    "# Membership\n",
    "print(\"chemistry present in tup1 ? : {}\".format('chemistry' in tup1))\n",
    "print(\"chemistry present in tup2 ? : {}\\n\".format('chemistry' in tup2))"
   ]
  },
  {
   "cell_type": "code",
   "execution_count": 35,
   "id": "6f9fe49e",
   "metadata": {},
   "outputs": [],
   "source": [
    "membership_p = 'physics' in tup1"
   ]
  },
  {
   "cell_type": "code",
   "execution_count": 36,
   "id": "71b6caed",
   "metadata": {},
   "outputs": [
    {
     "data": {
      "text/plain": [
       "True"
      ]
     },
     "execution_count": 36,
     "metadata": {},
     "output_type": "execute_result"
    }
   ],
   "source": [
    "membership_p"
   ]
  },
  {
   "cell_type": "code",
   "execution_count": 38,
   "id": "754215c9",
   "metadata": {},
   "outputs": [],
   "source": [
    "membership_7 = '7' in tup2"
   ]
  },
  {
   "cell_type": "code",
   "execution_count": 39,
   "id": "2b098fb2",
   "metadata": {},
   "outputs": [
    {
     "data": {
      "text/plain": [
       "False"
      ]
     },
     "execution_count": 39,
     "metadata": {},
     "output_type": "execute_result"
    }
   ],
   "source": [
    "membership_7"
   ]
  },
  {
   "cell_type": "markdown",
   "id": "ed0fb448",
   "metadata": {},
   "source": [
    "# 4. Set"
   ]
  },
  {
   "cell_type": "code",
   "execution_count": null,
   "id": "bd4112e2",
   "metadata": {},
   "outputs": [],
   "source": []
  }
 ],
 "metadata": {
  "kernelspec": {
   "display_name": "Python 3",
   "language": "python",
   "name": "python3"
  },
  "language_info": {
   "codemirror_mode": {
    "name": "ipython",
    "version": 3
   },
   "file_extension": ".py",
   "mimetype": "text/x-python",
   "name": "python",
   "nbconvert_exporter": "python",
   "pygments_lexer": "ipython3",
   "version": "3.8.3"
  }
 },
 "nbformat": 4,
 "nbformat_minor": 5
}
