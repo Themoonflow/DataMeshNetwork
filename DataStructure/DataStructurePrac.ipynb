{
 "cells": [
  {
   "cell_type": "markdown",
   "id": "abc000e8",
   "metadata": {},
   "source": [
    "# 1. List"
   ]
  },
  {
   "cell_type": "markdown",
   "id": "fd72bcd2",
   "metadata": {},
   "source": [
    "- List is an ordered collection of items\n",
    "- Different Data Types\n",
    "- Item in the list an be changed or replaced\n",
    "- Mutable"
   ]
  },
  {
   "cell_type": "markdown",
   "id": "675f2357",
   "metadata": {},
   "source": [
    "![List](https://astikanand.github.io/techblogs/python/assets/python_lists.png)"
   ]
  },
  {
   "cell_type": "markdown",
   "id": "fa3e5269",
   "metadata": {},
   "source": [
    "### 1.1 Initialization"
   ]
  },
  {
   "cell_type": "markdown",
   "id": "c8c0b704",
   "metadata": {},
   "source": [
    "list1=[ ]\n",
    "\n",
    "List2 = list()\n",
    "\n",
    "list3 = [2, \"astik\", 5, 9]"
   ]
  },
  {
   "cell_type": "code",
   "execution_count": 99,
   "id": "3ee213e0",
   "metadata": {},
   "outputs": [],
   "source": [
    "list1 = [0,2,100, 5.6, 'apple', 'pear', ['Athena', 'Apollo', 'Zeus']]"
   ]
  },
  {
   "cell_type": "code",
   "execution_count": 100,
   "id": "3a1150bd",
   "metadata": {},
   "outputs": [
    {
     "name": "stdout",
     "output_type": "stream",
     "text": [
      "list is [0, 2, 100, 5.6, 'apple', 'pear', ['Athena', 'Apollo', 'Zeus']]\n"
     ]
    }
   ],
   "source": [
    "print(\"list is {}\".format(list1))"
   ]
  },
  {
   "cell_type": "code",
   "execution_count": 101,
   "id": "1dcf42b9",
   "metadata": {},
   "outputs": [],
   "source": [
    "list2 = ['Cat', 'Turtle', 'Dog', 'Rabbit', 'Duck']"
   ]
  },
  {
   "cell_type": "code",
   "execution_count": 102,
   "id": "5c2bdef2",
   "metadata": {},
   "outputs": [
    {
     "data": {
      "text/plain": [
       "['Cat', 'Turtle', 'Dog', 'Rabbit', 'Duck']"
      ]
     },
     "execution_count": 102,
     "metadata": {},
     "output_type": "execute_result"
    }
   ],
   "source": [
    "list2"
   ]
  },
  {
   "cell_type": "markdown",
   "id": "5084bacc",
   "metadata": {},
   "source": [
    "### 1.2 List Sort"
   ]
  },
  {
   "cell_type": "code",
   "execution_count": 103,
   "id": "e9308f82",
   "metadata": {},
   "outputs": [],
   "source": [
    "# Sort order Aplphabet A-Z\n",
    "list2.sort()"
   ]
  },
  {
   "cell_type": "code",
   "execution_count": 104,
   "id": "9ed5dc01",
   "metadata": {},
   "outputs": [
    {
     "data": {
      "text/plain": [
       "['Cat', 'Dog', 'Duck', 'Rabbit', 'Turtle']"
      ]
     },
     "execution_count": 104,
     "metadata": {},
     "output_type": "execute_result"
    }
   ],
   "source": [
    "list2"
   ]
  },
  {
   "cell_type": "code",
   "execution_count": 105,
   "id": "625e0797",
   "metadata": {},
   "outputs": [],
   "source": [
    "list3 = list1+list2"
   ]
  },
  {
   "cell_type": "code",
   "execution_count": 106,
   "id": "6867cded",
   "metadata": {},
   "outputs": [
    {
     "data": {
      "text/plain": [
       "[0,\n",
       " 2,\n",
       " 100,\n",
       " 5.6,\n",
       " 'apple',\n",
       " 'pear',\n",
       " ['Athena', 'Apollo', 'Zeus'],\n",
       " 'Cat',\n",
       " 'Dog',\n",
       " 'Duck',\n",
       " 'Rabbit',\n",
       " 'Turtle']"
      ]
     },
     "execution_count": 106,
     "metadata": {},
     "output_type": "execute_result"
    }
   ],
   "source": [
    "list3"
   ]
  },
  {
   "cell_type": "code",
   "execution_count": 107,
   "id": "04607775",
   "metadata": {},
   "outputs": [
    {
     "data": {
      "text/plain": [
       "['Athena', 'Apollo', 'Zeus']"
      ]
     },
     "execution_count": 107,
     "metadata": {},
     "output_type": "execute_result"
    }
   ],
   "source": [
    "list3[6]"
   ]
  },
  {
   "cell_type": "code",
   "execution_count": 108,
   "id": "24ee251b",
   "metadata": {},
   "outputs": [],
   "source": [
    "list4 = list2+list1"
   ]
  },
  {
   "cell_type": "code",
   "execution_count": 109,
   "id": "b8b94ecb",
   "metadata": {},
   "outputs": [
    {
     "data": {
      "text/plain": [
       "['Cat',\n",
       " 'Dog',\n",
       " 'Duck',\n",
       " 'Rabbit',\n",
       " 'Turtle',\n",
       " 0,\n",
       " 2,\n",
       " 100,\n",
       " 5.6,\n",
       " 'apple',\n",
       " 'pear',\n",
       " ['Athena', 'Apollo', 'Zeus']]"
      ]
     },
     "execution_count": 109,
     "metadata": {},
     "output_type": "execute_result"
    }
   ],
   "source": [
    "list4"
   ]
  },
  {
   "cell_type": "code",
   "execution_count": 110,
   "id": "0dedef05",
   "metadata": {},
   "outputs": [],
   "source": [
    "list1.append(2)"
   ]
  },
  {
   "cell_type": "code",
   "execution_count": 111,
   "id": "f6e474ee",
   "metadata": {},
   "outputs": [
    {
     "data": {
      "text/plain": [
       "[0, 2, 100, 5.6, 'apple', 'pear', ['Athena', 'Apollo', 'Zeus'], 2]"
      ]
     },
     "execution_count": 111,
     "metadata": {},
     "output_type": "execute_result"
    }
   ],
   "source": [
    "list1"
   ]
  },
  {
   "cell_type": "code",
   "execution_count": 112,
   "id": "b3342833",
   "metadata": {},
   "outputs": [],
   "source": [
    "list1.append(list2)"
   ]
  },
  {
   "cell_type": "code",
   "execution_count": 113,
   "id": "6158c96f",
   "metadata": {},
   "outputs": [
    {
     "data": {
      "text/plain": [
       "[0,\n",
       " 2,\n",
       " 100,\n",
       " 5.6,\n",
       " 'apple',\n",
       " 'pear',\n",
       " ['Athena', 'Apollo', 'Zeus'],\n",
       " 2,\n",
       " ['Cat', 'Dog', 'Duck', 'Rabbit', 'Turtle']]"
      ]
     },
     "execution_count": 113,
     "metadata": {},
     "output_type": "execute_result"
    }
   ],
   "source": [
    "list1"
   ]
  },
  {
   "cell_type": "code",
   "execution_count": 114,
   "id": "aa66e9fb",
   "metadata": {},
   "outputs": [
    {
     "data": {
      "text/plain": [
       "['Cat',\n",
       " 'Dog',\n",
       " 'Duck',\n",
       " 'Rabbit',\n",
       " 'Turtle',\n",
       " 0,\n",
       " 2,\n",
       " 100,\n",
       " 5.6,\n",
       " 'apple',\n",
       " 'pear',\n",
       " ['Athena', 'Apollo', 'Zeus']]"
      ]
     },
     "execution_count": 114,
     "metadata": {},
     "output_type": "execute_result"
    }
   ],
   "source": [
    "list4"
   ]
  },
  {
   "cell_type": "markdown",
   "id": "24a06a5e",
   "metadata": {},
   "source": [
    "### 1.3 List Length, Insert\n"
   ]
  },
  {
   "cell_type": "code",
   "execution_count": 115,
   "id": "726fc9bf",
   "metadata": {},
   "outputs": [],
   "source": [
    "len1=len(list1)"
   ]
  },
  {
   "cell_type": "code",
   "execution_count": 116,
   "id": "e71fa0f9",
   "metadata": {},
   "outputs": [
    {
     "data": {
      "text/plain": [
       "9"
      ]
     },
     "execution_count": 116,
     "metadata": {},
     "output_type": "execute_result"
    }
   ],
   "source": [
    "len1"
   ]
  },
  {
   "cell_type": "code",
   "execution_count": 117,
   "id": "b3fcc85f",
   "metadata": {},
   "outputs": [],
   "source": [
    "list1.append([\"grape\", \"Orange\"])"
   ]
  },
  {
   "cell_type": "code",
   "execution_count": 118,
   "id": "e2f0c6d4",
   "metadata": {},
   "outputs": [
    {
     "data": {
      "text/plain": [
       "[0,\n",
       " 2,\n",
       " 100,\n",
       " 5.6,\n",
       " 'apple',\n",
       " 'pear',\n",
       " ['Athena', 'Apollo', 'Zeus'],\n",
       " 2,\n",
       " ['Cat', 'Dog', 'Duck', 'Rabbit', 'Turtle'],\n",
       " ['grape', 'Orange']]"
      ]
     },
     "execution_count": 118,
     "metadata": {},
     "output_type": "execute_result"
    }
   ],
   "source": [
    "list1"
   ]
  },
  {
   "cell_type": "code",
   "execution_count": 122,
   "id": "255c6cff",
   "metadata": {},
   "outputs": [],
   "source": [
    "# Insert Data element with specific index\n",
    "list1.insert(3, \"bear\")"
   ]
  },
  {
   "cell_type": "code",
   "execution_count": 123,
   "id": "207348e9",
   "metadata": {},
   "outputs": [
    {
     "data": {
      "text/plain": [
       "[0,\n",
       " 2,\n",
       " 100,\n",
       " 'bear',\n",
       " 'bear',\n",
       " 5.6,\n",
       " 'apple',\n",
       " 'pear',\n",
       " ['Athena', 'Apollo', 'Zeus'],\n",
       " 2,\n",
       " ['Cat', 'Dog', 'Duck', 'Rabbit', 'Turtle'],\n",
       " ['grape', 'Orange']]"
      ]
     },
     "execution_count": 123,
     "metadata": {},
     "output_type": "execute_result"
    }
   ],
   "source": [
    "list1"
   ]
  },
  {
   "cell_type": "code",
   "execution_count": 124,
   "id": "43fe6c7a",
   "metadata": {},
   "outputs": [],
   "source": [
    "list1[3]=\"Tiger\""
   ]
  },
  {
   "cell_type": "code",
   "execution_count": 125,
   "id": "0bb5958f",
   "metadata": {},
   "outputs": [
    {
     "data": {
      "text/plain": [
       "[0,\n",
       " 2,\n",
       " 100,\n",
       " 'Tiger',\n",
       " 'bear',\n",
       " 5.6,\n",
       " 'apple',\n",
       " 'pear',\n",
       " ['Athena', 'Apollo', 'Zeus'],\n",
       " 2,\n",
       " ['Cat', 'Dog', 'Duck', 'Rabbit', 'Turtle'],\n",
       " ['grape', 'Orange']]"
      ]
     },
     "execution_count": 125,
     "metadata": {},
     "output_type": "execute_result"
    }
   ],
   "source": [
    "list1"
   ]
  },
  {
   "cell_type": "markdown",
   "id": "7f76b040",
   "metadata": {},
   "source": [
    "### 1.4 Remove"
   ]
  },
  {
   "cell_type": "markdown",
   "id": "3d391d4b",
   "metadata": {},
   "source": [
    "list.pop()\n",
    "\n",
    "list.pop(index)\n",
    "\n",
    "list.remove(element)\n",
    "\n",
    "del list[index]"
   ]
  },
  {
   "cell_type": "code",
   "execution_count": 128,
   "id": "40da6fe6",
   "metadata": {},
   "outputs": [
    {
     "data": {
      "text/plain": [
       "['grape', 'Orange']"
      ]
     },
     "execution_count": 128,
     "metadata": {},
     "output_type": "execute_result"
    }
   ],
   "source": [
    "# Remove last element\n",
    "list1.pop()"
   ]
  },
  {
   "cell_type": "code",
   "execution_count": 129,
   "id": "05f0fb0c",
   "metadata": {},
   "outputs": [
    {
     "data": {
      "text/plain": [
       "[0,\n",
       " 2,\n",
       " 100,\n",
       " 'Tiger',\n",
       " 'bear',\n",
       " 'apple',\n",
       " 'pear',\n",
       " ['Athena', 'Apollo', 'Zeus'],\n",
       " 2,\n",
       " ['Cat', 'Dog', 'Duck', 'Rabbit', 'Turtle']]"
      ]
     },
     "execution_count": 129,
     "metadata": {},
     "output_type": "execute_result"
    }
   ],
   "source": [
    "list1"
   ]
  },
  {
   "cell_type": "code",
   "execution_count": 131,
   "id": "a7e11d4a",
   "metadata": {},
   "outputs": [],
   "source": [
    "# Remove the element at given index"
   ]
  },
  {
   "cell_type": "code",
   "execution_count": 132,
   "id": "91305238",
   "metadata": {},
   "outputs": [
    {
     "data": {
      "text/plain": [
       "'bear'"
      ]
     },
     "execution_count": 132,
     "metadata": {},
     "output_type": "execute_result"
    }
   ],
   "source": [
    "list1.pop(4)"
   ]
  },
  {
   "cell_type": "code",
   "execution_count": 133,
   "id": "18a8e240",
   "metadata": {},
   "outputs": [
    {
     "data": {
      "text/plain": [
       "[0,\n",
       " 2,\n",
       " 100,\n",
       " 'Tiger',\n",
       " 'pear',\n",
       " ['Athena', 'Apollo', 'Zeus'],\n",
       " 2,\n",
       " ['Cat', 'Dog', 'Duck', 'Rabbit', 'Turtle']]"
      ]
     },
     "execution_count": 133,
     "metadata": {},
     "output_type": "execute_result"
    }
   ],
   "source": [
    "list1"
   ]
  },
  {
   "cell_type": "code",
   "execution_count": 138,
   "id": "f6035f7e",
   "metadata": {},
   "outputs": [],
   "source": [
    "# Remove the first occurrence of the elment from the list\n",
    "list1.remove(\"pear\")"
   ]
  },
  {
   "cell_type": "code",
   "execution_count": 139,
   "id": "5e8e257a",
   "metadata": {},
   "outputs": [
    {
     "data": {
      "text/plain": [
       "[0,\n",
       " 2,\n",
       " 100,\n",
       " ['Athena', 'Apollo', 'Zeus'],\n",
       " 2,\n",
       " ['Cat', 'Dog', 'Duck', 'Rabbit', 'Turtle']]"
      ]
     },
     "execution_count": 139,
     "metadata": {},
     "output_type": "execute_result"
    }
   ],
   "source": [
    "list1"
   ]
  },
  {
   "cell_type": "code",
   "execution_count": 130,
   "id": "064bbdf4",
   "metadata": {},
   "outputs": [],
   "source": [
    "# Delete index == 5 element\n",
    "del list1[5]"
   ]
  },
  {
   "cell_type": "code",
   "execution_count": 142,
   "id": "616db3e8",
   "metadata": {},
   "outputs": [
    {
     "data": {
      "text/plain": [
       "[0,\n",
       " 2,\n",
       " 100,\n",
       " ['Athena', 'Apollo', 'Zeus'],\n",
       " 2,\n",
       " ['Cat', 'Dog', 'Duck', 'Rabbit', 'Turtle']]"
      ]
     },
     "execution_count": 142,
     "metadata": {},
     "output_type": "execute_result"
    }
   ],
   "source": [
    "list1"
   ]
  },
  {
   "cell_type": "code",
   "execution_count": 121,
   "id": "29b038ea",
   "metadata": {},
   "outputs": [
    {
     "data": {
      "text/plain": [
       "[0,\n",
       " 2,\n",
       " 100,\n",
       " 'bear',\n",
       " 5.6,\n",
       " 'apple',\n",
       " 'pear',\n",
       " ['Athena', 'Apollo', 'Zeus'],\n",
       " 2,\n",
       " ['Cat', 'Dog', 'Duck', 'Rabbit', 'Turtle'],\n",
       " ['grape', 'Orange']]"
      ]
     },
     "execution_count": 121,
     "metadata": {},
     "output_type": "execute_result"
    }
   ],
   "source": [
    "list1.index()"
   ]
  },
  {
   "cell_type": "markdown",
   "id": "fb04627f",
   "metadata": {},
   "source": [
    "### 1.5 Get list Info"
   ]
  },
  {
   "cell_type": "code",
   "execution_count": 143,
   "id": "90cea904",
   "metadata": {},
   "outputs": [
    {
     "data": {
      "text/plain": [
       "1"
      ]
     },
     "execution_count": 143,
     "metadata": {},
     "output_type": "execute_result"
    }
   ],
   "source": [
    "# Get Index\n",
    "list1.index(2)"
   ]
  },
  {
   "cell_type": "code",
   "execution_count": 147,
   "id": "b78904bd",
   "metadata": {},
   "outputs": [
    {
     "data": {
      "text/plain": [
       "True"
      ]
     },
     "execution_count": 147,
     "metadata": {},
     "output_type": "execute_result"
    }
   ],
   "source": [
    "# Check Membership: In the list == True; Not in the list == False.\n",
    "['Athena', 'Apollo', 'Zeus'] in list1"
   ]
  },
  {
   "cell_type": "markdown",
   "id": "ee1d1477",
   "metadata": {},
   "source": [
    "### 1.6 Slicing"
   ]
  },
  {
   "cell_type": "code",
   "execution_count": 152,
   "id": "8256cf0b",
   "metadata": {},
   "outputs": [],
   "source": [
    "list2.append(\"Eagle\")"
   ]
  },
  {
   "cell_type": "code",
   "execution_count": 158,
   "id": "891edef4",
   "metadata": {},
   "outputs": [
    {
     "data": {
      "text/plain": [
       "['Cat',\n",
       " 'Dog',\n",
       " 'Duck',\n",
       " 'Rabbit',\n",
       " 'Turtle',\n",
       " 'Eagle',\n",
       " 'Panda',\n",
       " 'Coyote',\n",
       " 'Panda',\n",
       " 'Coyote',\n",
       " 'Panda',\n",
       " 'Coyote',\n",
       " 'Butterfly',\n",
       " 'Panda',\n",
       " 'Coyote',\n",
       " 'Butterfly']"
      ]
     },
     "execution_count": 158,
     "metadata": {},
     "output_type": "execute_result"
    }
   ],
   "source": [
    "list2=list2+[\"Panda\", \"Coyote\"]+[\"Butterfly\"]\n",
    "list2"
   ]
  },
  {
   "cell_type": "code",
   "execution_count": 156,
   "id": "46646508",
   "metadata": {},
   "outputs": [
    {
     "data": {
      "text/plain": [
       "['Duck', 'Rabbit', 'Turtle']"
      ]
     },
     "execution_count": 156,
     "metadata": {},
     "output_type": "execute_result"
    }
   ],
   "source": [
    "# slice out the elements from index 2 to 4. [2 ~ n) 2~n-1\n",
    "list2[2:5]"
   ]
  },
  {
   "cell_type": "code",
   "execution_count": 161,
   "id": "5698095e",
   "metadata": {},
   "outputs": [
    {
     "data": {
      "text/plain": [
       "4"
      ]
     },
     "execution_count": 161,
     "metadata": {},
     "output_type": "execute_result"
    }
   ],
   "source": [
    "# Count the number of occurrences of element in list\n",
    "list2.count(\"Coyote\")"
   ]
  },
  {
   "cell_type": "code",
   "execution_count": 163,
   "id": "c9070c96",
   "metadata": {},
   "outputs": [
    {
     "data": {
      "text/plain": [
       "1"
      ]
     },
     "execution_count": 163,
     "metadata": {},
     "output_type": "execute_result"
    }
   ],
   "source": [
    "list2.count(\"Eagle\")"
   ]
  },
  {
   "cell_type": "code",
   "execution_count": 168,
   "id": "a98322b5",
   "metadata": {},
   "outputs": [],
   "source": [
    "# Sort the list\n",
    "list2.sort()"
   ]
  },
  {
   "cell_type": "code",
   "execution_count": 169,
   "id": "46fd0f31",
   "metadata": {},
   "outputs": [
    {
     "data": {
      "text/plain": [
       "['Butterfly',\n",
       " 'Butterfly',\n",
       " 'Cat',\n",
       " 'Coyote',\n",
       " 'Coyote',\n",
       " 'Coyote',\n",
       " 'Coyote',\n",
       " 'Dog',\n",
       " 'Duck',\n",
       " 'Eagle',\n",
       " 'Panda',\n",
       " 'Panda',\n",
       " 'Panda',\n",
       " 'Panda',\n",
       " 'Rabbit',\n",
       " 'Turtle']"
      ]
     },
     "execution_count": 169,
     "metadata": {},
     "output_type": "execute_result"
    }
   ],
   "source": [
    "list2"
   ]
  },
  {
   "cell_type": "code",
   "execution_count": 174,
   "id": "0e2ca1af",
   "metadata": {},
   "outputs": [],
   "source": [
    "# Reverse the list\n",
    "list2.reverse()"
   ]
  },
  {
   "cell_type": "code",
   "execution_count": 173,
   "id": "64c63db6",
   "metadata": {},
   "outputs": [
    {
     "data": {
      "text/plain": [
       "['Turtle',\n",
       " 'Rabbit',\n",
       " 'Panda',\n",
       " 'Panda',\n",
       " 'Panda',\n",
       " 'Panda',\n",
       " 'Eagle',\n",
       " 'Duck',\n",
       " 'Dog',\n",
       " 'Coyote',\n",
       " 'Coyote',\n",
       " 'Coyote',\n",
       " 'Coyote',\n",
       " 'Cat',\n",
       " 'Butterfly',\n",
       " 'Butterfly']"
      ]
     },
     "execution_count": 173,
     "metadata": {},
     "output_type": "execute_result"
    }
   ],
   "source": [
    "list2"
   ]
  },
  {
   "cell_type": "markdown",
   "id": "3572d3c5",
   "metadata": {},
   "source": [
    "# 2. Dictionary"
   ]
  },
  {
   "cell_type": "markdown",
   "id": "725bc75b",
   "metadata": {},
   "source": [
    "- Anunordered collection of data values, used to store data values like a map.\n",
    "- key:value pair.\n",
    "- Each key-value pair in a Dictionary is separated by a colon :, whereas each key is separated by a ‘comma’.\n",
    "- Keys of a Dictionary must be unique and of immutable data type such as Strings, Integers and tuples, but the key-values can be repeated and be of any type."
   ]
  },
  {
   "cell_type": "markdown",
   "id": "9d2e9b54",
   "metadata": {},
   "source": [
    "![Dictionary](https://astikanand.github.io/techblogs/python/assets/python_dictionary.png)"
   ]
  },
  {
   "cell_type": "markdown",
   "id": "e6788af4",
   "metadata": {},
   "source": [
    "### 2.1 Initialize Dictionary"
   ]
  },
  {
   "cell_type": "code",
   "execution_count": 177,
   "id": "84f3938f",
   "metadata": {},
   "outputs": [
    {
     "name": "stdout",
     "output_type": "stream",
     "text": [
      "Initial Dict = {1: 'abcd', 'apples': 3, 'fruits': ['apples', 'mangoes'], 'Names': ['Charlie', 'Sunny', 'Sky']}\n"
     ]
    }
   ],
   "source": [
    "# initialize\n",
    "dict1 = {1: \"abcd\", \"apples\": 3, \"fruits\": [\"apples\", \"mangoes\"], \"Names\":['Charlie', 'Sunny', 'Sky'] }\n",
    "print(\"Initial Dict = {}\".format(dict1))"
   ]
  },
  {
   "cell_type": "code",
   "execution_count": 178,
   "id": "49755749",
   "metadata": {},
   "outputs": [
    {
     "data": {
      "text/plain": [
       "{1: 'abcd',\n",
       " 'apples': 3,\n",
       " 'fruits': ['apples', 'mangoes'],\n",
       " 'Names': ['Charlie', 'Sunny', 'Sky']}"
      ]
     },
     "execution_count": 178,
     "metadata": {},
     "output_type": "execute_result"
    }
   ],
   "source": [
    "dict1"
   ]
  },
  {
   "cell_type": "code",
   "execution_count": 179,
   "id": "3ba777f2",
   "metadata": {},
   "outputs": [],
   "source": [
    "#Insert Key:Value Pair\n",
    "dict1[2]=5"
   ]
  },
  {
   "cell_type": "code",
   "execution_count": 180,
   "id": "379fdacd",
   "metadata": {},
   "outputs": [
    {
     "data": {
      "text/plain": [
       "{1: 'abcd',\n",
       " 'apples': 3,\n",
       " 'fruits': ['apples', 'mangoes'],\n",
       " 'Names': ['Charlie', 'Sunny', 'Sky'],\n",
       " 2: 5}"
      ]
     },
     "execution_count": 180,
     "metadata": {},
     "output_type": "execute_result"
    }
   ],
   "source": [
    "dict1"
   ]
  },
  {
   "cell_type": "code",
   "execution_count": 182,
   "id": "08f2b150",
   "metadata": {},
   "outputs": [
    {
     "data": {
      "text/plain": [
       "5"
      ]
     },
     "execution_count": 182,
     "metadata": {},
     "output_type": "execute_result"
    }
   ],
   "source": [
    "len(dict1)"
   ]
  },
  {
   "cell_type": "code",
   "execution_count": 217,
   "id": "5ebded6e",
   "metadata": {},
   "outputs": [
    {
     "name": "stdout",
     "output_type": "stream",
     "text": [
      "Key = apples and Value = 3\n",
      "Key = fruits and Value = ['apples', 'mangoes']\n",
      "Key = mangoes and Value = False\n",
      "Key = mangoes and Value = True\n",
      "Key = Names and Value = ['Charlie', 'Sunny', 'Sky']\n",
      "\n"
     ]
    }
   ],
   "source": [
    "print(\"Key = {} and Value = {}\".format(\"apples\", dict1[\"apples\"]))\n",
    "print(\"Key = {} and Value = {}\".format(\"fruits\", dict1.get(\"fruits\", False)))\n",
    "print(\"Key = {} and Value = {}\".format(\"mangoes\", dict1.get(\"mangoes\", False)))\n",
    "print(\"Key = {} and Value = {}\".format(\"mangoes\", dict1.get(\"mangoes\", True)))\n",
    "print(\"Key = {} and Value = {}\\n\".format(\"Names\", dict1.get(\"Names\", True)))"
   ]
  },
  {
   "cell_type": "code",
   "execution_count": 190,
   "id": "173c713b",
   "metadata": {},
   "outputs": [],
   "source": [
    "a = dict1.get(\"Names\"， False)"
   ]
  },
  {
   "cell_type": "code",
   "execution_count": 193,
   "id": "2ada5b6d",
   "metadata": {},
   "outputs": [],
   "source": [
    "b = dict1.get(\"Names\", True)"
   ]
  },
  {
   "cell_type": "code",
   "execution_count": 194,
   "id": "5d76d0e4",
   "metadata": {},
   "outputs": [
    {
     "data": {
      "text/plain": [
       "['Charlie', 'Sunny', 'Sky']"
      ]
     },
     "execution_count": 194,
     "metadata": {},
     "output_type": "execute_result"
    }
   ],
   "source": [
    "a"
   ]
  },
  {
   "cell_type": "code",
   "execution_count": 195,
   "id": "b857c354",
   "metadata": {},
   "outputs": [
    {
     "data": {
      "text/plain": [
       "['Charlie', 'Sunny', 'Sky']"
      ]
     },
     "execution_count": 195,
     "metadata": {},
     "output_type": "execute_result"
    }
   ],
   "source": [
    "b"
   ]
  },
  {
   "cell_type": "code",
   "execution_count": 199,
   "id": "9e87c385",
   "metadata": {},
   "outputs": [
    {
     "name": "stdout",
     "output_type": "stream",
     "text": [
      "<built-in method keys of dict object at 0x7fd2a122c140>\n"
     ]
    }
   ],
   "source": [
    "print(dict1.keys)"
   ]
  },
  {
   "cell_type": "code",
   "execution_count": 200,
   "id": "df89a632",
   "metadata": {},
   "outputs": [
    {
     "name": "stdout",
     "output_type": "stream",
     "text": [
      "dict1's keys is <built-in method keys of dict object at 0x7fd2a122c140>\n"
     ]
    }
   ],
   "source": [
    "print(\"dict1's keys is {}\".format(dict1.keys))"
   ]
  },
  {
   "cell_type": "markdown",
   "id": "fb510fa9",
   "metadata": {},
   "source": [
    "### 2.2 Membership Check"
   ]
  },
  {
   "cell_type": "code",
   "execution_count": 204,
   "id": "1d3696f8",
   "metadata": {},
   "outputs": [
    {
     "data": {
      "text/plain": [
       "True"
      ]
     },
     "execution_count": 204,
     "metadata": {},
     "output_type": "execute_result"
    }
   ],
   "source": [
    "# Check whether the key in the dictionary\n",
    "\"Names\" in dict1"
   ]
  },
  {
   "cell_type": "code",
   "execution_count": 205,
   "id": "42382909",
   "metadata": {},
   "outputs": [
    {
     "data": {
      "text/plain": [
       "False"
      ]
     },
     "execution_count": 205,
     "metadata": {},
     "output_type": "execute_result"
    }
   ],
   "source": [
    "# Not check data elements. only check the Keys. \n",
    "\"Sunny\" in dict1"
   ]
  },
  {
   "cell_type": "code",
   "execution_count": 203,
   "id": "e916576c",
   "metadata": {},
   "outputs": [
    {
     "data": {
      "text/plain": [
       "True"
      ]
     },
     "execution_count": 203,
     "metadata": {},
     "output_type": "execute_result"
    }
   ],
   "source": [
    "'fruits' in dict1"
   ]
  },
  {
   "cell_type": "code",
   "execution_count": 206,
   "id": "90dc6dc1",
   "metadata": {},
   "outputs": [
    {
     "name": "stdout",
     "output_type": "stream",
     "text": [
      "Is fruits in dict1? True\n"
     ]
    }
   ],
   "source": [
    "print(\"Is fruits in dict1? {}\".format(\"fruits\" in dict1))"
   ]
  },
  {
   "cell_type": "code",
   "execution_count": 209,
   "id": "5b8d26bc",
   "metadata": {},
   "outputs": [
    {
     "data": {
      "text/plain": [
       "dict_items([(1, 'abcd'), ('apples', 3), ('fruits', ['apples', 'mangoes']), ('Names', ['Charlie', 'Sunny', 'Sky']), (2, 5)])"
      ]
     },
     "execution_count": 209,
     "metadata": {},
     "output_type": "execute_result"
    }
   ],
   "source": [
    "# Get set of (key, value) pairs\n",
    "dict1.items()"
   ]
  },
  {
   "cell_type": "code",
   "execution_count": 214,
   "id": "2dd96614",
   "metadata": {},
   "outputs": [
    {
     "data": {
      "text/plain": [
       "dict_keys([1, 'apples', 'fruits', 'Names', 2])"
      ]
     },
     "execution_count": 214,
     "metadata": {},
     "output_type": "execute_result"
    }
   ],
   "source": [
    "# Get all keys\n",
    "dict1.keys()"
   ]
  },
  {
   "cell_type": "code",
   "execution_count": 215,
   "id": "1c0d4b8b",
   "metadata": {},
   "outputs": [
    {
     "data": {
      "text/plain": [
       "dict_values(['abcd', 3, ['apples', 'mangoes'], ['Charlie', 'Sunny', 'Sky'], 5])"
      ]
     },
     "execution_count": 215,
     "metadata": {},
     "output_type": "execute_result"
    }
   ],
   "source": [
    "dict1.values()"
   ]
  },
  {
   "cell_type": "code",
   "execution_count": 219,
   "id": "fe212055",
   "metadata": {},
   "outputs": [
    {
     "data": {
      "text/plain": [
       "3"
      ]
     },
     "execution_count": 219,
     "metadata": {},
     "output_type": "execute_result"
    }
   ],
   "source": [
    "# setdefault(): get the value if key present else sets the default value to key\n",
    "dict1.setdefault(\"apples\", 0)"
   ]
  },
  {
   "cell_type": "code",
   "execution_count": 221,
   "id": "af195f09",
   "metadata": {},
   "outputs": [
    {
     "data": {
      "text/plain": [
       "['apples', 'mangoes']"
      ]
     },
     "execution_count": 221,
     "metadata": {},
     "output_type": "execute_result"
    }
   ],
   "source": [
    "dict1.setdefault(\"fruits\", 0)"
   ]
  },
  {
   "cell_type": "code",
   "execution_count": 222,
   "id": "c8052a5b",
   "metadata": {},
   "outputs": [
    {
     "data": {
      "text/plain": [
       "0"
      ]
     },
     "execution_count": 222,
     "metadata": {},
     "output_type": "execute_result"
    }
   ],
   "source": [
    "dict1.setdefault(\"human\", 0)"
   ]
  },
  {
   "cell_type": "code",
   "execution_count": 232,
   "id": "65b3ac1d",
   "metadata": {},
   "outputs": [
    {
     "data": {
      "text/plain": [
       "{1: 'abcd',\n",
       " 'apples': 3,\n",
       " 'fruits': ['apples', 'mangoes'],\n",
       " 'Names': ['Stephnie', 'Gary'],\n",
       " 2: 5,\n",
       " 'mangoes': 0,\n",
       " 'human': 0,\n",
       " 'Charlie': 'Claire',\n",
       " 'Sunny': 'Tony',\n",
       " 'Sky': 3}"
      ]
     },
     "execution_count": 232,
     "metadata": {},
     "output_type": "execute_result"
    }
   ],
   "source": [
    "dict1"
   ]
  },
  {
   "cell_type": "code",
   "execution_count": 224,
   "id": "a6bcb9c1",
   "metadata": {},
   "outputs": [],
   "source": [
    "# Update Dictionary\n",
    "dic2={\"Charlie\": \"Claire\", \"Sunny\": \"Tony\", \"Sky\": 3}"
   ]
  },
  {
   "cell_type": "code",
   "execution_count": 229,
   "id": "9d2f6e41",
   "metadata": {},
   "outputs": [],
   "source": [
    "dic3={\"Names\":[\"Stephnie\", \"Gary\"]}"
   ]
  },
  {
   "cell_type": "code",
   "execution_count": 227,
   "id": "a33deaec",
   "metadata": {},
   "outputs": [],
   "source": [
    "dict1.update(dic2)"
   ]
  },
  {
   "cell_type": "code",
   "execution_count": 230,
   "id": "114338c0",
   "metadata": {},
   "outputs": [],
   "source": [
    "dict1.update(dic3)"
   ]
  },
  {
   "cell_type": "code",
   "execution_count": 236,
   "id": "15a3aed5",
   "metadata": {},
   "outputs": [
    {
     "data": {
      "text/plain": [
       "{1: 'abcd',\n",
       " 'apples': 3,\n",
       " 'fruits': ['apples', 'mangoes'],\n",
       " 'Names': ['Stephnie', 'Gary'],\n",
       " 2: 5,\n",
       " 'mangoes': 0,\n",
       " 'human': 0,\n",
       " 'Charlie': 'Claire',\n",
       " 'Sunny': 'Tony',\n",
       " 'Sky': 3}"
      ]
     },
     "execution_count": 236,
     "metadata": {},
     "output_type": "execute_result"
    }
   ],
   "source": [
    "dict1"
   ]
  },
  {
   "cell_type": "code",
   "execution_count": 240,
   "id": "01c8b915",
   "metadata": {},
   "outputs": [],
   "source": [
    "# Delete dict1\n",
    "del dict1[\"human\"]"
   ]
  },
  {
   "cell_type": "code",
   "execution_count": 241,
   "id": "33ad6d95",
   "metadata": {},
   "outputs": [
    {
     "data": {
      "text/plain": [
       "{1: 'abcd',\n",
       " 'apples': 3,\n",
       " 'fruits': ['apples', 'mangoes'],\n",
       " 'Names': ['Stephnie', 'Gary'],\n",
       " 2: 5,\n",
       " 'Charlie': 'Claire',\n",
       " 'Sunny': 'Tony',\n",
       " 'Sky': 3}"
      ]
     },
     "execution_count": 241,
     "metadata": {},
     "output_type": "execute_result"
    }
   ],
   "source": [
    "dict1"
   ]
  },
  {
   "cell_type": "code",
   "execution_count": 245,
   "id": "186a3c71",
   "metadata": {},
   "outputs": [],
   "source": [
    "dict4=dict1.copy()"
   ]
  },
  {
   "cell_type": "code",
   "execution_count": 243,
   "id": "f0864b55",
   "metadata": {},
   "outputs": [
    {
     "data": {
      "text/plain": [
       "{1: 'abcd',\n",
       " 'apples': 3,\n",
       " 'fruits': ['apples', 'mangoes'],\n",
       " 'Names': ['Stephnie', 'Gary'],\n",
       " 2: 5,\n",
       " 'Charlie': 'Claire',\n",
       " 'Sunny': 'Tony',\n",
       " 'Sky': 3}"
      ]
     },
     "execution_count": 243,
     "metadata": {},
     "output_type": "execute_result"
    }
   ],
   "source": [
    "dict4"
   ]
  },
  {
   "cell_type": "code",
   "execution_count": 246,
   "id": "7940123a",
   "metadata": {},
   "outputs": [],
   "source": [
    "dict4.clear()"
   ]
  },
  {
   "cell_type": "code",
   "execution_count": 247,
   "id": "48bcaf38",
   "metadata": {},
   "outputs": [
    {
     "data": {
      "text/plain": [
       "{}"
      ]
     },
     "execution_count": 247,
     "metadata": {},
     "output_type": "execute_result"
    }
   ],
   "source": [
    "dict4"
   ]
  },
  {
   "cell_type": "code",
   "execution_count": 248,
   "id": "c2e8c738",
   "metadata": {},
   "outputs": [],
   "source": [
    "seq =(\"Name\", \"Age\", \"Gender\")"
   ]
  },
  {
   "cell_type": "code",
   "execution_count": 252,
   "id": "5f56921c",
   "metadata": {},
   "outputs": [
    {
     "data": {
      "text/plain": [
       "{'Name': None, 'Age': None, 'Gender': None}"
      ]
     },
     "execution_count": 252,
     "metadata": {},
     "output_type": "execute_result"
    }
   ],
   "source": [
    "dict1.fromkeys(seq)"
   ]
  },
  {
   "cell_type": "code",
   "execution_count": 253,
   "id": "ddeba970",
   "metadata": {},
   "outputs": [
    {
     "data": {
      "text/plain": [
       "{1: 'abcd',\n",
       " 'apples': 3,\n",
       " 'fruits': ['apples', 'mangoes'],\n",
       " 'Names': ['Stephnie', 'Gary'],\n",
       " 2: 5,\n",
       " 'Charlie': 'Claire',\n",
       " 'Sunny': 'Tony',\n",
       " 'Sky': 3}"
      ]
     },
     "execution_count": 253,
     "metadata": {},
     "output_type": "execute_result"
    }
   ],
   "source": [
    "dict1"
   ]
  },
  {
   "cell_type": "code",
   "execution_count": 254,
   "id": "503999c2",
   "metadata": {},
   "outputs": [
    {
     "data": {
      "text/plain": [
       "{'Name': 10, 'Age': 10, 'Gender': 10}"
      ]
     },
     "execution_count": 254,
     "metadata": {},
     "output_type": "execute_result"
    }
   ],
   "source": [
    "dict1.fromkeys(seq,10)"
   ]
  },
  {
   "cell_type": "code",
   "execution_count": 255,
   "id": "ef6117b9",
   "metadata": {},
   "outputs": [
    {
     "data": {
      "text/plain": [
       "{1: 'abcd',\n",
       " 'apples': 3,\n",
       " 'fruits': ['apples', 'mangoes'],\n",
       " 'Names': ['Stephnie', 'Gary'],\n",
       " 2: 5,\n",
       " 'Charlie': 'Claire',\n",
       " 'Sunny': 'Tony',\n",
       " 'Sky': 3}"
      ]
     },
     "execution_count": 255,
     "metadata": {},
     "output_type": "execute_result"
    }
   ],
   "source": [
    "dict1"
   ]
  },
  {
   "cell_type": "markdown",
   "id": "58c9178e",
   "metadata": {},
   "source": [
    "# 3. Tuple"
   ]
  },
  {
   "cell_type": "markdown",
   "id": "a5febc7c",
   "metadata": {},
   "source": [
    "A Tuple is a collection of Python objects separated by commas."
   ]
  },
  {
   "cell_type": "markdown",
   "id": "f85c53a8",
   "metadata": {},
   "source": [
    "Tuple is similar to a List in terms of indexing, nested objects and repetition. but Tuple is immutable; List is mutable;"
   ]
  },
  {
   "cell_type": "markdown",
   "id": "a064353c",
   "metadata": {},
   "source": [
    "### 3.1 creation of tuple"
   ]
  },
  {
   "cell_type": "code",
   "execution_count": 72,
   "id": "d613d297",
   "metadata": {},
   "outputs": [],
   "source": [
    "tup1 = ('physics', 'chemistry', 1997, 2000, 5, 7)"
   ]
  },
  {
   "cell_type": "code",
   "execution_count": 73,
   "id": "779fe65e",
   "metadata": {},
   "outputs": [
    {
     "data": {
      "text/plain": [
       "('physics', 'chemistry', 1997, 2000, 5, 7)"
      ]
     },
     "execution_count": 73,
     "metadata": {},
     "output_type": "execute_result"
    }
   ],
   "source": [
    "tup1"
   ]
  },
  {
   "cell_type": "markdown",
   "id": "561fb268",
   "metadata": {},
   "source": [
    "### 3.2 Convert an array to a tuple"
   ]
  },
  {
   "cell_type": "code",
   "execution_count": 74,
   "id": "5911ac33",
   "metadata": {},
   "outputs": [],
   "source": [
    "# Convert a array to tuple\n",
    "tup2 = tuple([2,3,4,1,5,7,9,13])"
   ]
  },
  {
   "cell_type": "code",
   "execution_count": 75,
   "id": "760ade12",
   "metadata": {},
   "outputs": [
    {
     "data": {
      "text/plain": [
       "(2, 3, 4, 1, 5, 7, 9, 13)"
      ]
     },
     "execution_count": 75,
     "metadata": {},
     "output_type": "execute_result"
    }
   ],
   "source": [
    "tup2"
   ]
  },
  {
   "cell_type": "code",
   "execution_count": 52,
   "id": "e0ddea32",
   "metadata": {},
   "outputs": [
    {
     "name": "stdout",
     "output_type": "stream",
     "text": [
      "Tuple tup1 : ('physics', 'chemistry', 1997, 2000, 5, 7)\n",
      "Tuple tup2 : (2, 3, 4, 1, 5, 7, 9, 13)\n"
     ]
    }
   ],
   "source": [
    "print(\"Tuple tup1 : {}\".format(tup1))\n",
    "print(\"Tuple tup2 : {}\".format(tup2))"
   ]
  },
  {
   "cell_type": "code",
   "execution_count": 53,
   "id": "f0f01b57",
   "metadata": {},
   "outputs": [
    {
     "name": "stdout",
     "output_type": "stream",
     "text": [
      "Tuple tup1's 3rd element is 1997\n",
      "Tuple tup2's 4th element is 1\n"
     ]
    }
   ],
   "source": [
    "print(\"Tuple tup1's 3rd element is {}\".format(tup1[2]))\n",
    "print(\"Tuple tup2's 4th element is {}\".format(tup2[3]))"
   ]
  },
  {
   "cell_type": "markdown",
   "id": "4ac1ea3b",
   "metadata": {},
   "source": [
    "### 3.3 Get Tuple Length"
   ]
  },
  {
   "cell_type": "code",
   "execution_count": 54,
   "id": "f84864ad",
   "metadata": {},
   "outputs": [
    {
     "data": {
      "text/plain": [
       "6"
      ]
     },
     "execution_count": 54,
     "metadata": {},
     "output_type": "execute_result"
    }
   ],
   "source": [
    "# Get the size of a Tuple\n",
    "len(tup1)"
   ]
  },
  {
   "cell_type": "code",
   "execution_count": 55,
   "id": "7ccacfb0",
   "metadata": {},
   "outputs": [
    {
     "data": {
      "text/plain": [
       "8"
      ]
     },
     "execution_count": 55,
     "metadata": {},
     "output_type": "execute_result"
    }
   ],
   "source": [
    "len(tup2)"
   ]
  },
  {
   "cell_type": "markdown",
   "id": "6c3b5e3e",
   "metadata": {},
   "source": [
    "### 3.4 Concatenation"
   ]
  },
  {
   "cell_type": "code",
   "execution_count": 56,
   "id": "de422f72",
   "metadata": {},
   "outputs": [],
   "source": [
    "# Concatenation \n",
    "tup3 = tup1+tup2\n",
    "tup4 = tup2+tup1"
   ]
  },
  {
   "cell_type": "code",
   "execution_count": 57,
   "id": "171fa5ed",
   "metadata": {},
   "outputs": [
    {
     "data": {
      "text/plain": [
       "('physics', 'chemistry', 1997, 2000, 5, 7, 2, 3, 4, 1, 5, 7, 9, 13)"
      ]
     },
     "execution_count": 57,
     "metadata": {},
     "output_type": "execute_result"
    }
   ],
   "source": [
    "tup3"
   ]
  },
  {
   "cell_type": "code",
   "execution_count": 58,
   "id": "8b7a88b7",
   "metadata": {},
   "outputs": [
    {
     "data": {
      "text/plain": [
       "(2, 3, 4, 1, 5, 7, 9, 13, 'physics', 'chemistry', 1997, 2000, 5, 7)"
      ]
     },
     "execution_count": 58,
     "metadata": {},
     "output_type": "execute_result"
    }
   ],
   "source": [
    "tup4"
   ]
  },
  {
   "cell_type": "markdown",
   "id": "e6d1710a",
   "metadata": {},
   "source": [
    "### 3.5 Tuple Comparisom "
   ]
  },
  {
   "cell_type": "code",
   "execution_count": 64,
   "id": "a8a74ab9",
   "metadata": {},
   "outputs": [],
   "source": [
    "# Find common part (intersection) between two Tuples"
   ]
  },
  {
   "cell_type": "code",
   "execution_count": 65,
   "id": "965ff427",
   "metadata": {},
   "outputs": [],
   "source": [
    "tup1_as_set = set(tup1)\n",
    "tup2_as_set = set(tup2)"
   ]
  },
  {
   "cell_type": "code",
   "execution_count": 66,
   "id": "144e2375",
   "metadata": {},
   "outputs": [],
   "source": [
    "intersection=tup1_as_set.intersection(tup2_as_set)"
   ]
  },
  {
   "cell_type": "code",
   "execution_count": 67,
   "id": "ae872994",
   "metadata": {},
   "outputs": [
    {
     "data": {
      "text/plain": [
       "{5, 7}"
      ]
     },
     "execution_count": 67,
     "metadata": {},
     "output_type": "execute_result"
    }
   ],
   "source": [
    "intersection"
   ]
  },
  {
   "cell_type": "code",
   "execution_count": 69,
   "id": "f6263565",
   "metadata": {},
   "outputs": [
    {
     "name": "stdout",
     "output_type": "stream",
     "text": [
      "[5, 7]\n"
     ]
    }
   ],
   "source": [
    "intersection_as_list = list(intersection)\n",
    "print(intersection_as_list)"
   ]
  },
  {
   "cell_type": "markdown",
   "id": "addfa6fd",
   "metadata": {},
   "source": [
    "### 3.6 Tuple Subtraction"
   ]
  },
  {
   "cell_type": "markdown",
   "id": "1c9e6e69",
   "metadata": {},
   "source": [
    "Only numerical elements can perform subtraction operation"
   ]
  },
  {
   "cell_type": "code",
   "execution_count": 81,
   "id": "af1ae013",
   "metadata": {},
   "outputs": [
    {
     "name": "stdout",
     "output_type": "stream",
     "text": [
      "The first tuple is : \n",
      "(7, 8, 11, 0, 3)\n",
      "The second tuple is : \n",
      "(3, 2, 22, 45, 12, 9)\n",
      "The tuple after subtraction is : \n",
      "(4, 6, -11, -45, -9)\n"
     ]
    }
   ],
   "source": [
    "my_tuple_1 = tuple([7, 8, 11, 0 ,3])\n",
    "my_tuple_2 = tuple([3, 2, 22, 45, 12, 9])\n",
    "\n",
    "print (\"The first tuple is : \" )\n",
    "print(my_tuple_1)\n",
    "print (\"The second tuple is : \" )\n",
    "print(my_tuple_2)\n",
    "\n",
    "my_result = tuple(map(lambda i, j: i - j, my_tuple_1, my_tuple_2))\n",
    "\n",
    "print(\"The tuple after subtraction is : \" )\n",
    "print(my_result)"
   ]
  },
  {
   "cell_type": "code",
   "execution_count": 29,
   "id": "49831e18",
   "metadata": {},
   "outputs": [
    {
     "name": "stdout",
     "output_type": "stream",
     "text": [
      "chemistry present in tup1 ? : True\n",
      "chemistry present in tup2 ? : False\n",
      "\n"
     ]
    }
   ],
   "source": [
    "# Membership\n",
    "print(\"chemistry present in tup1 ? : {}\".format('chemistry' in tup1))\n",
    "print(\"chemistry present in tup2 ? : {}\\n\".format('chemistry' in tup2))"
   ]
  },
  {
   "cell_type": "code",
   "execution_count": 35,
   "id": "0b9ef0ac",
   "metadata": {},
   "outputs": [],
   "source": [
    "membership_p = 'physics' in tup1"
   ]
  },
  {
   "cell_type": "code",
   "execution_count": 36,
   "id": "aa1b96ee",
   "metadata": {},
   "outputs": [
    {
     "data": {
      "text/plain": [
       "True"
      ]
     },
     "execution_count": 36,
     "metadata": {},
     "output_type": "execute_result"
    }
   ],
   "source": [
    "membership_p"
   ]
  },
  {
   "cell_type": "code",
   "execution_count": 38,
   "id": "0eaa9d12",
   "metadata": {},
   "outputs": [],
   "source": [
    "membership_7 = '7' in tup2"
   ]
  },
  {
   "cell_type": "code",
   "execution_count": 39,
   "id": "a8d799df",
   "metadata": {},
   "outputs": [
    {
     "data": {
      "text/plain": [
       "False"
      ]
     },
     "execution_count": 39,
     "metadata": {},
     "output_type": "execute_result"
    }
   ],
   "source": [
    "membership_7"
   ]
  },
  {
   "cell_type": "markdown",
   "id": "c5276ca6",
   "metadata": {},
   "source": [
    "# 4. Set"
   ]
  },
  {
   "cell_type": "code",
   "execution_count": null,
   "id": "079a8f0a",
   "metadata": {},
   "outputs": [],
   "source": []
  }
 ],
 "metadata": {
  "kernelspec": {
   "display_name": "Python 3",
   "language": "python",
   "name": "python3"
  },
  "language_info": {
   "codemirror_mode": {
    "name": "ipython",
    "version": 3
   },
   "file_extension": ".py",
   "mimetype": "text/x-python",
   "name": "python",
   "nbconvert_exporter": "python",
   "pygments_lexer": "ipython3",
   "version": "3.8.3"
  }
 },
 "nbformat": 4,
 "nbformat_minor": 5
}
