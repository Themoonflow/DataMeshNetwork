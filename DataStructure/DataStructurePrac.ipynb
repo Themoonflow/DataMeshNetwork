{
 "cells": [
  {
   "cell_type": "markdown",
   "id": "f5512972",
   "metadata": {},
   "source": [
    "# 1. List"
   ]
  },
  {
   "cell_type": "markdown",
   "id": "22d65d91",
   "metadata": {},
   "source": [
    "- List is an ordered collection of items\n",
    "- Different Data Types\n",
    "- Item in the list an be changed or replaced\n",
    "- Mutable"
   ]
  },
  {
   "cell_type": "markdown",
   "id": "b1e389c2",
   "metadata": {},
   "source": [
    "![List](https://astikanand.github.io/techblogs/python/assets/python_lists.png)"
   ]
  },
  {
   "cell_type": "markdown",
   "id": "653d59f9",
   "metadata": {},
   "source": [
    "### 1.1 Initialization"
   ]
  },
  {
   "cell_type": "markdown",
   "id": "57a3f39d",
   "metadata": {},
   "source": [
    "list1=[ ]\n",
    "\n",
    "List2 = list()\n",
    "\n",
    "list3 = [2, \"astik\", 5, 9]"
   ]
  },
  {
   "cell_type": "code",
   "execution_count": 99,
   "id": "f5a9c390",
   "metadata": {},
   "outputs": [],
   "source": [
    "list1 = [0,2,100, 5.6, 'apple', 'pear', ['Athena', 'Apollo', 'Zeus']]"
   ]
  },
  {
   "cell_type": "code",
   "execution_count": 100,
   "id": "35b62833",
   "metadata": {},
   "outputs": [
    {
     "name": "stdout",
     "output_type": "stream",
     "text": [
      "list is [0, 2, 100, 5.6, 'apple', 'pear', ['Athena', 'Apollo', 'Zeus']]\n"
     ]
    }
   ],
   "source": [
    "print(\"list is {}\".format(list1))"
   ]
  },
  {
   "cell_type": "code",
   "execution_count": 101,
   "id": "f85f3580",
   "metadata": {},
   "outputs": [],
   "source": [
    "list2 = ['Cat', 'Turtle', 'Dog', 'Rabbit', 'Duck']"
   ]
  },
  {
   "cell_type": "code",
   "execution_count": 102,
   "id": "88d3e135",
   "metadata": {},
   "outputs": [
    {
     "data": {
      "text/plain": [
       "['Cat', 'Turtle', 'Dog', 'Rabbit', 'Duck']"
      ]
     },
     "execution_count": 102,
     "metadata": {},
     "output_type": "execute_result"
    }
   ],
   "source": [
    "list2"
   ]
  },
  {
   "cell_type": "markdown",
   "id": "a42db12e",
   "metadata": {},
   "source": [
    "### 1.2 List Sort"
   ]
  },
  {
   "cell_type": "code",
   "execution_count": 103,
   "id": "88f07382",
   "metadata": {},
   "outputs": [],
   "source": [
    "# Sort order Aplphabet A-Z\n",
    "list2.sort()"
   ]
  },
  {
   "cell_type": "code",
   "execution_count": 104,
   "id": "6bb15d56",
   "metadata": {},
   "outputs": [
    {
     "data": {
      "text/plain": [
       "['Cat', 'Dog', 'Duck', 'Rabbit', 'Turtle']"
      ]
     },
     "execution_count": 104,
     "metadata": {},
     "output_type": "execute_result"
    }
   ],
   "source": [
    "list2"
   ]
  },
  {
   "cell_type": "code",
   "execution_count": 105,
   "id": "ed710b32",
   "metadata": {},
   "outputs": [],
   "source": [
    "list3 = list1+list2"
   ]
  },
  {
   "cell_type": "code",
   "execution_count": 106,
   "id": "c496325e",
   "metadata": {},
   "outputs": [
    {
     "data": {
      "text/plain": [
       "[0,\n",
       " 2,\n",
       " 100,\n",
       " 5.6,\n",
       " 'apple',\n",
       " 'pear',\n",
       " ['Athena', 'Apollo', 'Zeus'],\n",
       " 'Cat',\n",
       " 'Dog',\n",
       " 'Duck',\n",
       " 'Rabbit',\n",
       " 'Turtle']"
      ]
     },
     "execution_count": 106,
     "metadata": {},
     "output_type": "execute_result"
    }
   ],
   "source": [
    "list3"
   ]
  },
  {
   "cell_type": "code",
   "execution_count": 107,
   "id": "5fb18bc5",
   "metadata": {},
   "outputs": [
    {
     "data": {
      "text/plain": [
       "['Athena', 'Apollo', 'Zeus']"
      ]
     },
     "execution_count": 107,
     "metadata": {},
     "output_type": "execute_result"
    }
   ],
   "source": [
    "list3[6]"
   ]
  },
  {
   "cell_type": "code",
   "execution_count": 108,
   "id": "83632c82",
   "metadata": {},
   "outputs": [],
   "source": [
    "list4 = list2+list1"
   ]
  },
  {
   "cell_type": "code",
   "execution_count": 109,
   "id": "00ef598c",
   "metadata": {},
   "outputs": [
    {
     "data": {
      "text/plain": [
       "['Cat',\n",
       " 'Dog',\n",
       " 'Duck',\n",
       " 'Rabbit',\n",
       " 'Turtle',\n",
       " 0,\n",
       " 2,\n",
       " 100,\n",
       " 5.6,\n",
       " 'apple',\n",
       " 'pear',\n",
       " ['Athena', 'Apollo', 'Zeus']]"
      ]
     },
     "execution_count": 109,
     "metadata": {},
     "output_type": "execute_result"
    }
   ],
   "source": [
    "list4"
   ]
  },
  {
   "cell_type": "code",
   "execution_count": 110,
   "id": "14b44829",
   "metadata": {},
   "outputs": [],
   "source": [
    "list1.append(2)"
   ]
  },
  {
   "cell_type": "code",
   "execution_count": 111,
   "id": "51b4efb5",
   "metadata": {},
   "outputs": [
    {
     "data": {
      "text/plain": [
       "[0, 2, 100, 5.6, 'apple', 'pear', ['Athena', 'Apollo', 'Zeus'], 2]"
      ]
     },
     "execution_count": 111,
     "metadata": {},
     "output_type": "execute_result"
    }
   ],
   "source": [
    "list1"
   ]
  },
  {
   "cell_type": "code",
   "execution_count": 112,
   "id": "d69fe628",
   "metadata": {},
   "outputs": [],
   "source": [
    "list1.append(list2)"
   ]
  },
  {
   "cell_type": "code",
   "execution_count": 113,
   "id": "e03c7998",
   "metadata": {},
   "outputs": [
    {
     "data": {
      "text/plain": [
       "[0,\n",
       " 2,\n",
       " 100,\n",
       " 5.6,\n",
       " 'apple',\n",
       " 'pear',\n",
       " ['Athena', 'Apollo', 'Zeus'],\n",
       " 2,\n",
       " ['Cat', 'Dog', 'Duck', 'Rabbit', 'Turtle']]"
      ]
     },
     "execution_count": 113,
     "metadata": {},
     "output_type": "execute_result"
    }
   ],
   "source": [
    "list1"
   ]
  },
  {
   "cell_type": "code",
   "execution_count": 114,
   "id": "666ab7ce",
   "metadata": {},
   "outputs": [
    {
     "data": {
      "text/plain": [
       "['Cat',\n",
       " 'Dog',\n",
       " 'Duck',\n",
       " 'Rabbit',\n",
       " 'Turtle',\n",
       " 0,\n",
       " 2,\n",
       " 100,\n",
       " 5.6,\n",
       " 'apple',\n",
       " 'pear',\n",
       " ['Athena', 'Apollo', 'Zeus']]"
      ]
     },
     "execution_count": 114,
     "metadata": {},
     "output_type": "execute_result"
    }
   ],
   "source": [
    "list4"
   ]
  },
  {
   "cell_type": "markdown",
   "id": "c7592b89",
   "metadata": {},
   "source": [
    "### 1.3 List Length, Insert\n"
   ]
  },
  {
   "cell_type": "code",
   "execution_count": 115,
   "id": "880c1e82",
   "metadata": {},
   "outputs": [],
   "source": [
    "len1=len(list1)"
   ]
  },
  {
   "cell_type": "code",
   "execution_count": 116,
   "id": "afc0415c",
   "metadata": {},
   "outputs": [
    {
     "data": {
      "text/plain": [
       "9"
      ]
     },
     "execution_count": 116,
     "metadata": {},
     "output_type": "execute_result"
    }
   ],
   "source": [
    "len1"
   ]
  },
  {
   "cell_type": "code",
   "execution_count": 117,
   "id": "84326aad",
   "metadata": {},
   "outputs": [],
   "source": [
    "list1.append([\"grape\", \"Orange\"])"
   ]
  },
  {
   "cell_type": "code",
   "execution_count": 118,
   "id": "b0a493df",
   "metadata": {},
   "outputs": [
    {
     "data": {
      "text/plain": [
       "[0,\n",
       " 2,\n",
       " 100,\n",
       " 5.6,\n",
       " 'apple',\n",
       " 'pear',\n",
       " ['Athena', 'Apollo', 'Zeus'],\n",
       " 2,\n",
       " ['Cat', 'Dog', 'Duck', 'Rabbit', 'Turtle'],\n",
       " ['grape', 'Orange']]"
      ]
     },
     "execution_count": 118,
     "metadata": {},
     "output_type": "execute_result"
    }
   ],
   "source": [
    "list1"
   ]
  },
  {
   "cell_type": "code",
   "execution_count": 122,
   "id": "10181330",
   "metadata": {},
   "outputs": [],
   "source": [
    "# Insert Data element with specific index\n",
    "list1.insert(3, \"bear\")"
   ]
  },
  {
   "cell_type": "code",
   "execution_count": 123,
   "id": "9d00f179",
   "metadata": {},
   "outputs": [
    {
     "data": {
      "text/plain": [
       "[0,\n",
       " 2,\n",
       " 100,\n",
       " 'bear',\n",
       " 'bear',\n",
       " 5.6,\n",
       " 'apple',\n",
       " 'pear',\n",
       " ['Athena', 'Apollo', 'Zeus'],\n",
       " 2,\n",
       " ['Cat', 'Dog', 'Duck', 'Rabbit', 'Turtle'],\n",
       " ['grape', 'Orange']]"
      ]
     },
     "execution_count": 123,
     "metadata": {},
     "output_type": "execute_result"
    }
   ],
   "source": [
    "list1"
   ]
  },
  {
   "cell_type": "code",
   "execution_count": 124,
   "id": "e356e24c",
   "metadata": {},
   "outputs": [],
   "source": [
    "list1[3]=\"Tiger\""
   ]
  },
  {
   "cell_type": "code",
   "execution_count": 125,
   "id": "acb311fd",
   "metadata": {},
   "outputs": [
    {
     "data": {
      "text/plain": [
       "[0,\n",
       " 2,\n",
       " 100,\n",
       " 'Tiger',\n",
       " 'bear',\n",
       " 5.6,\n",
       " 'apple',\n",
       " 'pear',\n",
       " ['Athena', 'Apollo', 'Zeus'],\n",
       " 2,\n",
       " ['Cat', 'Dog', 'Duck', 'Rabbit', 'Turtle'],\n",
       " ['grape', 'Orange']]"
      ]
     },
     "execution_count": 125,
     "metadata": {},
     "output_type": "execute_result"
    }
   ],
   "source": [
    "list1"
   ]
  },
  {
   "cell_type": "markdown",
   "id": "f8f63e55",
   "metadata": {},
   "source": [
    "### 1.4 Remove"
   ]
  },
  {
   "cell_type": "markdown",
   "id": "3e4f1822",
   "metadata": {},
   "source": [
    "list.pop()\n",
    "\n",
    "list.pop(index)\n",
    "\n",
    "list.remove(element)\n",
    "\n",
    "del list[index]"
   ]
  },
  {
   "cell_type": "code",
   "execution_count": 128,
   "id": "a5ad95cf",
   "metadata": {},
   "outputs": [
    {
     "data": {
      "text/plain": [
       "['grape', 'Orange']"
      ]
     },
     "execution_count": 128,
     "metadata": {},
     "output_type": "execute_result"
    }
   ],
   "source": [
    "# Remove last element\n",
    "list1.pop()"
   ]
  },
  {
   "cell_type": "code",
   "execution_count": 129,
   "id": "6ae4923c",
   "metadata": {},
   "outputs": [
    {
     "data": {
      "text/plain": [
       "[0,\n",
       " 2,\n",
       " 100,\n",
       " 'Tiger',\n",
       " 'bear',\n",
       " 'apple',\n",
       " 'pear',\n",
       " ['Athena', 'Apollo', 'Zeus'],\n",
       " 2,\n",
       " ['Cat', 'Dog', 'Duck', 'Rabbit', 'Turtle']]"
      ]
     },
     "execution_count": 129,
     "metadata": {},
     "output_type": "execute_result"
    }
   ],
   "source": [
    "list1"
   ]
  },
  {
   "cell_type": "code",
   "execution_count": 131,
   "id": "df5eebed",
   "metadata": {},
   "outputs": [],
   "source": [
    "# Remove the element at given index"
   ]
  },
  {
   "cell_type": "code",
   "execution_count": 132,
   "id": "44b7698d",
   "metadata": {},
   "outputs": [
    {
     "data": {
      "text/plain": [
       "'bear'"
      ]
     },
     "execution_count": 132,
     "metadata": {},
     "output_type": "execute_result"
    }
   ],
   "source": [
    "list1.pop(4)"
   ]
  },
  {
   "cell_type": "code",
   "execution_count": 133,
   "id": "a4a8fd52",
   "metadata": {},
   "outputs": [
    {
     "data": {
      "text/plain": [
       "[0,\n",
       " 2,\n",
       " 100,\n",
       " 'Tiger',\n",
       " 'pear',\n",
       " ['Athena', 'Apollo', 'Zeus'],\n",
       " 2,\n",
       " ['Cat', 'Dog', 'Duck', 'Rabbit', 'Turtle']]"
      ]
     },
     "execution_count": 133,
     "metadata": {},
     "output_type": "execute_result"
    }
   ],
   "source": [
    "list1"
   ]
  },
  {
   "cell_type": "code",
   "execution_count": 138,
   "id": "4d4205a1",
   "metadata": {},
   "outputs": [],
   "source": [
    "# Remove the first occurrence of the elment from the list\n",
    "list1.remove(\"pear\")"
   ]
  },
  {
   "cell_type": "code",
   "execution_count": 139,
   "id": "af83fd25",
   "metadata": {},
   "outputs": [
    {
     "data": {
      "text/plain": [
       "[0,\n",
       " 2,\n",
       " 100,\n",
       " ['Athena', 'Apollo', 'Zeus'],\n",
       " 2,\n",
       " ['Cat', 'Dog', 'Duck', 'Rabbit', 'Turtle']]"
      ]
     },
     "execution_count": 139,
     "metadata": {},
     "output_type": "execute_result"
    }
   ],
   "source": [
    "list1"
   ]
  },
  {
   "cell_type": "code",
   "execution_count": 130,
   "id": "96ce7cf1",
   "metadata": {},
   "outputs": [],
   "source": [
    "# Delete index == 5 element\n",
    "del list1[5]"
   ]
  },
  {
   "cell_type": "code",
   "execution_count": 142,
   "id": "43ed9fdb",
   "metadata": {},
   "outputs": [
    {
     "data": {
      "text/plain": [
       "[0,\n",
       " 2,\n",
       " 100,\n",
       " ['Athena', 'Apollo', 'Zeus'],\n",
       " 2,\n",
       " ['Cat', 'Dog', 'Duck', 'Rabbit', 'Turtle']]"
      ]
     },
     "execution_count": 142,
     "metadata": {},
     "output_type": "execute_result"
    }
   ],
   "source": [
    "list1"
   ]
  },
  {
   "cell_type": "code",
   "execution_count": 121,
   "id": "eb61c474",
   "metadata": {},
   "outputs": [
    {
     "data": {
      "text/plain": [
       "[0,\n",
       " 2,\n",
       " 100,\n",
       " 'bear',\n",
       " 5.6,\n",
       " 'apple',\n",
       " 'pear',\n",
       " ['Athena', 'Apollo', 'Zeus'],\n",
       " 2,\n",
       " ['Cat', 'Dog', 'Duck', 'Rabbit', 'Turtle'],\n",
       " ['grape', 'Orange']]"
      ]
     },
     "execution_count": 121,
     "metadata": {},
     "output_type": "execute_result"
    }
   ],
   "source": [
    "list1.index()"
   ]
  },
  {
   "cell_type": "markdown",
   "id": "78aaf2de",
   "metadata": {},
   "source": [
    "### 1.5 Get list Info"
   ]
  },
  {
   "cell_type": "code",
   "execution_count": 143,
   "id": "df09bcc2",
   "metadata": {},
   "outputs": [
    {
     "data": {
      "text/plain": [
       "1"
      ]
     },
     "execution_count": 143,
     "metadata": {},
     "output_type": "execute_result"
    }
   ],
   "source": [
    "# Get Index\n",
    "list1.index(2)"
   ]
  },
  {
   "cell_type": "code",
   "execution_count": 147,
   "id": "752c5067",
   "metadata": {},
   "outputs": [
    {
     "data": {
      "text/plain": [
       "True"
      ]
     },
     "execution_count": 147,
     "metadata": {},
     "output_type": "execute_result"
    }
   ],
   "source": [
    "# Check Membership: In the list == True; Not in the list == False.\n",
    "['Athena', 'Apollo', 'Zeus'] in list1"
   ]
  },
  {
   "cell_type": "markdown",
   "id": "c26c25f9",
   "metadata": {},
   "source": [
    "### 1.6 Slicing"
   ]
  },
  {
   "cell_type": "code",
   "execution_count": 152,
   "id": "cf3e1fe2",
   "metadata": {},
   "outputs": [],
   "source": [
    "list2.append(\"Eagle\")"
   ]
  },
  {
   "cell_type": "code",
   "execution_count": 158,
   "id": "2a6b97ec",
   "metadata": {},
   "outputs": [
    {
     "data": {
      "text/plain": [
       "['Cat',\n",
       " 'Dog',\n",
       " 'Duck',\n",
       " 'Rabbit',\n",
       " 'Turtle',\n",
       " 'Eagle',\n",
       " 'Panda',\n",
       " 'Coyote',\n",
       " 'Panda',\n",
       " 'Coyote',\n",
       " 'Panda',\n",
       " 'Coyote',\n",
       " 'Butterfly',\n",
       " 'Panda',\n",
       " 'Coyote',\n",
       " 'Butterfly']"
      ]
     },
     "execution_count": 158,
     "metadata": {},
     "output_type": "execute_result"
    }
   ],
   "source": [
    "list2=list2+[\"Panda\", \"Coyote\"]+[\"Butterfly\"]\n",
    "list2"
   ]
  },
  {
   "cell_type": "code",
   "execution_count": 156,
   "id": "7a3eff9b",
   "metadata": {},
   "outputs": [
    {
     "data": {
      "text/plain": [
       "['Duck', 'Rabbit', 'Turtle']"
      ]
     },
     "execution_count": 156,
     "metadata": {},
     "output_type": "execute_result"
    }
   ],
   "source": [
    "# slice out the elements from index 2 to 4. [2 ~ n) 2~n-1\n",
    "list2[2:5]"
   ]
  },
  {
   "cell_type": "code",
   "execution_count": 161,
   "id": "2a97aa58",
   "metadata": {},
   "outputs": [
    {
     "data": {
      "text/plain": [
       "4"
      ]
     },
     "execution_count": 161,
     "metadata": {},
     "output_type": "execute_result"
    }
   ],
   "source": [
    "# Count the number of occurrences of element in list\n",
    "list2.count(\"Coyote\")"
   ]
  },
  {
   "cell_type": "code",
   "execution_count": 163,
   "id": "3232dff8",
   "metadata": {},
   "outputs": [
    {
     "data": {
      "text/plain": [
       "1"
      ]
     },
     "execution_count": 163,
     "metadata": {},
     "output_type": "execute_result"
    }
   ],
   "source": [
    "list2.count(\"Eagle\")"
   ]
  },
  {
   "cell_type": "code",
   "execution_count": 168,
   "id": "70f860dd",
   "metadata": {},
   "outputs": [],
   "source": [
    "# Sort the list\n",
    "list2.sort()"
   ]
  },
  {
   "cell_type": "code",
   "execution_count": 169,
   "id": "be2cf841",
   "metadata": {},
   "outputs": [
    {
     "data": {
      "text/plain": [
       "['Butterfly',\n",
       " 'Butterfly',\n",
       " 'Cat',\n",
       " 'Coyote',\n",
       " 'Coyote',\n",
       " 'Coyote',\n",
       " 'Coyote',\n",
       " 'Dog',\n",
       " 'Duck',\n",
       " 'Eagle',\n",
       " 'Panda',\n",
       " 'Panda',\n",
       " 'Panda',\n",
       " 'Panda',\n",
       " 'Rabbit',\n",
       " 'Turtle']"
      ]
     },
     "execution_count": 169,
     "metadata": {},
     "output_type": "execute_result"
    }
   ],
   "source": [
    "list2"
   ]
  },
  {
   "cell_type": "code",
   "execution_count": 174,
   "id": "09fa0d4b",
   "metadata": {},
   "outputs": [],
   "source": [
    "# Reverse the list\n",
    "list2.reverse()"
   ]
  },
  {
   "cell_type": "code",
   "execution_count": 173,
   "id": "e3a6ad60",
   "metadata": {},
   "outputs": [
    {
     "data": {
      "text/plain": [
       "['Turtle',\n",
       " 'Rabbit',\n",
       " 'Panda',\n",
       " 'Panda',\n",
       " 'Panda',\n",
       " 'Panda',\n",
       " 'Eagle',\n",
       " 'Duck',\n",
       " 'Dog',\n",
       " 'Coyote',\n",
       " 'Coyote',\n",
       " 'Coyote',\n",
       " 'Coyote',\n",
       " 'Cat',\n",
       " 'Butterfly',\n",
       " 'Butterfly']"
      ]
     },
     "execution_count": 173,
     "metadata": {},
     "output_type": "execute_result"
    }
   ],
   "source": [
    "list2"
   ]
  },
  {
   "cell_type": "markdown",
   "id": "e3d216a1",
   "metadata": {},
   "source": [
    "# 2. Dictionary"
   ]
  },
  {
   "cell_type": "markdown",
   "id": "e62342fc",
   "metadata": {},
   "source": [
    "- Anunordered collection of data values, used to store data values like a map.\n",
    "- key:value pair.\n",
    "- Each key-value pair in a Dictionary is separated by a colon :, whereas each key is separated by a ‘comma’.\n",
    "- Keys of a Dictionary must be unique and of immutable data type such as Strings, Integers and tuples, but the key-values can be repeated and be of any type."
   ]
  },
  {
   "cell_type": "markdown",
   "id": "a0b5553e",
   "metadata": {},
   "source": [
    "![Dictionary](https://astikanand.github.io/techblogs/python/assets/python_dictionary.png)"
   ]
  },
  {
   "cell_type": "markdown",
   "id": "3b8d1253",
   "metadata": {},
   "source": [
    "### 2.1 Initialize Dictionary"
   ]
  },
  {
   "cell_type": "code",
   "execution_count": 177,
   "id": "52145378",
   "metadata": {},
   "outputs": [
    {
     "name": "stdout",
     "output_type": "stream",
     "text": [
      "Initial Dict = {1: 'abcd', 'apples': 3, 'fruits': ['apples', 'mangoes'], 'Names': ['Charlie', 'Sunny', 'Sky']}\n"
     ]
    }
   ],
   "source": [
    "# initialize\n",
    "dict1 = {1: \"abcd\", \"apples\": 3, \"fruits\": [\"apples\", \"mangoes\"], \"Names\":['Charlie', 'Sunny', 'Sky'] }\n",
    "print(\"Initial Dict = {}\".format(dict1))"
   ]
  },
  {
   "cell_type": "code",
   "execution_count": 178,
   "id": "02250469",
   "metadata": {},
   "outputs": [
    {
     "data": {
      "text/plain": [
       "{1: 'abcd',\n",
       " 'apples': 3,\n",
       " 'fruits': ['apples', 'mangoes'],\n",
       " 'Names': ['Charlie', 'Sunny', 'Sky']}"
      ]
     },
     "execution_count": 178,
     "metadata": {},
     "output_type": "execute_result"
    }
   ],
   "source": [
    "dict1"
   ]
  },
  {
   "cell_type": "code",
   "execution_count": 179,
   "id": "ec31234c",
   "metadata": {},
   "outputs": [],
   "source": [
    "#Insert Key:Value Pair\n",
    "dict1[2]=5"
   ]
  },
  {
   "cell_type": "code",
   "execution_count": 180,
   "id": "07229c70",
   "metadata": {},
   "outputs": [
    {
     "data": {
      "text/plain": [
       "{1: 'abcd',\n",
       " 'apples': 3,\n",
       " 'fruits': ['apples', 'mangoes'],\n",
       " 'Names': ['Charlie', 'Sunny', 'Sky'],\n",
       " 2: 5}"
      ]
     },
     "execution_count": 180,
     "metadata": {},
     "output_type": "execute_result"
    }
   ],
   "source": [
    "dict1"
   ]
  },
  {
   "cell_type": "code",
   "execution_count": 182,
   "id": "2339c74f",
   "metadata": {},
   "outputs": [
    {
     "data": {
      "text/plain": [
       "5"
      ]
     },
     "execution_count": 182,
     "metadata": {},
     "output_type": "execute_result"
    }
   ],
   "source": [
    "len(dict1)"
   ]
  },
  {
   "cell_type": "code",
   "execution_count": 217,
   "id": "f594dd93",
   "metadata": {},
   "outputs": [
    {
     "name": "stdout",
     "output_type": "stream",
     "text": [
      "Key = apples and Value = 3\n",
      "Key = fruits and Value = ['apples', 'mangoes']\n",
      "Key = mangoes and Value = False\n",
      "Key = mangoes and Value = True\n",
      "Key = Names and Value = ['Charlie', 'Sunny', 'Sky']\n",
      "\n"
     ]
    }
   ],
   "source": [
    "print(\"Key = {} and Value = {}\".format(\"apples\", dict1[\"apples\"]))\n",
    "print(\"Key = {} and Value = {}\".format(\"fruits\", dict1.get(\"fruits\", False)))\n",
    "print(\"Key = {} and Value = {}\".format(\"mangoes\", dict1.get(\"mangoes\", False)))\n",
    "print(\"Key = {} and Value = {}\".format(\"mangoes\", dict1.get(\"mangoes\", True)))\n",
    "print(\"Key = {} and Value = {}\\n\".format(\"Names\", dict1.get(\"Names\", True)))"
   ]
  },
  {
   "cell_type": "code",
   "execution_count": 190,
   "id": "ff80f127",
   "metadata": {},
   "outputs": [],
   "source": [
    "a = dict1.get(\"Names\"， False)"
   ]
  },
  {
   "cell_type": "code",
   "execution_count": 193,
   "id": "6e7f6ba1",
   "metadata": {},
   "outputs": [],
   "source": [
    "b = dict1.get(\"Names\", True)"
   ]
  },
  {
   "cell_type": "code",
   "execution_count": 194,
   "id": "20d14331",
   "metadata": {},
   "outputs": [
    {
     "data": {
      "text/plain": [
       "['Charlie', 'Sunny', 'Sky']"
      ]
     },
     "execution_count": 194,
     "metadata": {},
     "output_type": "execute_result"
    }
   ],
   "source": [
    "a"
   ]
  },
  {
   "cell_type": "code",
   "execution_count": 195,
   "id": "76681dd7",
   "metadata": {},
   "outputs": [
    {
     "data": {
      "text/plain": [
       "['Charlie', 'Sunny', 'Sky']"
      ]
     },
     "execution_count": 195,
     "metadata": {},
     "output_type": "execute_result"
    }
   ],
   "source": [
    "b"
   ]
  },
  {
   "cell_type": "code",
   "execution_count": 199,
   "id": "261a83d4",
   "metadata": {},
   "outputs": [
    {
     "name": "stdout",
     "output_type": "stream",
     "text": [
      "<built-in method keys of dict object at 0x7fd2a122c140>\n"
     ]
    }
   ],
   "source": [
    "print(dict1.keys)"
   ]
  },
  {
   "cell_type": "code",
   "execution_count": 200,
   "id": "13664f7c",
   "metadata": {},
   "outputs": [
    {
     "name": "stdout",
     "output_type": "stream",
     "text": [
      "dict1's keys is <built-in method keys of dict object at 0x7fd2a122c140>\n"
     ]
    }
   ],
   "source": [
    "print(\"dict1's keys is {}\".format(dict1.keys))"
   ]
  },
  {
   "cell_type": "markdown",
   "id": "1822df50",
   "metadata": {},
   "source": [
    "### 2.2 Membership Check"
   ]
  },
  {
   "cell_type": "code",
   "execution_count": 204,
   "id": "09332329",
   "metadata": {},
   "outputs": [
    {
     "data": {
      "text/plain": [
       "True"
      ]
     },
     "execution_count": 204,
     "metadata": {},
     "output_type": "execute_result"
    }
   ],
   "source": [
    "# Check whether the key in the dictionary\n",
    "\"Names\" in dict1"
   ]
  },
  {
   "cell_type": "code",
   "execution_count": 205,
   "id": "70165855",
   "metadata": {},
   "outputs": [
    {
     "data": {
      "text/plain": [
       "False"
      ]
     },
     "execution_count": 205,
     "metadata": {},
     "output_type": "execute_result"
    }
   ],
   "source": [
    "# Not check data elements. only check the Keys. \n",
    "\"Sunny\" in dict1"
   ]
  },
  {
   "cell_type": "code",
   "execution_count": 203,
   "id": "746a69fe",
   "metadata": {},
   "outputs": [
    {
     "data": {
      "text/plain": [
       "True"
      ]
     },
     "execution_count": 203,
     "metadata": {},
     "output_type": "execute_result"
    }
   ],
   "source": [
    "'fruits' in dict1"
   ]
  },
  {
   "cell_type": "code",
   "execution_count": 206,
   "id": "4830056d",
   "metadata": {},
   "outputs": [
    {
     "name": "stdout",
     "output_type": "stream",
     "text": [
      "Is fruits in dict1? True\n"
     ]
    }
   ],
   "source": [
    "print(\"Is fruits in dict1? {}\".format(\"fruits\" in dict1))"
   ]
  },
  {
   "cell_type": "code",
   "execution_count": 209,
   "id": "98856634",
   "metadata": {},
   "outputs": [
    {
     "data": {
      "text/plain": [
       "dict_items([(1, 'abcd'), ('apples', 3), ('fruits', ['apples', 'mangoes']), ('Names', ['Charlie', 'Sunny', 'Sky']), (2, 5)])"
      ]
     },
     "execution_count": 209,
     "metadata": {},
     "output_type": "execute_result"
    }
   ],
   "source": [
    "# Get set of (key, value) pairs\n",
    "dict1.items()"
   ]
  },
  {
   "cell_type": "code",
   "execution_count": 214,
   "id": "a92783c2",
   "metadata": {},
   "outputs": [
    {
     "data": {
      "text/plain": [
       "dict_keys([1, 'apples', 'fruits', 'Names', 2])"
      ]
     },
     "execution_count": 214,
     "metadata": {},
     "output_type": "execute_result"
    }
   ],
   "source": [
    "# Get all keys\n",
    "dict1.keys()"
   ]
  },
  {
   "cell_type": "code",
   "execution_count": 215,
   "id": "6024b4d6",
   "metadata": {},
   "outputs": [
    {
     "data": {
      "text/plain": [
       "dict_values(['abcd', 3, ['apples', 'mangoes'], ['Charlie', 'Sunny', 'Sky'], 5])"
      ]
     },
     "execution_count": 215,
     "metadata": {},
     "output_type": "execute_result"
    }
   ],
   "source": [
    "dict1.values()"
   ]
  },
  {
   "cell_type": "code",
   "execution_count": 219,
   "id": "ac660a1c",
   "metadata": {},
   "outputs": [
    {
     "data": {
      "text/plain": [
       "3"
      ]
     },
     "execution_count": 219,
     "metadata": {},
     "output_type": "execute_result"
    }
   ],
   "source": [
    "# setdefault(): get the value if key present else sets the default value to key\n",
    "dict1.setdefault(\"apples\", 0)"
   ]
  },
  {
   "cell_type": "code",
   "execution_count": 221,
   "id": "35ac0e08",
   "metadata": {},
   "outputs": [
    {
     "data": {
      "text/plain": [
       "['apples', 'mangoes']"
      ]
     },
     "execution_count": 221,
     "metadata": {},
     "output_type": "execute_result"
    }
   ],
   "source": [
    "dict1.setdefault(\"fruits\", 0)"
   ]
  },
  {
   "cell_type": "code",
   "execution_count": 222,
   "id": "e238cb35",
   "metadata": {},
   "outputs": [
    {
     "data": {
      "text/plain": [
       "0"
      ]
     },
     "execution_count": 222,
     "metadata": {},
     "output_type": "execute_result"
    }
   ],
   "source": [
    "dict1.setdefault(\"human\", 0)"
   ]
  },
  {
   "cell_type": "code",
   "execution_count": 232,
   "id": "391199f8",
   "metadata": {},
   "outputs": [
    {
     "data": {
      "text/plain": [
       "{1: 'abcd',\n",
       " 'apples': 3,\n",
       " 'fruits': ['apples', 'mangoes'],\n",
       " 'Names': ['Stephnie', 'Gary'],\n",
       " 2: 5,\n",
       " 'mangoes': 0,\n",
       " 'human': 0,\n",
       " 'Charlie': 'Claire',\n",
       " 'Sunny': 'Tony',\n",
       " 'Sky': 3}"
      ]
     },
     "execution_count": 232,
     "metadata": {},
     "output_type": "execute_result"
    }
   ],
   "source": [
    "dict1"
   ]
  },
  {
   "cell_type": "code",
   "execution_count": 224,
   "id": "04fb347c",
   "metadata": {},
   "outputs": [],
   "source": [
    "# Update Dictionary\n",
    "dic2={\"Charlie\": \"Claire\", \"Sunny\": \"Tony\", \"Sky\": 3}"
   ]
  },
  {
   "cell_type": "code",
   "execution_count": 229,
   "id": "543a6cfb",
   "metadata": {},
   "outputs": [],
   "source": [
    "dic3={\"Names\":[\"Stephnie\", \"Gary\"]}"
   ]
  },
  {
   "cell_type": "code",
   "execution_count": 227,
   "id": "e68e8720",
   "metadata": {},
   "outputs": [],
   "source": [
    "dict1.update(dic2)"
   ]
  },
  {
   "cell_type": "code",
   "execution_count": 230,
   "id": "4efe2520",
   "metadata": {},
   "outputs": [],
   "source": [
    "dict1.update(dic3)"
   ]
  },
  {
   "cell_type": "code",
   "execution_count": 236,
   "id": "eea6c8f5",
   "metadata": {},
   "outputs": [
    {
     "data": {
      "text/plain": [
       "{1: 'abcd',\n",
       " 'apples': 3,\n",
       " 'fruits': ['apples', 'mangoes'],\n",
       " 'Names': ['Stephnie', 'Gary'],\n",
       " 2: 5,\n",
       " 'mangoes': 0,\n",
       " 'human': 0,\n",
       " 'Charlie': 'Claire',\n",
       " 'Sunny': 'Tony',\n",
       " 'Sky': 3}"
      ]
     },
     "execution_count": 236,
     "metadata": {},
     "output_type": "execute_result"
    }
   ],
   "source": [
    "dict1"
   ]
  },
  {
   "cell_type": "code",
   "execution_count": 240,
   "id": "70f9a118",
   "metadata": {},
   "outputs": [],
   "source": [
    "# Delete dict1\n",
    "del dict1[\"human\"]"
   ]
  },
  {
   "cell_type": "code",
   "execution_count": 241,
   "id": "91717a4f",
   "metadata": {},
   "outputs": [
    {
     "data": {
      "text/plain": [
       "{1: 'abcd',\n",
       " 'apples': 3,\n",
       " 'fruits': ['apples', 'mangoes'],\n",
       " 'Names': ['Stephnie', 'Gary'],\n",
       " 2: 5,\n",
       " 'Charlie': 'Claire',\n",
       " 'Sunny': 'Tony',\n",
       " 'Sky': 3}"
      ]
     },
     "execution_count": 241,
     "metadata": {},
     "output_type": "execute_result"
    }
   ],
   "source": [
    "dict1"
   ]
  },
  {
   "cell_type": "code",
   "execution_count": 245,
   "id": "68095523",
   "metadata": {},
   "outputs": [],
   "source": [
    "dict4=dict1.copy()"
   ]
  },
  {
   "cell_type": "code",
   "execution_count": 243,
   "id": "d515f3e0",
   "metadata": {},
   "outputs": [
    {
     "data": {
      "text/plain": [
       "{1: 'abcd',\n",
       " 'apples': 3,\n",
       " 'fruits': ['apples', 'mangoes'],\n",
       " 'Names': ['Stephnie', 'Gary'],\n",
       " 2: 5,\n",
       " 'Charlie': 'Claire',\n",
       " 'Sunny': 'Tony',\n",
       " 'Sky': 3}"
      ]
     },
     "execution_count": 243,
     "metadata": {},
     "output_type": "execute_result"
    }
   ],
   "source": [
    "dict4"
   ]
  },
  {
   "cell_type": "code",
   "execution_count": 246,
   "id": "b5f73348",
   "metadata": {},
   "outputs": [],
   "source": [
    "dict4.clear()"
   ]
  },
  {
   "cell_type": "code",
   "execution_count": 247,
   "id": "5f6d61a2",
   "metadata": {},
   "outputs": [
    {
     "data": {
      "text/plain": [
       "{}"
      ]
     },
     "execution_count": 247,
     "metadata": {},
     "output_type": "execute_result"
    }
   ],
   "source": [
    "dict4"
   ]
  },
  {
   "cell_type": "code",
   "execution_count": 248,
   "id": "31fa9c46",
   "metadata": {},
   "outputs": [],
   "source": [
    "seq =(\"Name\", \"Age\", \"Gender\")"
   ]
  },
  {
   "cell_type": "code",
   "execution_count": 252,
   "id": "85bd6199",
   "metadata": {},
   "outputs": [
    {
     "data": {
      "text/plain": [
       "{'Name': None, 'Age': None, 'Gender': None}"
      ]
     },
     "execution_count": 252,
     "metadata": {},
     "output_type": "execute_result"
    }
   ],
   "source": [
    "dict1.fromkeys(seq)"
   ]
  },
  {
   "cell_type": "code",
   "execution_count": 253,
   "id": "987dc78b",
   "metadata": {},
   "outputs": [
    {
     "data": {
      "text/plain": [
       "{1: 'abcd',\n",
       " 'apples': 3,\n",
       " 'fruits': ['apples', 'mangoes'],\n",
       " 'Names': ['Stephnie', 'Gary'],\n",
       " 2: 5,\n",
       " 'Charlie': 'Claire',\n",
       " 'Sunny': 'Tony',\n",
       " 'Sky': 3}"
      ]
     },
     "execution_count": 253,
     "metadata": {},
     "output_type": "execute_result"
    }
   ],
   "source": [
    "dict1"
   ]
  },
  {
   "cell_type": "code",
   "execution_count": 254,
   "id": "112df5a7",
   "metadata": {},
   "outputs": [
    {
     "data": {
      "text/plain": [
       "{'Name': 10, 'Age': 10, 'Gender': 10}"
      ]
     },
     "execution_count": 254,
     "metadata": {},
     "output_type": "execute_result"
    }
   ],
   "source": [
    "dict1.fromkeys(seq,10)"
   ]
  },
  {
   "cell_type": "code",
   "execution_count": 255,
   "id": "c1349bdb",
   "metadata": {},
   "outputs": [
    {
     "data": {
      "text/plain": [
       "{1: 'abcd',\n",
       " 'apples': 3,\n",
       " 'fruits': ['apples', 'mangoes'],\n",
       " 'Names': ['Stephnie', 'Gary'],\n",
       " 2: 5,\n",
       " 'Charlie': 'Claire',\n",
       " 'Sunny': 'Tony',\n",
       " 'Sky': 3}"
      ]
     },
     "execution_count": 255,
     "metadata": {},
     "output_type": "execute_result"
    }
   ],
   "source": [
    "dict1"
   ]
  },
  {
   "cell_type": "markdown",
   "id": "edbc5b5d",
   "metadata": {},
   "source": [
    "# 3. Tuple"
   ]
  },
  {
   "cell_type": "markdown",
   "id": "f4ba43f8",
   "metadata": {},
   "source": [
    "- A Tuple is a collection of Python objects separated by commas."
   ]
  },
  {
   "cell_type": "markdown",
   "id": "16e39994",
   "metadata": {},
   "source": [
    "- Tuple is similar to a List in terms of indexing, nested objects and repetition. \n",
    "- Tuple is immutable; List is mutable;"
   ]
  },
  {
   "cell_type": "markdown",
   "id": "e332d227",
   "metadata": {},
   "source": [
    "![Tuple](https://astikanand.github.io/techblogs/python/assets/python_tuples.png)"
   ]
  },
  {
   "cell_type": "markdown",
   "id": "f9984da4",
   "metadata": {},
   "source": [
    "### 3.1 creation of tuple"
   ]
  },
  {
   "cell_type": "code",
   "execution_count": 72,
   "id": "e9b966a2",
   "metadata": {},
   "outputs": [],
   "source": [
    "tup1 = ('physics', 'chemistry', 1997, 2000, 5, 7)"
   ]
  },
  {
   "cell_type": "code",
   "execution_count": 73,
   "id": "321a633e",
   "metadata": {},
   "outputs": [
    {
     "data": {
      "text/plain": [
       "('physics', 'chemistry', 1997, 2000, 5, 7)"
      ]
     },
     "execution_count": 73,
     "metadata": {},
     "output_type": "execute_result"
    }
   ],
   "source": [
    "tup1"
   ]
  },
  {
   "cell_type": "markdown",
   "id": "f746219d",
   "metadata": {},
   "source": [
    "### 3.2 Convert an array to a tuple"
   ]
  },
  {
   "cell_type": "code",
   "execution_count": 74,
   "id": "f2d69703",
   "metadata": {},
   "outputs": [],
   "source": [
    "# Convert a array to tuple\n",
    "tup2 = tuple([2,3,4,1,5,7,9,13])"
   ]
  },
  {
   "cell_type": "code",
   "execution_count": 75,
   "id": "15de9ce5",
   "metadata": {},
   "outputs": [
    {
     "data": {
      "text/plain": [
       "(2, 3, 4, 1, 5, 7, 9, 13)"
      ]
     },
     "execution_count": 75,
     "metadata": {},
     "output_type": "execute_result"
    }
   ],
   "source": [
    "tup2"
   ]
  },
  {
   "cell_type": "code",
   "execution_count": 52,
   "id": "51a8aea4",
   "metadata": {},
   "outputs": [
    {
     "name": "stdout",
     "output_type": "stream",
     "text": [
      "Tuple tup1 : ('physics', 'chemistry', 1997, 2000, 5, 7)\n",
      "Tuple tup2 : (2, 3, 4, 1, 5, 7, 9, 13)\n"
     ]
    }
   ],
   "source": [
    "print(\"Tuple tup1 : {}\".format(tup1))\n",
    "print(\"Tuple tup2 : {}\".format(tup2))"
   ]
  },
  {
   "cell_type": "code",
   "execution_count": 53,
   "id": "47c41768",
   "metadata": {},
   "outputs": [
    {
     "name": "stdout",
     "output_type": "stream",
     "text": [
      "Tuple tup1's 3rd element is 1997\n",
      "Tuple tup2's 4th element is 1\n"
     ]
    }
   ],
   "source": [
    "print(\"Tuple tup1's 3rd element is {}\".format(tup1[2]))\n",
    "print(\"Tuple tup2's 4th element is {}\".format(tup2[3]))"
   ]
  },
  {
   "cell_type": "markdown",
   "id": "db614d3f",
   "metadata": {},
   "source": [
    "### 3.3 Get Tuple Length"
   ]
  },
  {
   "cell_type": "code",
   "execution_count": 54,
   "id": "993dc83a",
   "metadata": {},
   "outputs": [
    {
     "data": {
      "text/plain": [
       "6"
      ]
     },
     "execution_count": 54,
     "metadata": {},
     "output_type": "execute_result"
    }
   ],
   "source": [
    "# Get the size of a Tuple\n",
    "len(tup1)"
   ]
  },
  {
   "cell_type": "code",
   "execution_count": 55,
   "id": "9c4a149c",
   "metadata": {},
   "outputs": [
    {
     "data": {
      "text/plain": [
       "8"
      ]
     },
     "execution_count": 55,
     "metadata": {},
     "output_type": "execute_result"
    }
   ],
   "source": [
    "len(tup2)"
   ]
  },
  {
   "cell_type": "markdown",
   "id": "ed471bd4",
   "metadata": {},
   "source": [
    "### 3.4 Concatenation"
   ]
  },
  {
   "cell_type": "code",
   "execution_count": 56,
   "id": "9304ea53",
   "metadata": {},
   "outputs": [],
   "source": [
    "# Concatenation \n",
    "tup3 = tup1+tup2\n",
    "tup4 = tup2+tup1"
   ]
  },
  {
   "cell_type": "code",
   "execution_count": 57,
   "id": "06285e1f",
   "metadata": {},
   "outputs": [
    {
     "data": {
      "text/plain": [
       "('physics', 'chemistry', 1997, 2000, 5, 7, 2, 3, 4, 1, 5, 7, 9, 13)"
      ]
     },
     "execution_count": 57,
     "metadata": {},
     "output_type": "execute_result"
    }
   ],
   "source": [
    "tup3"
   ]
  },
  {
   "cell_type": "code",
   "execution_count": 58,
   "id": "a8e835f1",
   "metadata": {},
   "outputs": [
    {
     "data": {
      "text/plain": [
       "(2, 3, 4, 1, 5, 7, 9, 13, 'physics', 'chemistry', 1997, 2000, 5, 7)"
      ]
     },
     "execution_count": 58,
     "metadata": {},
     "output_type": "execute_result"
    }
   ],
   "source": [
    "tup4"
   ]
  },
  {
   "cell_type": "markdown",
   "id": "36a43910",
   "metadata": {},
   "source": [
    "### 3.5 Tuple Comparisom "
   ]
  },
  {
   "cell_type": "code",
   "execution_count": 64,
   "id": "6b1b6992",
   "metadata": {},
   "outputs": [],
   "source": [
    "# Find common part (intersection) between two Tuples"
   ]
  },
  {
   "cell_type": "code",
   "execution_count": 65,
   "id": "d918f5c5",
   "metadata": {},
   "outputs": [],
   "source": [
    "tup1_as_set = set(tup1)\n",
    "tup2_as_set = set(tup2)"
   ]
  },
  {
   "cell_type": "code",
   "execution_count": 66,
   "id": "ec5a5837",
   "metadata": {},
   "outputs": [],
   "source": [
    "intersection=tup1_as_set.intersection(tup2_as_set)"
   ]
  },
  {
   "cell_type": "code",
   "execution_count": 67,
   "id": "c8094a72",
   "metadata": {},
   "outputs": [
    {
     "data": {
      "text/plain": [
       "{5, 7}"
      ]
     },
     "execution_count": 67,
     "metadata": {},
     "output_type": "execute_result"
    }
   ],
   "source": [
    "intersection"
   ]
  },
  {
   "cell_type": "code",
   "execution_count": 69,
   "id": "efb7c2d7",
   "metadata": {},
   "outputs": [
    {
     "name": "stdout",
     "output_type": "stream",
     "text": [
      "[5, 7]\n"
     ]
    }
   ],
   "source": [
    "intersection_as_list = list(intersection)\n",
    "print(intersection_as_list)"
   ]
  },
  {
   "cell_type": "markdown",
   "id": "bd1eaf89",
   "metadata": {},
   "source": [
    "### 3.6 Tuple Subtraction"
   ]
  },
  {
   "cell_type": "markdown",
   "id": "a822723f",
   "metadata": {},
   "source": [
    "Only numerical elements can perform subtraction operation"
   ]
  },
  {
   "cell_type": "code",
   "execution_count": 81,
   "id": "6f49add0",
   "metadata": {},
   "outputs": [
    {
     "name": "stdout",
     "output_type": "stream",
     "text": [
      "The first tuple is : \n",
      "(7, 8, 11, 0, 3)\n",
      "The second tuple is : \n",
      "(3, 2, 22, 45, 12, 9)\n",
      "The tuple after subtraction is : \n",
      "(4, 6, -11, -45, -9)\n"
     ]
    }
   ],
   "source": [
    "my_tuple_1 = tuple([7, 8, 11, 0 ,3])\n",
    "my_tuple_2 = tuple([3, 2, 22, 45, 12, 9])\n",
    "\n",
    "print (\"The first tuple is : \" )\n",
    "print(my_tuple_1)\n",
    "print (\"The second tuple is : \" )\n",
    "print(my_tuple_2)\n",
    "\n",
    "my_result = tuple(map(lambda i, j: i - j, my_tuple_1, my_tuple_2))\n",
    "\n",
    "print(\"The tuple after subtraction is : \" )\n",
    "print(my_result)"
   ]
  },
  {
   "cell_type": "code",
   "execution_count": 29,
   "id": "bf4e8728",
   "metadata": {},
   "outputs": [
    {
     "name": "stdout",
     "output_type": "stream",
     "text": [
      "chemistry present in tup1 ? : True\n",
      "chemistry present in tup2 ? : False\n",
      "\n"
     ]
    }
   ],
   "source": [
    "# Membership\n",
    "print(\"chemistry present in tup1 ? : {}\".format('chemistry' in tup1))\n",
    "print(\"chemistry present in tup2 ? : {}\\n\".format('chemistry' in tup2))"
   ]
  },
  {
   "cell_type": "code",
   "execution_count": 35,
   "id": "a7e7485e",
   "metadata": {},
   "outputs": [],
   "source": [
    "membership_p = 'physics' in tup1"
   ]
  },
  {
   "cell_type": "code",
   "execution_count": 36,
   "id": "ab7c1fed",
   "metadata": {},
   "outputs": [
    {
     "data": {
      "text/plain": [
       "True"
      ]
     },
     "execution_count": 36,
     "metadata": {},
     "output_type": "execute_result"
    }
   ],
   "source": [
    "membership_p"
   ]
  },
  {
   "cell_type": "code",
   "execution_count": 38,
   "id": "0f0e7bb2",
   "metadata": {},
   "outputs": [],
   "source": [
    "membership_7 = '7' in tup2"
   ]
  },
  {
   "cell_type": "code",
   "execution_count": 39,
   "id": "c140b097",
   "metadata": {},
   "outputs": [
    {
     "data": {
      "text/plain": [
       "False"
      ]
     },
     "execution_count": 39,
     "metadata": {},
     "output_type": "execute_result"
    }
   ],
   "source": [
    "membership_7"
   ]
  },
  {
   "cell_type": "markdown",
   "id": "1f35cb85",
   "metadata": {},
   "source": [
    "# 4. Set"
   ]
  },
  {
   "cell_type": "markdown",
   "id": "88ff4009",
   "metadata": {},
   "source": [
    "- A Set is an unordered collection data type that is iterable, mutable, and has no duplicate elements. //Unique Data elements.\n",
    "- Python’s set class represents the mathematical notion of a set.\n",
    "- The major advantage of using a set, as opposed to a list, is that it has a highly optimized method for checking whether a specific element is contained in the set. This is based on a data structure known as a hash table.\n",
    "- Frozen sets are immutable objects that only support methods and operators that produce a result without affecting the frozen set or sets to which they are applied.\n",
    "- Two major pitfalls in Python sets:\n",
    "  + The set doesn’t maintain elements in any particular order.\n",
    "  + Only instances of immutable types can be added to a Python set."
   ]
  },
  {
   "cell_type": "markdown",
   "id": "658c40f1",
   "metadata": {},
   "source": [
    "![Set](https://astikanand.github.io/techblogs/python/assets/python_sets.png)"
   ]
  },
  {
   "cell_type": "code",
   "execution_count": 2,
   "id": "a79932d6",
   "metadata": {},
   "outputs": [],
   "source": [
    "# Initiate a set()\n",
    "set1=set()"
   ]
  },
  {
   "cell_type": "code",
   "execution_count": 3,
   "id": "62464fad",
   "metadata": {},
   "outputs": [],
   "source": [
    "# Convert a list to a set\n",
    "set2 = set([3, 6, \"A\", 1, \"Charlie\", \"Sunny\", 0.5,  \"b\", \"a\", 10, \"Sky\"])"
   ]
  },
  {
   "cell_type": "code",
   "execution_count": 4,
   "id": "74d5b3db",
   "metadata": {},
   "outputs": [
    {
     "data": {
      "text/plain": [
       "{0.5, 1, 10, 3, 6, 'A', 'Charlie', 'Sky', 'Sunny', 'a', 'b'}"
      ]
     },
     "execution_count": 4,
     "metadata": {},
     "output_type": "execute_result"
    }
   ],
   "source": [
    "set2"
   ]
  },
  {
   "cell_type": "code",
   "execution_count": 5,
   "id": "7d5f87a1",
   "metadata": {},
   "outputs": [],
   "source": [
    "set2.add(\"Pear\")"
   ]
  },
  {
   "cell_type": "code",
   "execution_count": 6,
   "id": "91d83207",
   "metadata": {},
   "outputs": [],
   "source": [
    "set2.add('Apple')"
   ]
  },
  {
   "cell_type": "code",
   "execution_count": 7,
   "id": "ba07d4f1",
   "metadata": {},
   "outputs": [
    {
     "data": {
      "text/plain": [
       "{0.5, 1, 10, 3, 6, 'A', 'Apple', 'Charlie', 'Pear', 'Sky', 'Sunny', 'a', 'b'}"
      ]
     },
     "execution_count": 7,
     "metadata": {},
     "output_type": "execute_result"
    }
   ],
   "source": [
    "set2"
   ]
  },
  {
   "cell_type": "code",
   "execution_count": 302,
   "id": "17f4e71c",
   "metadata": {},
   "outputs": [],
   "source": [
    "# for loop, [1,7)\n",
    "for i in range (1,7):\n",
    "    set1.add(i)"
   ]
  },
  {
   "cell_type": "code",
   "execution_count": 303,
   "id": "0de8104a",
   "metadata": {},
   "outputs": [
    {
     "data": {
      "text/plain": [
       "{1, 2, 3, 4, 5, 6, 'Sky'}"
      ]
     },
     "execution_count": 303,
     "metadata": {},
     "output_type": "execute_result"
    }
   ],
   "source": [
    "set1"
   ]
  },
  {
   "cell_type": "code",
   "execution_count": 304,
   "id": "49c3512c",
   "metadata": {},
   "outputs": [],
   "source": [
    "set1.add(\"Sky\")"
   ]
  },
  {
   "cell_type": "code",
   "execution_count": 305,
   "id": "090ef6c3",
   "metadata": {},
   "outputs": [],
   "source": [
    "# Delete one data element by using index\n",
    "set1.discard(5)"
   ]
  },
  {
   "cell_type": "code",
   "execution_count": 306,
   "id": "d84a252a",
   "metadata": {},
   "outputs": [
    {
     "data": {
      "text/plain": [
       "{1, 2, 3, 4, 6, 'Sky'}"
      ]
     },
     "execution_count": 306,
     "metadata": {},
     "output_type": "execute_result"
    }
   ],
   "source": [
    "set1"
   ]
  },
  {
   "cell_type": "code",
   "execution_count": 309,
   "id": "f4db9061",
   "metadata": {},
   "outputs": [],
   "source": [
    "# Get Union (Outer Join/Merge) of set1 and set2\n",
    "set3 = set1 | set2"
   ]
  },
  {
   "cell_type": "code",
   "execution_count": 308,
   "id": "7d90279a",
   "metadata": {},
   "outputs": [
    {
     "data": {
      "text/plain": [
       "{0.5, 1, 10, 2, 3, 4, 6, 'A', 'Charlie', 'Pear', 'Sky', 'Sunny', 'a', 'b'}"
      ]
     },
     "execution_count": 308,
     "metadata": {},
     "output_type": "execute_result"
    }
   ],
   "source": [
    "set3"
   ]
  },
  {
   "cell_type": "code",
   "execution_count": 323,
   "id": "5e1ad098",
   "metadata": {},
   "outputs": [],
   "source": [
    "set4 =set([\"Japan\", 8,\"Turkey\", 0.03, \"Ukraine\", 0, \"German\"])"
   ]
  },
  {
   "cell_type": "code",
   "execution_count": 326,
   "id": "97bbdd71",
   "metadata": {},
   "outputs": [],
   "source": [
    "\n",
    "set5 = set1.union(set4)"
   ]
  },
  {
   "cell_type": "code",
   "execution_count": 327,
   "id": "76f2c9be",
   "metadata": {},
   "outputs": [
    {
     "data": {
      "text/plain": [
       "{0, 0.03, 1, 2, 3, 4, 6, 8, 'German', 'Japan', 'Sky', 'Turkey', 'Ukraine'}"
      ]
     },
     "execution_count": 327,
     "metadata": {},
     "output_type": "execute_result"
    }
   ],
   "source": [
    "set5"
   ]
  },
  {
   "cell_type": "code",
   "execution_count": 328,
   "id": "fdc86fe9",
   "metadata": {},
   "outputs": [],
   "source": [
    "# Return Intersection of two sets\n",
    "s_intersection=set1.intersection(set2)"
   ]
  },
  {
   "cell_type": "code",
   "execution_count": 329,
   "id": "d4e9788c",
   "metadata": {},
   "outputs": [
    {
     "data": {
      "text/plain": [
       "{1, 3, 6, 'Sky'}"
      ]
     },
     "execution_count": 329,
     "metadata": {},
     "output_type": "execute_result"
    }
   ],
   "source": [
    "s_intersection"
   ]
  },
  {
   "cell_type": "code",
   "execution_count": 343,
   "id": "20b66eab",
   "metadata": {},
   "outputs": [],
   "source": [
    "d1 = \"n\\n\"\n",
    "d2 = [\"Sunny\", \"Charlie\", \"Sky\"]"
   ]
  },
  {
   "cell_type": "code",
   "execution_count": 344,
   "id": "d2beb14b",
   "metadata": {},
   "outputs": [],
   "source": [
    "d3 = d1.join(d2)"
   ]
  },
  {
   "cell_type": "code",
   "execution_count": 345,
   "id": "c5918300",
   "metadata": {},
   "outputs": [
    {
     "data": {
      "text/plain": [
       "'Sunnyn\\nCharlien\\nSky'"
      ]
     },
     "execution_count": 345,
     "metadata": {},
     "output_type": "execute_result"
    }
   ],
   "source": [
    "d3"
   ]
  },
  {
   "cell_type": "code",
   "execution_count": null,
   "id": "c742241c",
   "metadata": {},
   "outputs": [],
   "source": []
  }
 ],
 "metadata": {
  "kernelspec": {
   "display_name": "Python 3",
   "language": "python",
   "name": "python3"
  },
  "language_info": {
   "codemirror_mode": {
    "name": "ipython",
    "version": 3
   },
   "file_extension": ".py",
   "mimetype": "text/x-python",
   "name": "python",
   "nbconvert_exporter": "python",
   "pygments_lexer": "ipython3",
   "version": "3.8.3"
  }
 },
 "nbformat": 4,
 "nbformat_minor": 5
}
