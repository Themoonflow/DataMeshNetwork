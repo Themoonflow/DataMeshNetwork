{
 "cells": [
  {
   "cell_type": "markdown",
   "id": "7eb26e46",
   "metadata": {},
   "source": [
    "# 1. List"
   ]
  },
  {
   "cell_type": "code",
   "execution_count": null,
   "id": "26f69062",
   "metadata": {},
   "outputs": [],
   "source": []
  },
  {
   "cell_type": "code",
   "execution_count": null,
   "id": "5f07d51c",
   "metadata": {},
   "outputs": [],
   "source": []
  },
  {
   "cell_type": "code",
   "execution_count": null,
   "id": "74872b3a",
   "metadata": {},
   "outputs": [],
   "source": []
  },
  {
   "cell_type": "markdown",
   "id": "bff7267e",
   "metadata": {},
   "source": [
    "# 2. Dictionary"
   ]
  },
  {
   "cell_type": "code",
   "execution_count": null,
   "id": "f308be89",
   "metadata": {},
   "outputs": [],
   "source": []
  },
  {
   "cell_type": "code",
   "execution_count": null,
   "id": "a35bbca5",
   "metadata": {},
   "outputs": [],
   "source": []
  },
  {
   "cell_type": "code",
   "execution_count": null,
   "id": "6c626ac0",
   "metadata": {},
   "outputs": [],
   "source": []
  },
  {
   "cell_type": "markdown",
   "id": "72f3a421",
   "metadata": {},
   "source": [
    "# 3. Tuple"
   ]
  },
  {
   "cell_type": "markdown",
   "id": "75ca1ad3",
   "metadata": {},
   "source": [
    "A Tuple is a collection of Python objects separated by commas."
   ]
  },
  {
   "cell_type": "markdown",
   "id": "f3aaf07e",
   "metadata": {},
   "source": [
    "Tuple is similar to a List in terms of indexing, nested objects and repetition. but Tuple is immutable; List is mutable;"
   ]
  },
  {
   "cell_type": "markdown",
   "id": "a1a9615a",
   "metadata": {},
   "source": [
    "### 3.1 creation of tuple"
   ]
  },
  {
   "cell_type": "code",
   "execution_count": 72,
   "id": "4a518d2c",
   "metadata": {},
   "outputs": [],
   "source": [
    "tup1 = ('physics', 'chemistry', 1997, 2000, 5, 7)"
   ]
  },
  {
   "cell_type": "code",
   "execution_count": 73,
   "id": "6fbeabf6",
   "metadata": {},
   "outputs": [
    {
     "data": {
      "text/plain": [
       "('physics', 'chemistry', 1997, 2000, 5, 7)"
      ]
     },
     "execution_count": 73,
     "metadata": {},
     "output_type": "execute_result"
    }
   ],
   "source": [
    "tup1"
   ]
  },
  {
   "cell_type": "markdown",
   "id": "e19a8686",
   "metadata": {},
   "source": [
    "### 3.2 Convert an array to a tuple"
   ]
  },
  {
   "cell_type": "code",
   "execution_count": 74,
   "id": "e48a5bc7",
   "metadata": {},
   "outputs": [],
   "source": [
    "# Convert a array to tuple\n",
    "tup2 = tuple([2,3,4,1,5,7,9,13])"
   ]
  },
  {
   "cell_type": "code",
   "execution_count": 75,
   "id": "045bea85",
   "metadata": {},
   "outputs": [
    {
     "data": {
      "text/plain": [
       "(2, 3, 4, 1, 5, 7, 9, 13)"
      ]
     },
     "execution_count": 75,
     "metadata": {},
     "output_type": "execute_result"
    }
   ],
   "source": [
    "tup2"
   ]
  },
  {
   "cell_type": "code",
   "execution_count": 52,
   "id": "6ab9c620",
   "metadata": {},
   "outputs": [
    {
     "name": "stdout",
     "output_type": "stream",
     "text": [
      "Tuple tup1 : ('physics', 'chemistry', 1997, 2000, 5, 7)\n",
      "Tuple tup2 : (2, 3, 4, 1, 5, 7, 9, 13)\n"
     ]
    }
   ],
   "source": [
    "print(\"Tuple tup1 : {}\".format(tup1))\n",
    "print(\"Tuple tup2 : {}\".format(tup2))"
   ]
  },
  {
   "cell_type": "code",
   "execution_count": 53,
   "id": "d649f9fa",
   "metadata": {},
   "outputs": [
    {
     "name": "stdout",
     "output_type": "stream",
     "text": [
      "Tuple tup1's 3rd element is 1997\n",
      "Tuple tup2's 4th element is 1\n"
     ]
    }
   ],
   "source": [
    "print(\"Tuple tup1's 3rd element is {}\".format(tup1[2]))\n",
    "print(\"Tuple tup2's 4th element is {}\".format(tup2[3]))"
   ]
  },
  {
   "cell_type": "markdown",
   "id": "f5314bf3",
   "metadata": {},
   "source": [
    "### 3.3 Get Tuple Length"
   ]
  },
  {
   "cell_type": "code",
   "execution_count": 54,
   "id": "41783777",
   "metadata": {},
   "outputs": [
    {
     "data": {
      "text/plain": [
       "6"
      ]
     },
     "execution_count": 54,
     "metadata": {},
     "output_type": "execute_result"
    }
   ],
   "source": [
    "# Get the size of a Tuple\n",
    "len(tup1)"
   ]
  },
  {
   "cell_type": "code",
   "execution_count": 55,
   "id": "320ab7cb",
   "metadata": {},
   "outputs": [
    {
     "data": {
      "text/plain": [
       "8"
      ]
     },
     "execution_count": 55,
     "metadata": {},
     "output_type": "execute_result"
    }
   ],
   "source": [
    "len(tup2)"
   ]
  },
  {
   "cell_type": "markdown",
   "id": "13743ea3",
   "metadata": {},
   "source": [
    "### 3.4 Concatenation"
   ]
  },
  {
   "cell_type": "code",
   "execution_count": 56,
   "id": "e442e2f0",
   "metadata": {},
   "outputs": [],
   "source": [
    "# Concatenation \n",
    "tup3 = tup1+tup2\n",
    "tup4 = tup2+tup1"
   ]
  },
  {
   "cell_type": "code",
   "execution_count": 57,
   "id": "3c210768",
   "metadata": {},
   "outputs": [
    {
     "data": {
      "text/plain": [
       "('physics', 'chemistry', 1997, 2000, 5, 7, 2, 3, 4, 1, 5, 7, 9, 13)"
      ]
     },
     "execution_count": 57,
     "metadata": {},
     "output_type": "execute_result"
    }
   ],
   "source": [
    "tup3"
   ]
  },
  {
   "cell_type": "code",
   "execution_count": 58,
   "id": "6334a058",
   "metadata": {},
   "outputs": [
    {
     "data": {
      "text/plain": [
       "(2, 3, 4, 1, 5, 7, 9, 13, 'physics', 'chemistry', 1997, 2000, 5, 7)"
      ]
     },
     "execution_count": 58,
     "metadata": {},
     "output_type": "execute_result"
    }
   ],
   "source": [
    "tup4"
   ]
  },
  {
   "cell_type": "markdown",
   "id": "5c313828",
   "metadata": {},
   "source": [
    "### 3.5 Tuple Comparisom "
   ]
  },
  {
   "cell_type": "code",
   "execution_count": 64,
   "id": "28989185",
   "metadata": {},
   "outputs": [],
   "source": [
    "# Find common part (intersection) between two Tuples"
   ]
  },
  {
   "cell_type": "code",
   "execution_count": 65,
   "id": "72035aba",
   "metadata": {},
   "outputs": [],
   "source": [
    "tup1_as_set = set(tup1)\n",
    "tup2_as_set = set(tup2)"
   ]
  },
  {
   "cell_type": "code",
   "execution_count": 66,
   "id": "5a70712c",
   "metadata": {},
   "outputs": [],
   "source": [
    "intersection=tup1_as_set.intersection(tup2_as_set)"
   ]
  },
  {
   "cell_type": "code",
   "execution_count": 67,
   "id": "922269c6",
   "metadata": {},
   "outputs": [
    {
     "data": {
      "text/plain": [
       "{5, 7}"
      ]
     },
     "execution_count": 67,
     "metadata": {},
     "output_type": "execute_result"
    }
   ],
   "source": [
    "intersection"
   ]
  },
  {
   "cell_type": "code",
   "execution_count": 69,
   "id": "781c9bc2",
   "metadata": {},
   "outputs": [
    {
     "name": "stdout",
     "output_type": "stream",
     "text": [
      "[5, 7]\n"
     ]
    }
   ],
   "source": [
    "intersection_as_list = list(intersection)\n",
    "print(intersection_as_list)"
   ]
  },
  {
   "cell_type": "markdown",
   "id": "b145a80a",
   "metadata": {},
   "source": [
    "### 3.6 Tuple Subtraction"
   ]
  },
  {
   "cell_type": "markdown",
   "id": "f2f44450",
   "metadata": {},
   "source": [
    "Only numerical elements can perform subtraction operation"
   ]
  },
  {
   "cell_type": "code",
   "execution_count": 81,
   "id": "27c87a6c",
   "metadata": {},
   "outputs": [
    {
     "name": "stdout",
     "output_type": "stream",
     "text": [
      "The first tuple is : \n",
      "(7, 8, 11, 0, 3)\n",
      "The second tuple is : \n",
      "(3, 2, 22, 45, 12, 9)\n",
      "The tuple after subtraction is : \n",
      "(4, 6, -11, -45, -9)\n"
     ]
    }
   ],
   "source": [
    "my_tuple_1 = tuple([7, 8, 11, 0 ,3])\n",
    "my_tuple_2 = tuple([3, 2, 22, 45, 12, 9])\n",
    "\n",
    "print (\"The first tuple is : \" )\n",
    "print(my_tuple_1)\n",
    "print (\"The second tuple is : \" )\n",
    "print(my_tuple_2)\n",
    "\n",
    "my_result = tuple(map(lambda i, j: i - j, my_tuple_1, my_tuple_2))\n",
    "\n",
    "print(\"The tuple after subtraction is : \" )\n",
    "print(my_result)"
   ]
  },
  {
   "cell_type": "code",
   "execution_count": null,
   "id": "a9741d43",
   "metadata": {},
   "outputs": [],
   "source": []
  },
  {
   "cell_type": "code",
   "execution_count": null,
   "id": "d933c103",
   "metadata": {},
   "outputs": [],
   "source": []
  },
  {
   "cell_type": "code",
   "execution_count": null,
   "id": "8876c89d",
   "metadata": {},
   "outputs": [],
   "source": []
  },
  {
   "cell_type": "code",
   "execution_count": null,
   "id": "7bd0c6df",
   "metadata": {},
   "outputs": [],
   "source": []
  },
  {
   "cell_type": "code",
   "execution_count": null,
   "id": "924b8959",
   "metadata": {},
   "outputs": [],
   "source": []
  },
  {
   "cell_type": "code",
   "execution_count": null,
   "id": "5c26648b",
   "metadata": {},
   "outputs": [],
   "source": []
  },
  {
   "cell_type": "code",
   "execution_count": 29,
   "id": "97f71561",
   "metadata": {},
   "outputs": [
    {
     "name": "stdout",
     "output_type": "stream",
     "text": [
      "chemistry present in tup1 ? : True\n",
      "chemistry present in tup2 ? : False\n",
      "\n"
     ]
    }
   ],
   "source": [
    "# Membership\n",
    "print(\"chemistry present in tup1 ? : {}\".format('chemistry' in tup1))\n",
    "print(\"chemistry present in tup2 ? : {}\\n\".format('chemistry' in tup2))"
   ]
  },
  {
   "cell_type": "code",
   "execution_count": 35,
   "id": "75b6d91b",
   "metadata": {},
   "outputs": [],
   "source": [
    "membership_p = 'physics' in tup1"
   ]
  },
  {
   "cell_type": "code",
   "execution_count": 36,
   "id": "5c3d014a",
   "metadata": {},
   "outputs": [
    {
     "data": {
      "text/plain": [
       "True"
      ]
     },
     "execution_count": 36,
     "metadata": {},
     "output_type": "execute_result"
    }
   ],
   "source": [
    "membership_p"
   ]
  },
  {
   "cell_type": "code",
   "execution_count": 38,
   "id": "8bee3331",
   "metadata": {},
   "outputs": [],
   "source": [
    "membership_7 = '7' in tup2"
   ]
  },
  {
   "cell_type": "code",
   "execution_count": 39,
   "id": "ca2bd38a",
   "metadata": {},
   "outputs": [
    {
     "data": {
      "text/plain": [
       "False"
      ]
     },
     "execution_count": 39,
     "metadata": {},
     "output_type": "execute_result"
    }
   ],
   "source": [
    "membership_7"
   ]
  },
  {
   "cell_type": "markdown",
   "id": "604ddedf",
   "metadata": {},
   "source": [
    "# 4. Set"
   ]
  },
  {
   "cell_type": "code",
   "execution_count": null,
   "id": "d91e3680",
   "metadata": {},
   "outputs": [],
   "source": []
  }
 ],
 "metadata": {
  "kernelspec": {
   "display_name": "Python 3",
   "language": "python",
   "name": "python3"
  },
  "language_info": {
   "codemirror_mode": {
    "name": "ipython",
    "version": 3
   },
   "file_extension": ".py",
   "mimetype": "text/x-python",
   "name": "python",
   "nbconvert_exporter": "python",
   "pygments_lexer": "ipython3",
   "version": "3.8.3"
  }
 },
 "nbformat": 4,
 "nbformat_minor": 5
}
