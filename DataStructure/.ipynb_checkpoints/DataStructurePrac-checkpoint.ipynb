{
 "cells": [
  {
   "cell_type": "markdown",
   "id": "801a4759",
   "metadata": {},
   "source": [
    "# 1. List"
   ]
  },
  {
   "cell_type": "markdown",
   "id": "052c42be",
   "metadata": {},
   "source": [
    "List is an ordered collection of items\n",
    "\n",
    "Different Data Types\n",
    "\n",
    "Item in the list an be changed or replaced\n",
    "\n",
    "Mutable"
   ]
  },
  {
   "cell_type": "markdown",
   "id": "fac98c98",
   "metadata": {},
   "source": [
    "![List](https://astikanand.github.io/techblogs/python/assets/python_lists.png)"
   ]
  },
  {
   "cell_type": "markdown",
   "id": "f1496051",
   "metadata": {},
   "source": [
    "### 1.1 Initialization"
   ]
  },
  {
   "cell_type": "markdown",
   "id": "4e421e8e",
   "metadata": {},
   "source": [
    "list1=[ ]\n",
    "\n",
    "List2 = list()\n",
    "\n",
    "list3 = [2, \"astik\", 5, 9]"
   ]
  },
  {
   "cell_type": "code",
   "execution_count": 99,
   "id": "912a3b32",
   "metadata": {},
   "outputs": [],
   "source": [
    "list1 = [0,2,100, 5.6, 'apple', 'pear', ['Athena', 'Apollo', 'Zeus']]"
   ]
  },
  {
   "cell_type": "code",
   "execution_count": 100,
   "id": "9e1f6a0e",
   "metadata": {},
   "outputs": [
    {
     "name": "stdout",
     "output_type": "stream",
     "text": [
      "list is [0, 2, 100, 5.6, 'apple', 'pear', ['Athena', 'Apollo', 'Zeus']]\n"
     ]
    }
   ],
   "source": [
    "print(\"list is {}\".format(list1))"
   ]
  },
  {
   "cell_type": "code",
   "execution_count": 101,
   "id": "c9a84728",
   "metadata": {},
   "outputs": [],
   "source": [
    "list2 = ['Cat', 'Turtle', 'Dog', 'Rabbit', 'Duck']"
   ]
  },
  {
   "cell_type": "code",
   "execution_count": 102,
   "id": "edb58160",
   "metadata": {},
   "outputs": [
    {
     "data": {
      "text/plain": [
       "['Cat', 'Turtle', 'Dog', 'Rabbit', 'Duck']"
      ]
     },
     "execution_count": 102,
     "metadata": {},
     "output_type": "execute_result"
    }
   ],
   "source": [
    "list2"
   ]
  },
  {
   "cell_type": "markdown",
   "id": "7a329f58",
   "metadata": {},
   "source": [
    "### 1.2 List Sort"
   ]
  },
  {
   "cell_type": "code",
   "execution_count": 103,
   "id": "f88e72ee",
   "metadata": {},
   "outputs": [],
   "source": [
    "# Sort order Aplphabet A-Z\n",
    "list2.sort()"
   ]
  },
  {
   "cell_type": "code",
   "execution_count": 104,
   "id": "f0f78013",
   "metadata": {},
   "outputs": [
    {
     "data": {
      "text/plain": [
       "['Cat', 'Dog', 'Duck', 'Rabbit', 'Turtle']"
      ]
     },
     "execution_count": 104,
     "metadata": {},
     "output_type": "execute_result"
    }
   ],
   "source": [
    "list2"
   ]
  },
  {
   "cell_type": "code",
   "execution_count": 105,
   "id": "08c57a3e",
   "metadata": {},
   "outputs": [],
   "source": [
    "list3 = list1+list2"
   ]
  },
  {
   "cell_type": "code",
   "execution_count": 106,
   "id": "2588a019",
   "metadata": {},
   "outputs": [
    {
     "data": {
      "text/plain": [
       "[0,\n",
       " 2,\n",
       " 100,\n",
       " 5.6,\n",
       " 'apple',\n",
       " 'pear',\n",
       " ['Athena', 'Apollo', 'Zeus'],\n",
       " 'Cat',\n",
       " 'Dog',\n",
       " 'Duck',\n",
       " 'Rabbit',\n",
       " 'Turtle']"
      ]
     },
     "execution_count": 106,
     "metadata": {},
     "output_type": "execute_result"
    }
   ],
   "source": [
    "list3"
   ]
  },
  {
   "cell_type": "code",
   "execution_count": 107,
   "id": "a3271109",
   "metadata": {},
   "outputs": [
    {
     "data": {
      "text/plain": [
       "['Athena', 'Apollo', 'Zeus']"
      ]
     },
     "execution_count": 107,
     "metadata": {},
     "output_type": "execute_result"
    }
   ],
   "source": [
    "list3[6]"
   ]
  },
  {
   "cell_type": "code",
   "execution_count": 108,
   "id": "18558e04",
   "metadata": {},
   "outputs": [],
   "source": [
    "list4 = list2+list1"
   ]
  },
  {
   "cell_type": "code",
   "execution_count": 109,
   "id": "59382ba3",
   "metadata": {},
   "outputs": [
    {
     "data": {
      "text/plain": [
       "['Cat',\n",
       " 'Dog',\n",
       " 'Duck',\n",
       " 'Rabbit',\n",
       " 'Turtle',\n",
       " 0,\n",
       " 2,\n",
       " 100,\n",
       " 5.6,\n",
       " 'apple',\n",
       " 'pear',\n",
       " ['Athena', 'Apollo', 'Zeus']]"
      ]
     },
     "execution_count": 109,
     "metadata": {},
     "output_type": "execute_result"
    }
   ],
   "source": [
    "list4"
   ]
  },
  {
   "cell_type": "code",
   "execution_count": 110,
   "id": "98d3cd01",
   "metadata": {},
   "outputs": [],
   "source": [
    "list1.append(2)"
   ]
  },
  {
   "cell_type": "code",
   "execution_count": 111,
   "id": "bfc7942a",
   "metadata": {},
   "outputs": [
    {
     "data": {
      "text/plain": [
       "[0, 2, 100, 5.6, 'apple', 'pear', ['Athena', 'Apollo', 'Zeus'], 2]"
      ]
     },
     "execution_count": 111,
     "metadata": {},
     "output_type": "execute_result"
    }
   ],
   "source": [
    "list1"
   ]
  },
  {
   "cell_type": "code",
   "execution_count": 112,
   "id": "5fc9c8a4",
   "metadata": {},
   "outputs": [],
   "source": [
    "list1.append(list2)"
   ]
  },
  {
   "cell_type": "code",
   "execution_count": 113,
   "id": "88eda412",
   "metadata": {},
   "outputs": [
    {
     "data": {
      "text/plain": [
       "[0,\n",
       " 2,\n",
       " 100,\n",
       " 5.6,\n",
       " 'apple',\n",
       " 'pear',\n",
       " ['Athena', 'Apollo', 'Zeus'],\n",
       " 2,\n",
       " ['Cat', 'Dog', 'Duck', 'Rabbit', 'Turtle']]"
      ]
     },
     "execution_count": 113,
     "metadata": {},
     "output_type": "execute_result"
    }
   ],
   "source": [
    "list1"
   ]
  },
  {
   "cell_type": "code",
   "execution_count": 114,
   "id": "c43ad64d",
   "metadata": {},
   "outputs": [
    {
     "data": {
      "text/plain": [
       "['Cat',\n",
       " 'Dog',\n",
       " 'Duck',\n",
       " 'Rabbit',\n",
       " 'Turtle',\n",
       " 0,\n",
       " 2,\n",
       " 100,\n",
       " 5.6,\n",
       " 'apple',\n",
       " 'pear',\n",
       " ['Athena', 'Apollo', 'Zeus']]"
      ]
     },
     "execution_count": 114,
     "metadata": {},
     "output_type": "execute_result"
    }
   ],
   "source": [
    "list4"
   ]
  },
  {
   "cell_type": "markdown",
   "id": "a010b274",
   "metadata": {},
   "source": [
    "### 1.3 List Length, Insert\n"
   ]
  },
  {
   "cell_type": "code",
   "execution_count": 115,
   "id": "10ea0a2e",
   "metadata": {},
   "outputs": [],
   "source": [
    "len1=len(list1)"
   ]
  },
  {
   "cell_type": "code",
   "execution_count": 116,
   "id": "d9d184c1",
   "metadata": {},
   "outputs": [
    {
     "data": {
      "text/plain": [
       "9"
      ]
     },
     "execution_count": 116,
     "metadata": {},
     "output_type": "execute_result"
    }
   ],
   "source": [
    "len1"
   ]
  },
  {
   "cell_type": "code",
   "execution_count": 117,
   "id": "eb45784c",
   "metadata": {},
   "outputs": [],
   "source": [
    "list1.append([\"grape\", \"Orange\"])"
   ]
  },
  {
   "cell_type": "code",
   "execution_count": 118,
   "id": "fbf4a032",
   "metadata": {},
   "outputs": [
    {
     "data": {
      "text/plain": [
       "[0,\n",
       " 2,\n",
       " 100,\n",
       " 5.6,\n",
       " 'apple',\n",
       " 'pear',\n",
       " ['Athena', 'Apollo', 'Zeus'],\n",
       " 2,\n",
       " ['Cat', 'Dog', 'Duck', 'Rabbit', 'Turtle'],\n",
       " ['grape', 'Orange']]"
      ]
     },
     "execution_count": 118,
     "metadata": {},
     "output_type": "execute_result"
    }
   ],
   "source": [
    "list1"
   ]
  },
  {
   "cell_type": "code",
   "execution_count": 122,
   "id": "9c9e9f20",
   "metadata": {},
   "outputs": [],
   "source": [
    "# Insert Data element with specific index\n",
    "list1.insert(3, \"bear\")"
   ]
  },
  {
   "cell_type": "code",
   "execution_count": 123,
   "id": "12d626c7",
   "metadata": {},
   "outputs": [
    {
     "data": {
      "text/plain": [
       "[0,\n",
       " 2,\n",
       " 100,\n",
       " 'bear',\n",
       " 'bear',\n",
       " 5.6,\n",
       " 'apple',\n",
       " 'pear',\n",
       " ['Athena', 'Apollo', 'Zeus'],\n",
       " 2,\n",
       " ['Cat', 'Dog', 'Duck', 'Rabbit', 'Turtle'],\n",
       " ['grape', 'Orange']]"
      ]
     },
     "execution_count": 123,
     "metadata": {},
     "output_type": "execute_result"
    }
   ],
   "source": [
    "list1"
   ]
  },
  {
   "cell_type": "code",
   "execution_count": 124,
   "id": "2a740930",
   "metadata": {},
   "outputs": [],
   "source": [
    "list1[3]=\"Tiger\""
   ]
  },
  {
   "cell_type": "code",
   "execution_count": 125,
   "id": "56241086",
   "metadata": {},
   "outputs": [
    {
     "data": {
      "text/plain": [
       "[0,\n",
       " 2,\n",
       " 100,\n",
       " 'Tiger',\n",
       " 'bear',\n",
       " 5.6,\n",
       " 'apple',\n",
       " 'pear',\n",
       " ['Athena', 'Apollo', 'Zeus'],\n",
       " 2,\n",
       " ['Cat', 'Dog', 'Duck', 'Rabbit', 'Turtle'],\n",
       " ['grape', 'Orange']]"
      ]
     },
     "execution_count": 125,
     "metadata": {},
     "output_type": "execute_result"
    }
   ],
   "source": [
    "list1"
   ]
  },
  {
   "cell_type": "markdown",
   "id": "2bb592bf",
   "metadata": {},
   "source": [
    "### 1.4 Remove"
   ]
  },
  {
   "cell_type": "markdown",
   "id": "14e35889",
   "metadata": {},
   "source": [
    "list.pop()\n",
    "\n",
    "list.pop(index)\n",
    "\n",
    "list.remove(element)\n",
    "\n",
    "del list[index]"
   ]
  },
  {
   "cell_type": "code",
   "execution_count": 128,
   "id": "c2f1f64e",
   "metadata": {},
   "outputs": [
    {
     "data": {
      "text/plain": [
       "['grape', 'Orange']"
      ]
     },
     "execution_count": 128,
     "metadata": {},
     "output_type": "execute_result"
    }
   ],
   "source": [
    "# Remove last element\n",
    "list1.pop()"
   ]
  },
  {
   "cell_type": "code",
   "execution_count": 129,
   "id": "fc42fe91",
   "metadata": {},
   "outputs": [
    {
     "data": {
      "text/plain": [
       "[0,\n",
       " 2,\n",
       " 100,\n",
       " 'Tiger',\n",
       " 'bear',\n",
       " 'apple',\n",
       " 'pear',\n",
       " ['Athena', 'Apollo', 'Zeus'],\n",
       " 2,\n",
       " ['Cat', 'Dog', 'Duck', 'Rabbit', 'Turtle']]"
      ]
     },
     "execution_count": 129,
     "metadata": {},
     "output_type": "execute_result"
    }
   ],
   "source": [
    "list1"
   ]
  },
  {
   "cell_type": "code",
   "execution_count": 131,
   "id": "fc548c01",
   "metadata": {},
   "outputs": [],
   "source": [
    "# Remove the element at given index"
   ]
  },
  {
   "cell_type": "code",
   "execution_count": 132,
   "id": "4deec1b8",
   "metadata": {},
   "outputs": [
    {
     "data": {
      "text/plain": [
       "'bear'"
      ]
     },
     "execution_count": 132,
     "metadata": {},
     "output_type": "execute_result"
    }
   ],
   "source": [
    "list1.pop(4)"
   ]
  },
  {
   "cell_type": "code",
   "execution_count": 133,
   "id": "bf1793ab",
   "metadata": {},
   "outputs": [
    {
     "data": {
      "text/plain": [
       "[0,\n",
       " 2,\n",
       " 100,\n",
       " 'Tiger',\n",
       " 'pear',\n",
       " ['Athena', 'Apollo', 'Zeus'],\n",
       " 2,\n",
       " ['Cat', 'Dog', 'Duck', 'Rabbit', 'Turtle']]"
      ]
     },
     "execution_count": 133,
     "metadata": {},
     "output_type": "execute_result"
    }
   ],
   "source": [
    "list1"
   ]
  },
  {
   "cell_type": "code",
   "execution_count": 138,
   "id": "84e3c960",
   "metadata": {},
   "outputs": [],
   "source": [
    "# Remove the first occurrence of the elment from the list\n",
    "list1.remove(\"pear\")"
   ]
  },
  {
   "cell_type": "code",
   "execution_count": 139,
   "id": "c2d3d43f",
   "metadata": {},
   "outputs": [
    {
     "data": {
      "text/plain": [
       "[0,\n",
       " 2,\n",
       " 100,\n",
       " ['Athena', 'Apollo', 'Zeus'],\n",
       " 2,\n",
       " ['Cat', 'Dog', 'Duck', 'Rabbit', 'Turtle']]"
      ]
     },
     "execution_count": 139,
     "metadata": {},
     "output_type": "execute_result"
    }
   ],
   "source": [
    "list1"
   ]
  },
  {
   "cell_type": "code",
   "execution_count": 130,
   "id": "0cfdb2b4",
   "metadata": {},
   "outputs": [],
   "source": [
    "# Delete index == 5 element\n",
    "del list1[5]"
   ]
  },
  {
   "cell_type": "code",
   "execution_count": 142,
   "id": "6585ac8f",
   "metadata": {},
   "outputs": [
    {
     "data": {
      "text/plain": [
       "[0,\n",
       " 2,\n",
       " 100,\n",
       " ['Athena', 'Apollo', 'Zeus'],\n",
       " 2,\n",
       " ['Cat', 'Dog', 'Duck', 'Rabbit', 'Turtle']]"
      ]
     },
     "execution_count": 142,
     "metadata": {},
     "output_type": "execute_result"
    }
   ],
   "source": [
    "list1"
   ]
  },
  {
   "cell_type": "code",
   "execution_count": 121,
   "id": "f8f00961",
   "metadata": {},
   "outputs": [
    {
     "data": {
      "text/plain": [
       "[0,\n",
       " 2,\n",
       " 100,\n",
       " 'bear',\n",
       " 5.6,\n",
       " 'apple',\n",
       " 'pear',\n",
       " ['Athena', 'Apollo', 'Zeus'],\n",
       " 2,\n",
       " ['Cat', 'Dog', 'Duck', 'Rabbit', 'Turtle'],\n",
       " ['grape', 'Orange']]"
      ]
     },
     "execution_count": 121,
     "metadata": {},
     "output_type": "execute_result"
    }
   ],
   "source": [
    "list1.index()"
   ]
  },
  {
   "cell_type": "markdown",
   "id": "7cafc41d",
   "metadata": {},
   "source": [
    "### 1.5 Get list Info"
   ]
  },
  {
   "cell_type": "code",
   "execution_count": 143,
   "id": "2520c687",
   "metadata": {},
   "outputs": [
    {
     "data": {
      "text/plain": [
       "1"
      ]
     },
     "execution_count": 143,
     "metadata": {},
     "output_type": "execute_result"
    }
   ],
   "source": [
    "# Get Index\n",
    "list1.index(2)"
   ]
  },
  {
   "cell_type": "code",
   "execution_count": 147,
   "id": "cc7f7434",
   "metadata": {},
   "outputs": [
    {
     "data": {
      "text/plain": [
       "True"
      ]
     },
     "execution_count": 147,
     "metadata": {},
     "output_type": "execute_result"
    }
   ],
   "source": [
    "# Check Membership: In the list == True; Not in the list == False.\n",
    "['Athena', 'Apollo', 'Zeus'] in list1"
   ]
  },
  {
   "cell_type": "markdown",
   "id": "c2309060",
   "metadata": {},
   "source": [
    "### 1.6 Slicing"
   ]
  },
  {
   "cell_type": "code",
   "execution_count": 152,
   "id": "9eb0351f",
   "metadata": {},
   "outputs": [],
   "source": [
    "list2.append(\"Eagle\")"
   ]
  },
  {
   "cell_type": "code",
   "execution_count": 155,
   "id": "180da3ad",
   "metadata": {},
   "outputs": [
    {
     "data": {
      "text/plain": [
       "['Cat',\n",
       " 'Dog',\n",
       " 'Duck',\n",
       " 'Rabbit',\n",
       " 'Turtle',\n",
       " 'Eagle',\n",
       " 'Panda',\n",
       " 'Coyote',\n",
       " 'Panda',\n",
       " 'Coyote',\n",
       " 'Panda',\n",
       " 'Coyote',\n",
       " 'Butterfly']"
      ]
     },
     "execution_count": 155,
     "metadata": {},
     "output_type": "execute_result"
    }
   ],
   "source": [
    "list2=list2+[\"Panda\", \"Coyote\"]+[\"Butterfly\"]\n",
    "list2"
   ]
  },
  {
   "cell_type": "code",
   "execution_count": 156,
   "id": "4099b686",
   "metadata": {},
   "outputs": [
    {
     "data": {
      "text/plain": [
       "['Duck', 'Rabbit', 'Turtle']"
      ]
     },
     "execution_count": 156,
     "metadata": {},
     "output_type": "execute_result"
    }
   ],
   "source": [
    "# slice out the elements from index 2 to 4. [2 ~ n) 2~n-1\n",
    "list2[2:5]"
   ]
  },
  {
   "cell_type": "code",
   "execution_count": null,
   "id": "544f297b",
   "metadata": {},
   "outputs": [],
   "source": []
  },
  {
   "cell_type": "code",
   "execution_count": null,
   "id": "c18dcfe7",
   "metadata": {},
   "outputs": [],
   "source": []
  },
  {
   "cell_type": "code",
   "execution_count": null,
   "id": "47ca271d",
   "metadata": {},
   "outputs": [],
   "source": []
  },
  {
   "cell_type": "markdown",
   "id": "c7f83c8b",
   "metadata": {},
   "source": [
    "# 2. Dictionary"
   ]
  },
  {
   "cell_type": "code",
   "execution_count": null,
   "id": "5ba9f481",
   "metadata": {},
   "outputs": [],
   "source": []
  },
  {
   "cell_type": "markdown",
   "id": "55fb371a",
   "metadata": {},
   "source": [
    "# 3. Tuple"
   ]
  },
  {
   "cell_type": "markdown",
   "id": "0806f778",
   "metadata": {},
   "source": [
    "A Tuple is a collection of Python objects separated by commas."
   ]
  },
  {
   "cell_type": "markdown",
   "id": "2b42ae7c",
   "metadata": {},
   "source": [
    "Tuple is similar to a List in terms of indexing, nested objects and repetition. but Tuple is immutable; List is mutable;"
   ]
  },
  {
   "cell_type": "markdown",
   "id": "74595ca7",
   "metadata": {},
   "source": [
    "### 3.1 creation of tuple"
   ]
  },
  {
   "cell_type": "code",
   "execution_count": 72,
   "id": "3de2697b",
   "metadata": {},
   "outputs": [],
   "source": [
    "tup1 = ('physics', 'chemistry', 1997, 2000, 5, 7)"
   ]
  },
  {
   "cell_type": "code",
   "execution_count": 73,
   "id": "c2ceabf5",
   "metadata": {},
   "outputs": [
    {
     "data": {
      "text/plain": [
       "('physics', 'chemistry', 1997, 2000, 5, 7)"
      ]
     },
     "execution_count": 73,
     "metadata": {},
     "output_type": "execute_result"
    }
   ],
   "source": [
    "tup1"
   ]
  },
  {
   "cell_type": "markdown",
   "id": "1ac27c36",
   "metadata": {},
   "source": [
    "### 3.2 Convert an array to a tuple"
   ]
  },
  {
   "cell_type": "code",
   "execution_count": 74,
   "id": "02cd6f09",
   "metadata": {},
   "outputs": [],
   "source": [
    "# Convert a array to tuple\n",
    "tup2 = tuple([2,3,4,1,5,7,9,13])"
   ]
  },
  {
   "cell_type": "code",
   "execution_count": 75,
   "id": "a3cc533b",
   "metadata": {},
   "outputs": [
    {
     "data": {
      "text/plain": [
       "(2, 3, 4, 1, 5, 7, 9, 13)"
      ]
     },
     "execution_count": 75,
     "metadata": {},
     "output_type": "execute_result"
    }
   ],
   "source": [
    "tup2"
   ]
  },
  {
   "cell_type": "code",
   "execution_count": 52,
   "id": "4737f8ce",
   "metadata": {},
   "outputs": [
    {
     "name": "stdout",
     "output_type": "stream",
     "text": [
      "Tuple tup1 : ('physics', 'chemistry', 1997, 2000, 5, 7)\n",
      "Tuple tup2 : (2, 3, 4, 1, 5, 7, 9, 13)\n"
     ]
    }
   ],
   "source": [
    "print(\"Tuple tup1 : {}\".format(tup1))\n",
    "print(\"Tuple tup2 : {}\".format(tup2))"
   ]
  },
  {
   "cell_type": "code",
   "execution_count": 53,
   "id": "acd711a7",
   "metadata": {},
   "outputs": [
    {
     "name": "stdout",
     "output_type": "stream",
     "text": [
      "Tuple tup1's 3rd element is 1997\n",
      "Tuple tup2's 4th element is 1\n"
     ]
    }
   ],
   "source": [
    "print(\"Tuple tup1's 3rd element is {}\".format(tup1[2]))\n",
    "print(\"Tuple tup2's 4th element is {}\".format(tup2[3]))"
   ]
  },
  {
   "cell_type": "markdown",
   "id": "4463c0ae",
   "metadata": {},
   "source": [
    "### 3.3 Get Tuple Length"
   ]
  },
  {
   "cell_type": "code",
   "execution_count": 54,
   "id": "57bab6f8",
   "metadata": {},
   "outputs": [
    {
     "data": {
      "text/plain": [
       "6"
      ]
     },
     "execution_count": 54,
     "metadata": {},
     "output_type": "execute_result"
    }
   ],
   "source": [
    "# Get the size of a Tuple\n",
    "len(tup1)"
   ]
  },
  {
   "cell_type": "code",
   "execution_count": 55,
   "id": "6deb7713",
   "metadata": {},
   "outputs": [
    {
     "data": {
      "text/plain": [
       "8"
      ]
     },
     "execution_count": 55,
     "metadata": {},
     "output_type": "execute_result"
    }
   ],
   "source": [
    "len(tup2)"
   ]
  },
  {
   "cell_type": "markdown",
   "id": "2a70d15d",
   "metadata": {},
   "source": [
    "### 3.4 Concatenation"
   ]
  },
  {
   "cell_type": "code",
   "execution_count": 56,
   "id": "089d6d44",
   "metadata": {},
   "outputs": [],
   "source": [
    "# Concatenation \n",
    "tup3 = tup1+tup2\n",
    "tup4 = tup2+tup1"
   ]
  },
  {
   "cell_type": "code",
   "execution_count": 57,
   "id": "2ddd61ed",
   "metadata": {},
   "outputs": [
    {
     "data": {
      "text/plain": [
       "('physics', 'chemistry', 1997, 2000, 5, 7, 2, 3, 4, 1, 5, 7, 9, 13)"
      ]
     },
     "execution_count": 57,
     "metadata": {},
     "output_type": "execute_result"
    }
   ],
   "source": [
    "tup3"
   ]
  },
  {
   "cell_type": "code",
   "execution_count": 58,
   "id": "ca67470a",
   "metadata": {},
   "outputs": [
    {
     "data": {
      "text/plain": [
       "(2, 3, 4, 1, 5, 7, 9, 13, 'physics', 'chemistry', 1997, 2000, 5, 7)"
      ]
     },
     "execution_count": 58,
     "metadata": {},
     "output_type": "execute_result"
    }
   ],
   "source": [
    "tup4"
   ]
  },
  {
   "cell_type": "markdown",
   "id": "0548380a",
   "metadata": {},
   "source": [
    "### 3.5 Tuple Comparisom "
   ]
  },
  {
   "cell_type": "code",
   "execution_count": 64,
   "id": "59407422",
   "metadata": {},
   "outputs": [],
   "source": [
    "# Find common part (intersection) between two Tuples"
   ]
  },
  {
   "cell_type": "code",
   "execution_count": 65,
   "id": "49334603",
   "metadata": {},
   "outputs": [],
   "source": [
    "tup1_as_set = set(tup1)\n",
    "tup2_as_set = set(tup2)"
   ]
  },
  {
   "cell_type": "code",
   "execution_count": 66,
   "id": "c1d0c841",
   "metadata": {},
   "outputs": [],
   "source": [
    "intersection=tup1_as_set.intersection(tup2_as_set)"
   ]
  },
  {
   "cell_type": "code",
   "execution_count": 67,
   "id": "1e36460f",
   "metadata": {},
   "outputs": [
    {
     "data": {
      "text/plain": [
       "{5, 7}"
      ]
     },
     "execution_count": 67,
     "metadata": {},
     "output_type": "execute_result"
    }
   ],
   "source": [
    "intersection"
   ]
  },
  {
   "cell_type": "code",
   "execution_count": 69,
   "id": "37c6e953",
   "metadata": {},
   "outputs": [
    {
     "name": "stdout",
     "output_type": "stream",
     "text": [
      "[5, 7]\n"
     ]
    }
   ],
   "source": [
    "intersection_as_list = list(intersection)\n",
    "print(intersection_as_list)"
   ]
  },
  {
   "cell_type": "markdown",
   "id": "d6c5009e",
   "metadata": {},
   "source": [
    "### 3.6 Tuple Subtraction"
   ]
  },
  {
   "cell_type": "markdown",
   "id": "ef1f10c9",
   "metadata": {},
   "source": [
    "Only numerical elements can perform subtraction operation"
   ]
  },
  {
   "cell_type": "code",
   "execution_count": 81,
   "id": "f1bc7e18",
   "metadata": {},
   "outputs": [
    {
     "name": "stdout",
     "output_type": "stream",
     "text": [
      "The first tuple is : \n",
      "(7, 8, 11, 0, 3)\n",
      "The second tuple is : \n",
      "(3, 2, 22, 45, 12, 9)\n",
      "The tuple after subtraction is : \n",
      "(4, 6, -11, -45, -9)\n"
     ]
    }
   ],
   "source": [
    "my_tuple_1 = tuple([7, 8, 11, 0 ,3])\n",
    "my_tuple_2 = tuple([3, 2, 22, 45, 12, 9])\n",
    "\n",
    "print (\"The first tuple is : \" )\n",
    "print(my_tuple_1)\n",
    "print (\"The second tuple is : \" )\n",
    "print(my_tuple_2)\n",
    "\n",
    "my_result = tuple(map(lambda i, j: i - j, my_tuple_1, my_tuple_2))\n",
    "\n",
    "print(\"The tuple after subtraction is : \" )\n",
    "print(my_result)"
   ]
  },
  {
   "cell_type": "code",
   "execution_count": 29,
   "id": "65fae10b",
   "metadata": {},
   "outputs": [
    {
     "name": "stdout",
     "output_type": "stream",
     "text": [
      "chemistry present in tup1 ? : True\n",
      "chemistry present in tup2 ? : False\n",
      "\n"
     ]
    }
   ],
   "source": [
    "# Membership\n",
    "print(\"chemistry present in tup1 ? : {}\".format('chemistry' in tup1))\n",
    "print(\"chemistry present in tup2 ? : {}\\n\".format('chemistry' in tup2))"
   ]
  },
  {
   "cell_type": "code",
   "execution_count": 35,
   "id": "d7116b68",
   "metadata": {},
   "outputs": [],
   "source": [
    "membership_p = 'physics' in tup1"
   ]
  },
  {
   "cell_type": "code",
   "execution_count": 36,
   "id": "598665c2",
   "metadata": {},
   "outputs": [
    {
     "data": {
      "text/plain": [
       "True"
      ]
     },
     "execution_count": 36,
     "metadata": {},
     "output_type": "execute_result"
    }
   ],
   "source": [
    "membership_p"
   ]
  },
  {
   "cell_type": "code",
   "execution_count": 38,
   "id": "32ab013a",
   "metadata": {},
   "outputs": [],
   "source": [
    "membership_7 = '7' in tup2"
   ]
  },
  {
   "cell_type": "code",
   "execution_count": 39,
   "id": "aad1d0fb",
   "metadata": {},
   "outputs": [
    {
     "data": {
      "text/plain": [
       "False"
      ]
     },
     "execution_count": 39,
     "metadata": {},
     "output_type": "execute_result"
    }
   ],
   "source": [
    "membership_7"
   ]
  },
  {
   "cell_type": "markdown",
   "id": "001331ad",
   "metadata": {},
   "source": [
    "# 4. Set"
   ]
  },
  {
   "cell_type": "code",
   "execution_count": null,
   "id": "e832ee96",
   "metadata": {},
   "outputs": [],
   "source": []
  }
 ],
 "metadata": {
  "kernelspec": {
   "display_name": "Python 3",
   "language": "python",
   "name": "python3"
  },
  "language_info": {
   "codemirror_mode": {
    "name": "ipython",
    "version": 3
   },
   "file_extension": ".py",
   "mimetype": "text/x-python",
   "name": "python",
   "nbconvert_exporter": "python",
   "pygments_lexer": "ipython3",
   "version": "3.8.3"
  }
 },
 "nbformat": 4,
 "nbformat_minor": 5
}
