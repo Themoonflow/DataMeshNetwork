{
 "cells": [
  {
   "cell_type": "markdown",
   "id": "aa3996e3",
   "metadata": {},
   "source": [
    "# 1. List"
   ]
  },
  {
   "cell_type": "markdown",
   "id": "4b90b905",
   "metadata": {},
   "source": [
    "List is an ordered collection of items\n",
    "\n",
    "Different Data Types\n",
    "\n",
    "Item in the list an be changed or replaced\n",
    "\n",
    "Mutable"
   ]
  },
  {
   "cell_type": "markdown",
   "id": "d1ef5d53",
   "metadata": {},
   "source": [
    "![List](https://astikanand.github.io/techblogs/python/assets/python_lists.png)"
   ]
  },
  {
   "cell_type": "markdown",
   "id": "e5703336",
   "metadata": {},
   "source": [
    "### 1.1 Initialization"
   ]
  },
  {
   "cell_type": "markdown",
   "id": "76f67912",
   "metadata": {},
   "source": [
    "list1=[ ]\n",
    "\n",
    "List2 = list()\n",
    "\n",
    "list3 = [2, \"astik\", 5, 9]"
   ]
  },
  {
   "cell_type": "code",
   "execution_count": 99,
   "id": "c830fc99",
   "metadata": {},
   "outputs": [],
   "source": [
    "list1 = [0,2,100, 5.6, 'apple', 'pear', ['Athena', 'Apollo', 'Zeus']]"
   ]
  },
  {
   "cell_type": "code",
   "execution_count": 100,
   "id": "f90a6c41",
   "metadata": {},
   "outputs": [
    {
     "name": "stdout",
     "output_type": "stream",
     "text": [
      "list is [0, 2, 100, 5.6, 'apple', 'pear', ['Athena', 'Apollo', 'Zeus']]\n"
     ]
    }
   ],
   "source": [
    "print(\"list is {}\".format(list1))"
   ]
  },
  {
   "cell_type": "code",
   "execution_count": 101,
   "id": "a371a8be",
   "metadata": {},
   "outputs": [],
   "source": [
    "list2 = ['Cat', 'Turtle', 'Dog', 'Rabbit', 'Duck']"
   ]
  },
  {
   "cell_type": "code",
   "execution_count": 102,
   "id": "fcc21ccb",
   "metadata": {},
   "outputs": [
    {
     "data": {
      "text/plain": [
       "['Cat', 'Turtle', 'Dog', 'Rabbit', 'Duck']"
      ]
     },
     "execution_count": 102,
     "metadata": {},
     "output_type": "execute_result"
    }
   ],
   "source": [
    "list2"
   ]
  },
  {
   "cell_type": "markdown",
   "id": "f6e4e372",
   "metadata": {},
   "source": [
    "### 1.2 List Sort"
   ]
  },
  {
   "cell_type": "code",
   "execution_count": 103,
   "id": "c7c619af",
   "metadata": {},
   "outputs": [],
   "source": [
    "# Sort order Aplphabet A-Z\n",
    "list2.sort()"
   ]
  },
  {
   "cell_type": "code",
   "execution_count": 104,
   "id": "36a506c0",
   "metadata": {},
   "outputs": [
    {
     "data": {
      "text/plain": [
       "['Cat', 'Dog', 'Duck', 'Rabbit', 'Turtle']"
      ]
     },
     "execution_count": 104,
     "metadata": {},
     "output_type": "execute_result"
    }
   ],
   "source": [
    "list2"
   ]
  },
  {
   "cell_type": "code",
   "execution_count": 105,
   "id": "7fa3c83d",
   "metadata": {},
   "outputs": [],
   "source": [
    "list3 = list1+list2"
   ]
  },
  {
   "cell_type": "code",
   "execution_count": 106,
   "id": "826b19f2",
   "metadata": {},
   "outputs": [
    {
     "data": {
      "text/plain": [
       "[0,\n",
       " 2,\n",
       " 100,\n",
       " 5.6,\n",
       " 'apple',\n",
       " 'pear',\n",
       " ['Athena', 'Apollo', 'Zeus'],\n",
       " 'Cat',\n",
       " 'Dog',\n",
       " 'Duck',\n",
       " 'Rabbit',\n",
       " 'Turtle']"
      ]
     },
     "execution_count": 106,
     "metadata": {},
     "output_type": "execute_result"
    }
   ],
   "source": [
    "list3"
   ]
  },
  {
   "cell_type": "code",
   "execution_count": 107,
   "id": "653784eb",
   "metadata": {},
   "outputs": [
    {
     "data": {
      "text/plain": [
       "['Athena', 'Apollo', 'Zeus']"
      ]
     },
     "execution_count": 107,
     "metadata": {},
     "output_type": "execute_result"
    }
   ],
   "source": [
    "list3[6]"
   ]
  },
  {
   "cell_type": "code",
   "execution_count": 108,
   "id": "55e37bac",
   "metadata": {},
   "outputs": [],
   "source": [
    "list4 = list2+list1"
   ]
  },
  {
   "cell_type": "code",
   "execution_count": 109,
   "id": "83d253cd",
   "metadata": {},
   "outputs": [
    {
     "data": {
      "text/plain": [
       "['Cat',\n",
       " 'Dog',\n",
       " 'Duck',\n",
       " 'Rabbit',\n",
       " 'Turtle',\n",
       " 0,\n",
       " 2,\n",
       " 100,\n",
       " 5.6,\n",
       " 'apple',\n",
       " 'pear',\n",
       " ['Athena', 'Apollo', 'Zeus']]"
      ]
     },
     "execution_count": 109,
     "metadata": {},
     "output_type": "execute_result"
    }
   ],
   "source": [
    "list4"
   ]
  },
  {
   "cell_type": "code",
   "execution_count": 110,
   "id": "1389a733",
   "metadata": {},
   "outputs": [],
   "source": [
    "list1.append(2)"
   ]
  },
  {
   "cell_type": "code",
   "execution_count": 111,
   "id": "57ff9d69",
   "metadata": {},
   "outputs": [
    {
     "data": {
      "text/plain": [
       "[0, 2, 100, 5.6, 'apple', 'pear', ['Athena', 'Apollo', 'Zeus'], 2]"
      ]
     },
     "execution_count": 111,
     "metadata": {},
     "output_type": "execute_result"
    }
   ],
   "source": [
    "list1"
   ]
  },
  {
   "cell_type": "code",
   "execution_count": 112,
   "id": "6dbadd91",
   "metadata": {},
   "outputs": [],
   "source": [
    "list1.append(list2)"
   ]
  },
  {
   "cell_type": "code",
   "execution_count": 113,
   "id": "d70c529f",
   "metadata": {},
   "outputs": [
    {
     "data": {
      "text/plain": [
       "[0,\n",
       " 2,\n",
       " 100,\n",
       " 5.6,\n",
       " 'apple',\n",
       " 'pear',\n",
       " ['Athena', 'Apollo', 'Zeus'],\n",
       " 2,\n",
       " ['Cat', 'Dog', 'Duck', 'Rabbit', 'Turtle']]"
      ]
     },
     "execution_count": 113,
     "metadata": {},
     "output_type": "execute_result"
    }
   ],
   "source": [
    "list1"
   ]
  },
  {
   "cell_type": "code",
   "execution_count": 114,
   "id": "2d7ade0a",
   "metadata": {},
   "outputs": [
    {
     "data": {
      "text/plain": [
       "['Cat',\n",
       " 'Dog',\n",
       " 'Duck',\n",
       " 'Rabbit',\n",
       " 'Turtle',\n",
       " 0,\n",
       " 2,\n",
       " 100,\n",
       " 5.6,\n",
       " 'apple',\n",
       " 'pear',\n",
       " ['Athena', 'Apollo', 'Zeus']]"
      ]
     },
     "execution_count": 114,
     "metadata": {},
     "output_type": "execute_result"
    }
   ],
   "source": [
    "list4"
   ]
  },
  {
   "cell_type": "markdown",
   "id": "45a64348",
   "metadata": {},
   "source": [
    "### 1.3 List Length, Insert\n"
   ]
  },
  {
   "cell_type": "code",
   "execution_count": 115,
   "id": "2400253c",
   "metadata": {},
   "outputs": [],
   "source": [
    "len1=len(list1)"
   ]
  },
  {
   "cell_type": "code",
   "execution_count": 116,
   "id": "0a79c4a8",
   "metadata": {},
   "outputs": [
    {
     "data": {
      "text/plain": [
       "9"
      ]
     },
     "execution_count": 116,
     "metadata": {},
     "output_type": "execute_result"
    }
   ],
   "source": [
    "len1"
   ]
  },
  {
   "cell_type": "code",
   "execution_count": 117,
   "id": "1d110f8c",
   "metadata": {},
   "outputs": [],
   "source": [
    "list1.append([\"grape\", \"Orange\"])"
   ]
  },
  {
   "cell_type": "code",
   "execution_count": 118,
   "id": "21374318",
   "metadata": {},
   "outputs": [
    {
     "data": {
      "text/plain": [
       "[0,\n",
       " 2,\n",
       " 100,\n",
       " 5.6,\n",
       " 'apple',\n",
       " 'pear',\n",
       " ['Athena', 'Apollo', 'Zeus'],\n",
       " 2,\n",
       " ['Cat', 'Dog', 'Duck', 'Rabbit', 'Turtle'],\n",
       " ['grape', 'Orange']]"
      ]
     },
     "execution_count": 118,
     "metadata": {},
     "output_type": "execute_result"
    }
   ],
   "source": [
    "list1"
   ]
  },
  {
   "cell_type": "code",
   "execution_count": 122,
   "id": "5528c973",
   "metadata": {},
   "outputs": [],
   "source": [
    "# Insert Data element with specific index\n",
    "list1.insert(3, \"bear\")"
   ]
  },
  {
   "cell_type": "code",
   "execution_count": 123,
   "id": "f60ef3af",
   "metadata": {},
   "outputs": [
    {
     "data": {
      "text/plain": [
       "[0,\n",
       " 2,\n",
       " 100,\n",
       " 'bear',\n",
       " 'bear',\n",
       " 5.6,\n",
       " 'apple',\n",
       " 'pear',\n",
       " ['Athena', 'Apollo', 'Zeus'],\n",
       " 2,\n",
       " ['Cat', 'Dog', 'Duck', 'Rabbit', 'Turtle'],\n",
       " ['grape', 'Orange']]"
      ]
     },
     "execution_count": 123,
     "metadata": {},
     "output_type": "execute_result"
    }
   ],
   "source": [
    "list1"
   ]
  },
  {
   "cell_type": "code",
   "execution_count": 124,
   "id": "6f1895c9",
   "metadata": {},
   "outputs": [],
   "source": [
    "list1[3]=\"Tiger\""
   ]
  },
  {
   "cell_type": "code",
   "execution_count": 125,
   "id": "373ccb83",
   "metadata": {},
   "outputs": [
    {
     "data": {
      "text/plain": [
       "[0,\n",
       " 2,\n",
       " 100,\n",
       " 'Tiger',\n",
       " 'bear',\n",
       " 5.6,\n",
       " 'apple',\n",
       " 'pear',\n",
       " ['Athena', 'Apollo', 'Zeus'],\n",
       " 2,\n",
       " ['Cat', 'Dog', 'Duck', 'Rabbit', 'Turtle'],\n",
       " ['grape', 'Orange']]"
      ]
     },
     "execution_count": 125,
     "metadata": {},
     "output_type": "execute_result"
    }
   ],
   "source": [
    "list1"
   ]
  },
  {
   "cell_type": "markdown",
   "id": "dc3aee1f",
   "metadata": {},
   "source": [
    "### 1.4 Remove"
   ]
  },
  {
   "cell_type": "markdown",
   "id": "7e0f9bd9",
   "metadata": {},
   "source": [
    "list.pop()\n",
    "\n",
    "list.pop(index)\n",
    "\n",
    "list.remove(element)\n",
    "\n",
    "del list[index]"
   ]
  },
  {
   "cell_type": "code",
   "execution_count": 128,
   "id": "baf922af",
   "metadata": {},
   "outputs": [
    {
     "data": {
      "text/plain": [
       "['grape', 'Orange']"
      ]
     },
     "execution_count": 128,
     "metadata": {},
     "output_type": "execute_result"
    }
   ],
   "source": [
    "# Remove last element\n",
    "list1.pop()"
   ]
  },
  {
   "cell_type": "code",
   "execution_count": 129,
   "id": "68fff418",
   "metadata": {},
   "outputs": [
    {
     "data": {
      "text/plain": [
       "[0,\n",
       " 2,\n",
       " 100,\n",
       " 'Tiger',\n",
       " 'bear',\n",
       " 'apple',\n",
       " 'pear',\n",
       " ['Athena', 'Apollo', 'Zeus'],\n",
       " 2,\n",
       " ['Cat', 'Dog', 'Duck', 'Rabbit', 'Turtle']]"
      ]
     },
     "execution_count": 129,
     "metadata": {},
     "output_type": "execute_result"
    }
   ],
   "source": [
    "list1"
   ]
  },
  {
   "cell_type": "code",
   "execution_count": 131,
   "id": "245b4be4",
   "metadata": {},
   "outputs": [],
   "source": [
    "# Remove the element at given index"
   ]
  },
  {
   "cell_type": "code",
   "execution_count": 132,
   "id": "811ac51a",
   "metadata": {},
   "outputs": [
    {
     "data": {
      "text/plain": [
       "'bear'"
      ]
     },
     "execution_count": 132,
     "metadata": {},
     "output_type": "execute_result"
    }
   ],
   "source": [
    "list1.pop(4)"
   ]
  },
  {
   "cell_type": "code",
   "execution_count": 133,
   "id": "6cf3647d",
   "metadata": {},
   "outputs": [
    {
     "data": {
      "text/plain": [
       "[0,\n",
       " 2,\n",
       " 100,\n",
       " 'Tiger',\n",
       " 'pear',\n",
       " ['Athena', 'Apollo', 'Zeus'],\n",
       " 2,\n",
       " ['Cat', 'Dog', 'Duck', 'Rabbit', 'Turtle']]"
      ]
     },
     "execution_count": 133,
     "metadata": {},
     "output_type": "execute_result"
    }
   ],
   "source": [
    "list1"
   ]
  },
  {
   "cell_type": "code",
   "execution_count": 138,
   "id": "be40cae4",
   "metadata": {},
   "outputs": [],
   "source": [
    "# Remove the first occurrence of the elment from the list\n",
    "list1.remove(\"pear\")"
   ]
  },
  {
   "cell_type": "code",
   "execution_count": 139,
   "id": "1dc6c1d1",
   "metadata": {},
   "outputs": [
    {
     "data": {
      "text/plain": [
       "[0,\n",
       " 2,\n",
       " 100,\n",
       " ['Athena', 'Apollo', 'Zeus'],\n",
       " 2,\n",
       " ['Cat', 'Dog', 'Duck', 'Rabbit', 'Turtle']]"
      ]
     },
     "execution_count": 139,
     "metadata": {},
     "output_type": "execute_result"
    }
   ],
   "source": [
    "list1"
   ]
  },
  {
   "cell_type": "code",
   "execution_count": 130,
   "id": "bc8b2bf9",
   "metadata": {},
   "outputs": [],
   "source": [
    "# Delete index == 5 element\n",
    "del list1[5]"
   ]
  },
  {
   "cell_type": "code",
   "execution_count": 142,
   "id": "149f680a",
   "metadata": {},
   "outputs": [
    {
     "data": {
      "text/plain": [
       "[0,\n",
       " 2,\n",
       " 100,\n",
       " ['Athena', 'Apollo', 'Zeus'],\n",
       " 2,\n",
       " ['Cat', 'Dog', 'Duck', 'Rabbit', 'Turtle']]"
      ]
     },
     "execution_count": 142,
     "metadata": {},
     "output_type": "execute_result"
    }
   ],
   "source": [
    "list1"
   ]
  },
  {
   "cell_type": "code",
   "execution_count": 121,
   "id": "2ae70531",
   "metadata": {},
   "outputs": [
    {
     "data": {
      "text/plain": [
       "[0,\n",
       " 2,\n",
       " 100,\n",
       " 'bear',\n",
       " 5.6,\n",
       " 'apple',\n",
       " 'pear',\n",
       " ['Athena', 'Apollo', 'Zeus'],\n",
       " 2,\n",
       " ['Cat', 'Dog', 'Duck', 'Rabbit', 'Turtle'],\n",
       " ['grape', 'Orange']]"
      ]
     },
     "execution_count": 121,
     "metadata": {},
     "output_type": "execute_result"
    }
   ],
   "source": [
    "list1.index()"
   ]
  },
  {
   "cell_type": "markdown",
   "id": "7fca69eb",
   "metadata": {},
   "source": [
    "### 1.5 Get list Info"
   ]
  },
  {
   "cell_type": "code",
   "execution_count": 143,
   "id": "a1b44f2e",
   "metadata": {},
   "outputs": [
    {
     "data": {
      "text/plain": [
       "1"
      ]
     },
     "execution_count": 143,
     "metadata": {},
     "output_type": "execute_result"
    }
   ],
   "source": [
    "# Get Index\n",
    "list1.index(2)"
   ]
  },
  {
   "cell_type": "code",
   "execution_count": 147,
   "id": "a9798c82",
   "metadata": {},
   "outputs": [
    {
     "data": {
      "text/plain": [
       "True"
      ]
     },
     "execution_count": 147,
     "metadata": {},
     "output_type": "execute_result"
    }
   ],
   "source": [
    "# Check Membership: In the list == True; Not in the list == False.\n",
    "['Athena', 'Apollo', 'Zeus'] in list1"
   ]
  },
  {
   "cell_type": "markdown",
   "id": "c8270dcc",
   "metadata": {},
   "source": [
    "### 1.6 Slicing"
   ]
  },
  {
   "cell_type": "code",
   "execution_count": 152,
   "id": "7952acbe",
   "metadata": {},
   "outputs": [],
   "source": [
    "list2.append(\"Eagle\")"
   ]
  },
  {
   "cell_type": "code",
   "execution_count": 158,
   "id": "30e2ee50",
   "metadata": {},
   "outputs": [
    {
     "data": {
      "text/plain": [
       "['Cat',\n",
       " 'Dog',\n",
       " 'Duck',\n",
       " 'Rabbit',\n",
       " 'Turtle',\n",
       " 'Eagle',\n",
       " 'Panda',\n",
       " 'Coyote',\n",
       " 'Panda',\n",
       " 'Coyote',\n",
       " 'Panda',\n",
       " 'Coyote',\n",
       " 'Butterfly',\n",
       " 'Panda',\n",
       " 'Coyote',\n",
       " 'Butterfly']"
      ]
     },
     "execution_count": 158,
     "metadata": {},
     "output_type": "execute_result"
    }
   ],
   "source": [
    "list2=list2+[\"Panda\", \"Coyote\"]+[\"Butterfly\"]\n",
    "list2"
   ]
  },
  {
   "cell_type": "code",
   "execution_count": 156,
   "id": "e4773b7e",
   "metadata": {},
   "outputs": [
    {
     "data": {
      "text/plain": [
       "['Duck', 'Rabbit', 'Turtle']"
      ]
     },
     "execution_count": 156,
     "metadata": {},
     "output_type": "execute_result"
    }
   ],
   "source": [
    "# slice out the elements from index 2 to 4. [2 ~ n) 2~n-1\n",
    "list2[2:5]"
   ]
  },
  {
   "cell_type": "code",
   "execution_count": 161,
   "id": "820aa25f",
   "metadata": {},
   "outputs": [
    {
     "data": {
      "text/plain": [
       "4"
      ]
     },
     "execution_count": 161,
     "metadata": {},
     "output_type": "execute_result"
    }
   ],
   "source": [
    "# Count the number of occurrences of element in list\n",
    "list2.count(\"Coyote\")"
   ]
  },
  {
   "cell_type": "code",
   "execution_count": 163,
   "id": "a4126880",
   "metadata": {},
   "outputs": [
    {
     "data": {
      "text/plain": [
       "1"
      ]
     },
     "execution_count": 163,
     "metadata": {},
     "output_type": "execute_result"
    }
   ],
   "source": [
    "list2.count(\"Eagle\")"
   ]
  },
  {
   "cell_type": "code",
   "execution_count": 168,
   "id": "84a67929",
   "metadata": {},
   "outputs": [],
   "source": [
    "# Sort the list\n",
    "list2.sort()"
   ]
  },
  {
   "cell_type": "code",
   "execution_count": 169,
   "id": "fcda5fd3",
   "metadata": {},
   "outputs": [
    {
     "data": {
      "text/plain": [
       "['Butterfly',\n",
       " 'Butterfly',\n",
       " 'Cat',\n",
       " 'Coyote',\n",
       " 'Coyote',\n",
       " 'Coyote',\n",
       " 'Coyote',\n",
       " 'Dog',\n",
       " 'Duck',\n",
       " 'Eagle',\n",
       " 'Panda',\n",
       " 'Panda',\n",
       " 'Panda',\n",
       " 'Panda',\n",
       " 'Rabbit',\n",
       " 'Turtle']"
      ]
     },
     "execution_count": 169,
     "metadata": {},
     "output_type": "execute_result"
    }
   ],
   "source": [
    "list2"
   ]
  },
  {
   "cell_type": "code",
   "execution_count": 174,
   "id": "6835b9ee",
   "metadata": {},
   "outputs": [],
   "source": [
    "# Reverse the list\n",
    "list2.reverse()"
   ]
  },
  {
   "cell_type": "code",
   "execution_count": 173,
   "id": "bd5f8771",
   "metadata": {},
   "outputs": [
    {
     "data": {
      "text/plain": [
       "['Turtle',\n",
       " 'Rabbit',\n",
       " 'Panda',\n",
       " 'Panda',\n",
       " 'Panda',\n",
       " 'Panda',\n",
       " 'Eagle',\n",
       " 'Duck',\n",
       " 'Dog',\n",
       " 'Coyote',\n",
       " 'Coyote',\n",
       " 'Coyote',\n",
       " 'Coyote',\n",
       " 'Cat',\n",
       " 'Butterfly',\n",
       " 'Butterfly']"
      ]
     },
     "execution_count": 173,
     "metadata": {},
     "output_type": "execute_result"
    }
   ],
   "source": [
    "list2"
   ]
  },
  {
   "cell_type": "markdown",
   "id": "fee426a7",
   "metadata": {},
   "source": [
    "# 2. Dictionary"
   ]
  },
  {
   "cell_type": "code",
   "execution_count": null,
   "id": "bb1208c6",
   "metadata": {},
   "outputs": [],
   "source": []
  },
  {
   "cell_type": "markdown",
   "id": "7bb240d1",
   "metadata": {},
   "source": [
    "# 3. Tuple"
   ]
  },
  {
   "cell_type": "markdown",
   "id": "30f2f6fb",
   "metadata": {},
   "source": [
    "A Tuple is a collection of Python objects separated by commas."
   ]
  },
  {
   "cell_type": "markdown",
   "id": "bf4025c4",
   "metadata": {},
   "source": [
    "Tuple is similar to a List in terms of indexing, nested objects and repetition. but Tuple is immutable; List is mutable;"
   ]
  },
  {
   "cell_type": "markdown",
   "id": "42bf8a57",
   "metadata": {},
   "source": [
    "### 3.1 creation of tuple"
   ]
  },
  {
   "cell_type": "code",
   "execution_count": 72,
   "id": "e9eeaccf",
   "metadata": {},
   "outputs": [],
   "source": [
    "tup1 = ('physics', 'chemistry', 1997, 2000, 5, 7)"
   ]
  },
  {
   "cell_type": "code",
   "execution_count": 73,
   "id": "ae131dfc",
   "metadata": {},
   "outputs": [
    {
     "data": {
      "text/plain": [
       "('physics', 'chemistry', 1997, 2000, 5, 7)"
      ]
     },
     "execution_count": 73,
     "metadata": {},
     "output_type": "execute_result"
    }
   ],
   "source": [
    "tup1"
   ]
  },
  {
   "cell_type": "markdown",
   "id": "ab0bbef4",
   "metadata": {},
   "source": [
    "### 3.2 Convert an array to a tuple"
   ]
  },
  {
   "cell_type": "code",
   "execution_count": 74,
   "id": "a964e987",
   "metadata": {},
   "outputs": [],
   "source": [
    "# Convert a array to tuple\n",
    "tup2 = tuple([2,3,4,1,5,7,9,13])"
   ]
  },
  {
   "cell_type": "code",
   "execution_count": 75,
   "id": "e24ecccf",
   "metadata": {},
   "outputs": [
    {
     "data": {
      "text/plain": [
       "(2, 3, 4, 1, 5, 7, 9, 13)"
      ]
     },
     "execution_count": 75,
     "metadata": {},
     "output_type": "execute_result"
    }
   ],
   "source": [
    "tup2"
   ]
  },
  {
   "cell_type": "code",
   "execution_count": 52,
   "id": "d9760296",
   "metadata": {},
   "outputs": [
    {
     "name": "stdout",
     "output_type": "stream",
     "text": [
      "Tuple tup1 : ('physics', 'chemistry', 1997, 2000, 5, 7)\n",
      "Tuple tup2 : (2, 3, 4, 1, 5, 7, 9, 13)\n"
     ]
    }
   ],
   "source": [
    "print(\"Tuple tup1 : {}\".format(tup1))\n",
    "print(\"Tuple tup2 : {}\".format(tup2))"
   ]
  },
  {
   "cell_type": "code",
   "execution_count": 53,
   "id": "657ffa74",
   "metadata": {},
   "outputs": [
    {
     "name": "stdout",
     "output_type": "stream",
     "text": [
      "Tuple tup1's 3rd element is 1997\n",
      "Tuple tup2's 4th element is 1\n"
     ]
    }
   ],
   "source": [
    "print(\"Tuple tup1's 3rd element is {}\".format(tup1[2]))\n",
    "print(\"Tuple tup2's 4th element is {}\".format(tup2[3]))"
   ]
  },
  {
   "cell_type": "markdown",
   "id": "3a3fee04",
   "metadata": {},
   "source": [
    "### 3.3 Get Tuple Length"
   ]
  },
  {
   "cell_type": "code",
   "execution_count": 54,
   "id": "4a1965c5",
   "metadata": {},
   "outputs": [
    {
     "data": {
      "text/plain": [
       "6"
      ]
     },
     "execution_count": 54,
     "metadata": {},
     "output_type": "execute_result"
    }
   ],
   "source": [
    "# Get the size of a Tuple\n",
    "len(tup1)"
   ]
  },
  {
   "cell_type": "code",
   "execution_count": 55,
   "id": "59d6b23e",
   "metadata": {},
   "outputs": [
    {
     "data": {
      "text/plain": [
       "8"
      ]
     },
     "execution_count": 55,
     "metadata": {},
     "output_type": "execute_result"
    }
   ],
   "source": [
    "len(tup2)"
   ]
  },
  {
   "cell_type": "markdown",
   "id": "97e2b037",
   "metadata": {},
   "source": [
    "### 3.4 Concatenation"
   ]
  },
  {
   "cell_type": "code",
   "execution_count": 56,
   "id": "411cbc5d",
   "metadata": {},
   "outputs": [],
   "source": [
    "# Concatenation \n",
    "tup3 = tup1+tup2\n",
    "tup4 = tup2+tup1"
   ]
  },
  {
   "cell_type": "code",
   "execution_count": 57,
   "id": "1d368efd",
   "metadata": {},
   "outputs": [
    {
     "data": {
      "text/plain": [
       "('physics', 'chemistry', 1997, 2000, 5, 7, 2, 3, 4, 1, 5, 7, 9, 13)"
      ]
     },
     "execution_count": 57,
     "metadata": {},
     "output_type": "execute_result"
    }
   ],
   "source": [
    "tup3"
   ]
  },
  {
   "cell_type": "code",
   "execution_count": 58,
   "id": "323e1186",
   "metadata": {},
   "outputs": [
    {
     "data": {
      "text/plain": [
       "(2, 3, 4, 1, 5, 7, 9, 13, 'physics', 'chemistry', 1997, 2000, 5, 7)"
      ]
     },
     "execution_count": 58,
     "metadata": {},
     "output_type": "execute_result"
    }
   ],
   "source": [
    "tup4"
   ]
  },
  {
   "cell_type": "markdown",
   "id": "cdc186eb",
   "metadata": {},
   "source": [
    "### 3.5 Tuple Comparisom "
   ]
  },
  {
   "cell_type": "code",
   "execution_count": 64,
   "id": "94fee94e",
   "metadata": {},
   "outputs": [],
   "source": [
    "# Find common part (intersection) between two Tuples"
   ]
  },
  {
   "cell_type": "code",
   "execution_count": 65,
   "id": "2aa669d6",
   "metadata": {},
   "outputs": [],
   "source": [
    "tup1_as_set = set(tup1)\n",
    "tup2_as_set = set(tup2)"
   ]
  },
  {
   "cell_type": "code",
   "execution_count": 66,
   "id": "986cc5d4",
   "metadata": {},
   "outputs": [],
   "source": [
    "intersection=tup1_as_set.intersection(tup2_as_set)"
   ]
  },
  {
   "cell_type": "code",
   "execution_count": 67,
   "id": "fc31b036",
   "metadata": {},
   "outputs": [
    {
     "data": {
      "text/plain": [
       "{5, 7}"
      ]
     },
     "execution_count": 67,
     "metadata": {},
     "output_type": "execute_result"
    }
   ],
   "source": [
    "intersection"
   ]
  },
  {
   "cell_type": "code",
   "execution_count": 69,
   "id": "d1bc2463",
   "metadata": {},
   "outputs": [
    {
     "name": "stdout",
     "output_type": "stream",
     "text": [
      "[5, 7]\n"
     ]
    }
   ],
   "source": [
    "intersection_as_list = list(intersection)\n",
    "print(intersection_as_list)"
   ]
  },
  {
   "cell_type": "markdown",
   "id": "5b4469a2",
   "metadata": {},
   "source": [
    "### 3.6 Tuple Subtraction"
   ]
  },
  {
   "cell_type": "markdown",
   "id": "a097b73f",
   "metadata": {},
   "source": [
    "Only numerical elements can perform subtraction operation"
   ]
  },
  {
   "cell_type": "code",
   "execution_count": 81,
   "id": "0ad50efc",
   "metadata": {},
   "outputs": [
    {
     "name": "stdout",
     "output_type": "stream",
     "text": [
      "The first tuple is : \n",
      "(7, 8, 11, 0, 3)\n",
      "The second tuple is : \n",
      "(3, 2, 22, 45, 12, 9)\n",
      "The tuple after subtraction is : \n",
      "(4, 6, -11, -45, -9)\n"
     ]
    }
   ],
   "source": [
    "my_tuple_1 = tuple([7, 8, 11, 0 ,3])\n",
    "my_tuple_2 = tuple([3, 2, 22, 45, 12, 9])\n",
    "\n",
    "print (\"The first tuple is : \" )\n",
    "print(my_tuple_1)\n",
    "print (\"The second tuple is : \" )\n",
    "print(my_tuple_2)\n",
    "\n",
    "my_result = tuple(map(lambda i, j: i - j, my_tuple_1, my_tuple_2))\n",
    "\n",
    "print(\"The tuple after subtraction is : \" )\n",
    "print(my_result)"
   ]
  },
  {
   "cell_type": "code",
   "execution_count": 29,
   "id": "7a1890e7",
   "metadata": {},
   "outputs": [
    {
     "name": "stdout",
     "output_type": "stream",
     "text": [
      "chemistry present in tup1 ? : True\n",
      "chemistry present in tup2 ? : False\n",
      "\n"
     ]
    }
   ],
   "source": [
    "# Membership\n",
    "print(\"chemistry present in tup1 ? : {}\".format('chemistry' in tup1))\n",
    "print(\"chemistry present in tup2 ? : {}\\n\".format('chemistry' in tup2))"
   ]
  },
  {
   "cell_type": "code",
   "execution_count": 35,
   "id": "013b12f0",
   "metadata": {},
   "outputs": [],
   "source": [
    "membership_p = 'physics' in tup1"
   ]
  },
  {
   "cell_type": "code",
   "execution_count": 36,
   "id": "dc6c010d",
   "metadata": {},
   "outputs": [
    {
     "data": {
      "text/plain": [
       "True"
      ]
     },
     "execution_count": 36,
     "metadata": {},
     "output_type": "execute_result"
    }
   ],
   "source": [
    "membership_p"
   ]
  },
  {
   "cell_type": "code",
   "execution_count": 38,
   "id": "66bc95bb",
   "metadata": {},
   "outputs": [],
   "source": [
    "membership_7 = '7' in tup2"
   ]
  },
  {
   "cell_type": "code",
   "execution_count": 39,
   "id": "5a40ff0f",
   "metadata": {},
   "outputs": [
    {
     "data": {
      "text/plain": [
       "False"
      ]
     },
     "execution_count": 39,
     "metadata": {},
     "output_type": "execute_result"
    }
   ],
   "source": [
    "membership_7"
   ]
  },
  {
   "cell_type": "markdown",
   "id": "dc7df15b",
   "metadata": {},
   "source": [
    "# 4. Set"
   ]
  },
  {
   "cell_type": "code",
   "execution_count": null,
   "id": "d40b9015",
   "metadata": {},
   "outputs": [],
   "source": []
  }
 ],
 "metadata": {
  "kernelspec": {
   "display_name": "Python 3",
   "language": "python",
   "name": "python3"
  },
  "language_info": {
   "codemirror_mode": {
    "name": "ipython",
    "version": 3
   },
   "file_extension": ".py",
   "mimetype": "text/x-python",
   "name": "python",
   "nbconvert_exporter": "python",
   "pygments_lexer": "ipython3",
   "version": "3.8.3"
  }
 },
 "nbformat": 4,
 "nbformat_minor": 5
}
